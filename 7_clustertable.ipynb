{
 "cells": [
  {
   "cell_type": "markdown",
   "metadata": {},
   "source": [
    "# Create Cluster table \n",
    "\n",
    "\n",
    "Generating cluster tables in \"Neural predictors of fear depend on the situation\"\n",
    "\n",
    "Preprint at https://www.biorxiv.org/content/10.1101/2022.10.20.513114v1\n",
    "\n",
    "*Yiyu Wang 2023/12/06*"
   ]
  },
  {
   "cell_type": "code",
   "execution_count": 1,
   "metadata": {},
   "outputs": [
    {
     "name": "stderr",
     "output_type": "stream",
     "text": [
      "/Users/yiyuwang/anaconda3/lib/python3.7/site-packages/nilearn/datasets/__init__.py:96: FutureWarning: Fetchers from the nilearn.datasets module will be updated in version 0.9 to return python strings instead of bytes and Pandas dataframes instead of Numpy arrays.\n",
      "  \"Numpy arrays.\", FutureWarning)\n"
     ]
    }
   ],
   "source": [
    "import glob\n",
    "import os\n",
    "import numpy as np\n",
    "import pandas as pd\n",
    "import nibabel as nib\n",
    "import matplotlib.pyplot as plt\n",
    "import matplotlib\n",
    "import warnings\n",
    "\n",
    "# stats\n",
    "from scipy import linalg, ndimage, stats\n",
    "from scipy.stats import norm\n",
    "\n",
    "# nifti handling\n",
    "from nilearn.input_data import NiftiMasker\n",
    "from nilearn import decoding\n",
    "from nilearn.masking import apply_mask, intersect_masks\n",
    "from nilearn import image\n",
    "from nilearn.image import new_img_like, load_img, get_data, concat_imgs, mean_img,math_img\n",
    "from nilearn.reporting import get_clusters_table\n",
    "from nilearn.glm import threshold_stats_img\n",
    "from nilearn import surface\n",
    "\n",
    "# nilearn mask:\n",
    "from nilearn.datasets import load_mni152_gm_mask,load_mni152_wm_mask,fetch_surf_fsaverage\n",
    "\n",
    "\n",
    "# plotting modules\n",
    "from nilearn import plotting\n",
    "from nilearn.plotting import plot_stat_map, plot_prob_atlas, plot_img, show\n",
    "from nilearn.image import threshold_img\n",
    "from nilearn.plotting import plot_roi\n",
    "from nilearn import surface\n",
    "fsaverage = fetch_surf_fsaverage()\n",
    "\n",
    "warnings.filterwarnings('ignore')"
   ]
  },
  {
   "cell_type": "code",
   "execution_count": 2,
   "metadata": {},
   "outputs": [],
   "source": [
    "permutation_test_res_dir = 'results/permutation_test/'\n",
    "\n"
   ]
  },
  {
   "cell_type": "code",
   "execution_count": 3,
   "metadata": {},
   "outputs": [],
   "source": [
    "# load maps:\n",
    "\n",
    "\n",
    "\n",
    "AS_byNum = nib.load(permutation_test_res_dir + 'AS_overlay_byNum.nii.gz')\n",
    "AS_bySit = nib.load(permutation_test_res_dir + 'AS_overlay_bySit.nii.gz')\n",
    "\n",
    "SS_byNum = nib.load(permutation_test_res_dir + 'SS_overlay_byNum.nii.gz')\n",
    "SS_bySit = nib.load(permutation_test_res_dir + 'SS_overlay_bySit.nii.gz')\n",
    "\n",
    "\n",
    "\n"
   ]
  },
  {
   "cell_type": "code",
   "execution_count": 5,
   "metadata": {},
   "outputs": [
    {
     "data": {
      "text/plain": [
       "<nilearn.plotting.displays.OrthoSlicer at 0x7fb8e0832fd0>"
      ]
     },
     "execution_count": 5,
     "metadata": {},
     "output_type": "execute_result"
    },
    {
     "data": {
      "image/png": "[encoded data removed]",
      "text/plain": [
       "<Figure size 475.2x187.2 with 4 Axes>"
      ]
     },
     "metadata": {},
     "output_type": "display_data"
    }
   ],
   "source": [
    "# use the byNum as mask of the situation general areas\n",
    "\n",
    "\n",
    "# binarize AS_byNum:\n",
    "\n",
    "AS_sitgen_areas_mask = math_img('img==3', img=AS_byNum)\n",
    "SS_sitgen_areas_mask = math_img('img==3', img=SS_byNum)\n",
    "\n",
    "# quick visualize:\n",
    "plot_img(SS_sitgen_areas_mask)"
   ]
  },
  {
   "cell_type": "markdown",
   "metadata": {},
   "source": [
    "# # extract the raw r values using the mask \n",
    "# - use the max r values among the three situations\n",
    "# convert the r values to z?\n",
    "\n",
    "1. load the three situation maps\n",
    "2. mask all three to extract the r values \n",
    "\n"
   ]
  },
  {
   "cell_type": "code",
   "execution_count": null,
   "metadata": {},
   "outputs": [],
   "source": [
    "# calculate the center, extract the XYZ coordinates, and the k-extent\n",
    "\n",
    "\n"
   ]
  },
  {
   "cell_type": "code",
   "execution_count": null,
   "metadata": {},
   "outputs": [],
   "source": [
    "# tabulate the ROI name, MNI-x, MNI-y, MNI-z, stats (r value), k-extent"
   ]
  },
  {
   "cell_type": "code",
   "execution_count": null,
   "metadata": {},
   "outputs": [],
   "source": []
  },
  {
   "cell_type": "code",
   "execution_count": null,
   "metadata": {},
   "outputs": [],
   "source": []
  },
  {
   "cell_type": "code",
   "execution_count": null,
   "metadata": {},
   "outputs": [],
   "source": []
  },
  {
   "cell_type": "code",
   "execution_count": null,
   "metadata": {},
   "outputs": [],
   "source": []
  }
 ],
 "metadata": {
  "kernelspec": {
   "display_name": "Python 3",
   "language": "python",
   "name": "python3"
  },
  "language_info": {
   "codemirror_mode": {
    "name": "ipython",
    "version": 3
   },
   "file_extension": ".py",
   "mimetype": "text/x-python",
   "name": "python",
   "nbconvert_exporter": "python",
   "pygments_lexer": "ipython3",
   "version": "3.7.4"
  }
 },
 "nbformat": 4,
 "nbformat_minor": 2
}
