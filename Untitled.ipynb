{
 "cells": [
  {
   "cell_type": "code",
   "execution_count": 2,
   "metadata": {},
   "outputs": [
    {
     "name": "stderr",
     "output_type": "stream",
     "text": [
      "/Users/yiyuwang/anaconda3/lib/python3.7/site-packages/nilearn/__init__.py:67: FutureWarning: Python 3.7 support is deprecated and will be removed in release 0.12 of Nilearn. Consider switching to Python 3.9 or 3.10.\n",
      "  _python_deprecation_warnings()\n",
      "/Users/yiyuwang/anaconda3/lib/python3.7/site-packages/nilearn/input_data/__init__.py:23: FutureWarning: The import path 'nilearn.input_data' is deprecated in version 0.9. Importing from 'nilearn.input_data' will be possible at least until release 0.13.0. Please import from 'nilearn.maskers' instead.\n",
      "  warnings.warn(message, FutureWarning)\n"
     ]
    }
   ],
   "source": [
    "import glob\n",
    "import os\n",
    "import numpy as np\n",
    "import pandas as pd\n",
    "import nibabel as nib\n",
    "import matplotlib.pyplot as plt\n",
    "import matplotlib\n",
    "import warnings\n",
    "\n",
    "# stats\n",
    "from scipy import linalg, ndimage, stats\n",
    "from scipy.stats import norm\n",
    "\n",
    "# nifti handling\n",
    "from nilearn.input_data import NiftiMasker\n",
    "from nilearn import decoding\n",
    "from nilearn.masking import apply_mask, intersect_masks\n",
    "from nilearn import image\n",
    "from nilearn.image import new_img_like, load_img, get_data, concat_imgs, mean_img,math_img\n",
    "from nilearn.reporting import get_clusters_table\n",
    "from nilearn.glm import threshold_stats_img\n",
    "from nilearn import surface\n",
    "\n",
    "# nilearn mask:\n",
    "from nilearn.datasets import load_mni152_gm_mask,load_mni152_wm_mask,fetch_surf_fsaverage\n",
    "\n",
    "\n",
    "# plotting modules\n",
    "from nilearn import plotting\n",
    "from nilearn.plotting import plot_stat_map, plot_prob_atlas, plot_img, show\n",
    "from nilearn.image import threshold_img\n",
    "from nilearn.plotting import plot_roi\n",
    "from nilearn import surface\n",
    "fsaverage = fetch_surf_fsaverage()\n",
    "\n",
    "warnings.filterwarnings('ignore')"
   ]
  },
  {
   "cell_type": "code",
   "execution_count": 4,
   "metadata": {},
   "outputs": [],
   "source": [
    "# check amygdala\n",
    "\n",
    "permutation_test_res_dir = 'results/permutation_test/'\n",
    "\n",
    "mask_dir = 'masks/'\n",
    "bg_img = mask_dir + 'MNI152_T1_1mm_brain.nii.gz'\n",
    "\n",
    "\n",
    "my_color_three = ['#1f77b4', '#9edae5', '#EF2D2E']\n",
    "color_padding_three =['#1f77b4', '#9edae5','#D3D3D3','#D3D3D3']\n",
    "my_cmap_three = matplotlib.colors.ListedColormap(color_padding_three + my_color_three)\n",
    "\n",
    "# my_color_seven = ['#42AC65','#9C6CC7', '#F39C12']\n",
    "my_color_seven = ['#33a02c', '#6a3d9a', '#ff7f00', '#b2df8a', '#FDF85E', '#DA83F8', '#EF2D2E']\n",
    "color_padding = [\"#fd7f6f\", \"#7eb0d5\", \"#ffee65\", \"#b2e061\", \"#bd7ebe\", \"#ffb55a\",\"#8bd3c7\",'#D3D3D3']\n",
    "my_cmap_seven = matplotlib.colors.ListedColormap(color_padding + my_color_seven)\n",
    "\n",
    "vmin = 0.01\n",
    "\n",
    "\n",
    "\n",
    "# load results:\n",
    "\n",
    "\n",
    "overlay = nib.load(permutation_test_res_dir + 'SS_overlay_byNum.nii.gz')\n",
    "overlay_by_sit = nib.load(permutation_test_res_dir + 'SS_overlay_bySit.nii.gz')\n",
    "\n"
   ]
  },
  {
   "cell_type": "code",
   "execution_count": null,
   "metadata": {},
   "outputs": [],
   "source": [
    "# amygdala mask:\n",
    "\n"
   ]
  }
 ],
 "metadata": {
  "kernelspec": {
   "display_name": "Python 3",
   "language": "python",
   "name": "python3"
  },
  "language_info": {
   "codemirror_mode": {
    "name": "ipython",
    "version": 3
   },
   "file_extension": ".py",
   "mimetype": "text/x-python",
   "name": "python",
   "nbconvert_exporter": "python",
   "pygments_lexer": "ipython3",
   "version": "3.7.4"
  }
 },
 "nbformat": 4,
 "nbformat_minor": 2
}
