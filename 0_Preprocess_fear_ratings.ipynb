{
 "cells": [
  {
   "cell_type": "markdown",
   "metadata": {},
   "source": [
    "# 0. Preprocess behavioral data\n",
    "1. Zscore within subject\n",
    "2. Interpolate missing data: for the missing video, find the percentile of the video in normative (group average) rating, and re-scale using the subject range\n",
    "3. Save csv\n",
    "\n",
    "*Yiyu Wang 2021 November*"
   ]
  },
  {
   "cell_type": "code",
   "execution_count": 1,
   "metadata": {},
   "outputs": [],
   "source": [
    "import os\n",
    "import glob\n",
    "import nibabel as nib\n",
    "import numpy as np\n",
    "import pandas as pd\n",
    "from scipy.stats import zscore\n",
    "\n",
    "import warnings\n",
    "warnings.filterwarnings('ignore')"
   ]
  },
  {
   "cell_type": "code",
   "execution_count": 2,
   "metadata": {},
   "outputs": [
    {
     "name": "stdout",
     "output_type": "stream",
     "text": [
      "['04', '05', '06', '07', '08', '09', '10', '11', '12', '13', '14', '15', '16', '17', '18', '19', '23', '25', '26', '28', '29']\n"
     ]
    }
   ],
   "source": [
    "\n",
    "# set up directories\n",
    "data_dir = \"logfiles\"\n",
    "behavdata_dir = 'BehavData'\n",
    "category = ['Heights','Social','Spider']\n",
    "\n",
    "# remove excluded runs:\n",
    "sub_id = pd.Series(['07', '14','23','26'])\n",
    "excluded_run = pd.DataFrame({'SUBID':sub_id, 'run':pd.Series([3,3,1,3])})\n",
    "\n",
    "\n",
    "# flip valence so that higher valence = negative; lower valence = positive\n",
    "# positive weight meaning predicting negative valence\n",
    "# negative weight meaning predicting positive valence\n",
    "\n",
    "# subject information\n",
    "\n",
    "subjects_list = ['04','05','06','07','08','09','10','11','12','13','14','15','16','17','18','19','23','25','26','28','29']\n",
    "print(subjects_list)\n",
    "\n",
    "\n",
    "\n",
    "logfile_headers =np.array(['video_name', 'run_number', 'video_category', 'experimenter_high_low', 'same_category_prior', \n",
    "                  'cue_onset','cue_offset', 'expected_fear', 'expected_fear_RT',\n",
    "                 'video_onset', 'video_offset', 'fear_rating', 'arousal_rating', 'valence_rating',\n",
    "                  'fear_rating_RT', 'arousal_rating_RT', 'valence_rating_RT'])\n",
    "\n",
    "save = True"
   ]
  },
  {
   "cell_type": "code",
   "execution_count": 3,
   "metadata": {},
   "outputs": [],
   "source": [
    "def interpolate_rating(norm_min, norm_max, norm_rating, sub_min, sub_max):\n",
    "    scale = norm_rating / (norm_max - norm_min) \n",
    "    sub_rating = scale * (sub_max - sub_min)\n",
    "    \n",
    "    return sub_rating\n",
    "\n",
    "\n",
    "def get_video_n(video_name):\n",
    "    # category\n",
    "    if video_name[0:2]=='he':\n",
    "        temp = 0\n",
    "    elif video_name[0:2] == 'so':\n",
    "        temp = 12\n",
    "    else:\n",
    "        temp = 24\n",
    "    num = video_name[-5:-4]\n",
    "    # high vs low\n",
    "    if video_name[-9:-7] == 'lo':\n",
    "        temp = temp + 6\n",
    "        \n",
    "    # social_high_4_replacement  \n",
    "    if num == 't':\n",
    "        temp = 16\n",
    "    else:\n",
    "        num = int(num)\n",
    "        temp = temp + num\n",
    "    return int(temp)\n",
    "\n",
    "def get_vcat(cn):\n",
    "    if cn == 1:\n",
    "        cat = 'Heights'\n",
    "\n",
    "    elif cn == 2:\n",
    "        cat = 'Social'\n",
    "\n",
    "    elif cn == 3:\n",
    "        cat = 'Spiders'\n",
    "    else:\n",
    "        print('no such category number!')\n",
    "    return cat \n",
    "\n",
    "def parse_task_lines(sub_id, lines, headers):\n",
    "    for (i, line) in enumerate(lines):\n",
    "        \n",
    "        cols = line.split(' ')\n",
    "        video_name = cols[int(np.where(headers == 'video_name')[0])]\n",
    "        video_number = get_video_n(video_name)\n",
    "        \n",
    "        category_number = int(cols[int(np.where(headers == 'video_category')[0])])\n",
    "        video_category = get_vcat(category_number)\n",
    "        \n",
    "        video_onset = float(cols[int(np.where(headers == 'video_onset')[0])])\n",
    "        video_offset = float(cols[int(np.where(headers == 'video_offset')[0])])  \n",
    "        video_duration = video_offset - video_onset\n",
    "\n",
    "        run = int(cols[int(np.where(headers == 'run_number')[0])])\n",
    "        expected_rating = abs(float(cols[int(np.where(headers == 'expected_fear')[0])]))\n",
    "        fear_rating = abs(float(cols[int(np.where(headers == 'fear_rating')[0])]))\n",
    "        arousal_rating = abs(float(cols[int(np.where(headers == 'arousal_rating')[0])]))\n",
    "        valence_rating = abs(float(cols[int(np.where(headers == 'valence_rating')[0])]))\n",
    "        \n",
    "        yield [sub_id, run, video_number, category_number, video_category, expected_rating, fear_rating, arousal_rating, valence_rating ]\n",
    "        \n"
   ]
  },
  {
   "cell_type": "code",
   "execution_count": 30,
   "metadata": {},
   "outputs": [
    {
     "data": {
      "text/html": [
       "<div>\n",
       "<style scoped>\n",
       "    .dataframe tbody tr th:only-of-type {\n",
       "        vertical-align: middle;\n",
       "    }\n",
       "\n",
       "    .dataframe tbody tr th {\n",
       "        vertical-align: top;\n",
       "    }\n",
       "\n",
       "    .dataframe thead th {\n",
       "        text-align: right;\n",
       "    }\n",
       "</style>\n",
       "<table border=\"1\" class=\"dataframe\">\n",
       "  <thead>\n",
       "    <tr style=\"text-align: right;\">\n",
       "      <th></th>\n",
       "      <th>sub_id</th>\n",
       "      <th>run</th>\n",
       "      <th>video_num</th>\n",
       "      <th>cat</th>\n",
       "      <th>expected_fear</th>\n",
       "      <th>fear</th>\n",
       "      <th>arousal</th>\n",
       "      <th>valence</th>\n",
       "      <th>PEfear</th>\n",
       "    </tr>\n",
       "  </thead>\n",
       "  <tbody>\n",
       "    <tr>\n",
       "      <th>0</th>\n",
       "      <td>16</td>\n",
       "      <td>1</td>\n",
       "      <td>16.0</td>\n",
       "      <td>Social</td>\n",
       "      <td>0.000</td>\n",
       "      <td>0.000</td>\n",
       "      <td>0.000</td>\n",
       "      <td>0.499</td>\n",
       "      <td>0.000</td>\n",
       "    </tr>\n",
       "    <tr>\n",
       "      <th>1</th>\n",
       "      <td>16</td>\n",
       "      <td>1</td>\n",
       "      <td>21.0</td>\n",
       "      <td>Social</td>\n",
       "      <td>0.000</td>\n",
       "      <td>0.000</td>\n",
       "      <td>0.132</td>\n",
       "      <td>0.683</td>\n",
       "      <td>0.000</td>\n",
       "    </tr>\n",
       "    <tr>\n",
       "      <th>2</th>\n",
       "      <td>16</td>\n",
       "      <td>1</td>\n",
       "      <td>13.0</td>\n",
       "      <td>Social</td>\n",
       "      <td>0.143</td>\n",
       "      <td>0.446</td>\n",
       "      <td>0.499</td>\n",
       "      <td>0.883</td>\n",
       "      <td>-0.303</td>\n",
       "    </tr>\n",
       "    <tr>\n",
       "      <th>3</th>\n",
       "      <td>16</td>\n",
       "      <td>1</td>\n",
       "      <td>1.0</td>\n",
       "      <td>Heights</td>\n",
       "      <td>0.000</td>\n",
       "      <td>0.000</td>\n",
       "      <td>0.727</td>\n",
       "      <td>0.503</td>\n",
       "      <td>0.000</td>\n",
       "    </tr>\n",
       "    <tr>\n",
       "      <th>4</th>\n",
       "      <td>16</td>\n",
       "      <td>1</td>\n",
       "      <td>26.0</td>\n",
       "      <td>Spiders</td>\n",
       "      <td>0.000</td>\n",
       "      <td>0.000</td>\n",
       "      <td>0.293</td>\n",
       "      <td>0.498</td>\n",
       "      <td>0.000</td>\n",
       "    </tr>\n",
       "  </tbody>\n",
       "</table>\n",
       "</div>"
      ],
      "text/plain": [
       "   sub_id run  video_num      cat  expected_fear   fear  arousal  valence  \\\n",
       "0      16   1       16.0   Social          0.000  0.000    0.000    0.499   \n",
       "1      16   1       21.0   Social          0.000  0.000    0.132    0.683   \n",
       "2      16   1       13.0   Social          0.143  0.446    0.499    0.883   \n",
       "3      16   1        1.0  Heights          0.000  0.000    0.727    0.503   \n",
       "4      16   1       26.0  Spiders          0.000  0.000    0.293    0.498   \n",
       "\n",
       "   PEfear  \n",
       "0   0.000  \n",
       "1   0.000  \n",
       "2  -0.303  \n",
       "3   0.000  \n",
       "4   0.000  "
      ]
     },
     "execution_count": 30,
     "metadata": {},
     "output_type": "execute_result"
    }
   ],
   "source": [
    "# create data frame that contains all subjects' ratings\n",
    "df_all = pd.DataFrame()\n",
    "ratings = pd.DataFrame()\n",
    "vnlist = []\n",
    "for logfiles in glob.glob(data_dir +'/*.txt'):\n",
    "    df = np.loadtxt(logfiles,skiprows=1,dtype =str)\n",
    "    df = pd.DataFrame(df)\n",
    "    \n",
    "    sub_id = logfiles[-13:-11]\n",
    "    # fix subject number\n",
    "    if sub_id[0] =='_':\n",
    "        sub_id = list(sub_id)\n",
    "        sub_id[0] = '0'      \n",
    "        sub_id = \"\".join(sub_id)       \n",
    "    sub_id = pd.to_numeric(sub_id)\n",
    "    \n",
    "    #store video name\n",
    "    vn = pd.DataFrame(columns=['sub_id','run','video_num', 'cat']) \n",
    "    for v in range(0,36):\n",
    "        video_num = get_video_n(df.iloc[v,0])\n",
    "        vnlist.append(video_num)\n",
    "        vn.loc[v] = pd.Series({'video_num':video_num})\n",
    "        vn.loc[v,'run'] =df.iloc[v,1]\n",
    "        \n",
    "        category_number_col_index = int(np.where(logfile_headers == 'video_category')[0])\n",
    "        category_number = int(df.iloc[v, category_number_col_index])\n",
    "        vn.loc[v,'cat'] = get_vcat(category_number)\n",
    "        \n",
    "        \n",
    "    vn['sub_id'] = sub_id\n",
    "    \n",
    "\n",
    "    ratings = pd.DataFrame(df.iloc[0:36,[7,11,12,13]])\n",
    "    ratings.columns = ['expected_fear','fear','arousal','valence']\n",
    "    \n",
    "    # data frame with rating for each subject\n",
    "    df_sub = pd.concat([vn,ratings],axis = 1)\n",
    "    df_all = pd.concat([df_all, df_sub],axis = 0, ignore_index=True)\n",
    "    \n",
    "\n",
    "\n",
    "    \n",
    "df_all['expected_fear'] = pd.to_numeric(df_all['expected_fear'], errors='coerce')\n",
    "df_all['fear'] = pd.to_numeric(df_all['fear'], errors='coerce')\n",
    "df_all['arousal'] = pd.to_numeric(df_all['arousal'], errors='coerce')\n",
    "df_all['valence'] = pd.to_numeric(df_all['valence'], errors='coerce')\n",
    "df_all['PEfear'] = df_all.apply(lambda row: row.expected_fear - row.fear, axis =1)\n",
    "df_all['cat'] = 'Social'\n",
    "df_all.loc[df_all.video_num < 13,'cat'] = 'Heights'\n",
    "df_all.loc[df_all.video_num > 24,'cat'] = 'Spiders'  \n",
    "df_all['cat'] =df_all['cat'].astype(str)\n",
    "\n",
    "\n",
    "# participant 19 had one fear rating of 1.12, reset to 1:\n",
    "df_all.loc[df_all.fear > 1,'fear'] = 1\n",
    "df_all.head()"
   ]
  },
  {
   "cell_type": "code",
   "execution_count": null,
   "metadata": {},
   "outputs": [],
   "source": []
  },
  {
   "cell_type": "code",
   "execution_count": 32,
   "metadata": {},
   "outputs": [
    {
     "data": {
      "text/plain": [
       "array(['Heights', 'Heights', 'Heights', 'Heights', 'Heights', 'Heights',\n",
       "       'Heights', 'Heights', 'Heights', 'Heights', 'Heights', 'Heights',\n",
       "       'Social', 'Social', 'Social', 'Social', 'Social', 'Social',\n",
       "       'Social', 'Social', 'Social', 'Social', 'Social', 'Social',\n",
       "       'Spiders', 'Spiders', 'Spiders', 'Spiders', 'Spiders', 'Spiders',\n",
       "       'Spiders', 'Spiders', 'Spiders', 'Spiders', 'Spiders', 'Spiders'],\n",
       "      dtype=object)"
      ]
     },
     "execution_count": 32,
     "metadata": {},
     "output_type": "execute_result"
    }
   ],
   "source": [
    "cat_col = df_sub.sort_values(by='video_num').reset_index()\n",
    "cat_col = cat_col['cat'].values\n",
    "cat_col"
   ]
  },
  {
   "cell_type": "code",
   "execution_count": 33,
   "metadata": {},
   "outputs": [
    {
     "data": {
      "text/html": [
       "<div>\n",
       "<style scoped>\n",
       "    .dataframe tbody tr th:only-of-type {\n",
       "        vertical-align: middle;\n",
       "    }\n",
       "\n",
       "    .dataframe tbody tr th {\n",
       "        vertical-align: top;\n",
       "    }\n",
       "\n",
       "    .dataframe thead th {\n",
       "        text-align: right;\n",
       "    }\n",
       "</style>\n",
       "<table border=\"1\" class=\"dataframe\">\n",
       "  <thead>\n",
       "    <tr style=\"text-align: right;\">\n",
       "      <th></th>\n",
       "      <th>video_num</th>\n",
       "      <th>expected_fear</th>\n",
       "      <th>fear</th>\n",
       "      <th>arousal</th>\n",
       "      <th>valence</th>\n",
       "      <th>PEFear</th>\n",
       "      <th>sem_PredFear</th>\n",
       "      <th>sem_fear</th>\n",
       "      <th>sem_arousal</th>\n",
       "      <th>sem_valence</th>\n",
       "      <th>sem_PEFear</th>\n",
       "      <th>std_PredFear</th>\n",
       "      <th>std_fear</th>\n",
       "      <th>std_arousal</th>\n",
       "      <th>std_valence</th>\n",
       "      <th>std_PEFear</th>\n",
       "      <th>cat</th>\n",
       "    </tr>\n",
       "  </thead>\n",
       "  <tbody>\n",
       "    <tr>\n",
       "      <th>0</th>\n",
       "      <td>1.0</td>\n",
       "      <td>0.401238</td>\n",
       "      <td>0.697158</td>\n",
       "      <td>0.720000</td>\n",
       "      <td>0.244905</td>\n",
       "      <td>-0.272105</td>\n",
       "      <td>0.068580</td>\n",
       "      <td>0.077004</td>\n",
       "      <td>0.053054</td>\n",
       "      <td>0.044518</td>\n",
       "      <td>0.063164</td>\n",
       "      <td>0.314275</td>\n",
       "      <td>0.335655</td>\n",
       "      <td>0.243124</td>\n",
       "      <td>0.204008</td>\n",
       "      <td>0.275325</td>\n",
       "      <td>Heights</td>\n",
       "    </tr>\n",
       "    <tr>\n",
       "      <th>1</th>\n",
       "      <td>2.0</td>\n",
       "      <td>0.449619</td>\n",
       "      <td>0.744333</td>\n",
       "      <td>0.720238</td>\n",
       "      <td>0.283286</td>\n",
       "      <td>-0.294714</td>\n",
       "      <td>0.070341</td>\n",
       "      <td>0.056265</td>\n",
       "      <td>0.049566</td>\n",
       "      <td>0.047585</td>\n",
       "      <td>0.061743</td>\n",
       "      <td>0.322344</td>\n",
       "      <td>0.257838</td>\n",
       "      <td>0.227141</td>\n",
       "      <td>0.218060</td>\n",
       "      <td>0.282941</td>\n",
       "      <td>Heights</td>\n",
       "    </tr>\n",
       "    <tr>\n",
       "      <th>2</th>\n",
       "      <td>3.0</td>\n",
       "      <td>0.427778</td>\n",
       "      <td>0.798850</td>\n",
       "      <td>0.800800</td>\n",
       "      <td>0.199684</td>\n",
       "      <td>-0.398833</td>\n",
       "      <td>0.073449</td>\n",
       "      <td>0.056483</td>\n",
       "      <td>0.057805</td>\n",
       "      <td>0.047225</td>\n",
       "      <td>0.069042</td>\n",
       "      <td>0.311617</td>\n",
       "      <td>0.252599</td>\n",
       "      <td>0.258511</td>\n",
       "      <td>0.205850</td>\n",
       "      <td>0.292922</td>\n",
       "      <td>Heights</td>\n",
       "    </tr>\n",
       "    <tr>\n",
       "      <th>3</th>\n",
       "      <td>4.0</td>\n",
       "      <td>0.423000</td>\n",
       "      <td>0.655700</td>\n",
       "      <td>0.718048</td>\n",
       "      <td>0.343143</td>\n",
       "      <td>-0.196944</td>\n",
       "      <td>0.073995</td>\n",
       "      <td>0.069076</td>\n",
       "      <td>0.053847</td>\n",
       "      <td>0.060041</td>\n",
       "      <td>0.057161</td>\n",
       "      <td>0.322537</td>\n",
       "      <td>0.308919</td>\n",
       "      <td>0.246759</td>\n",
       "      <td>0.275142</td>\n",
       "      <td>0.242515</td>\n",
       "      <td>Heights</td>\n",
       "    </tr>\n",
       "    <tr>\n",
       "      <th>4</th>\n",
       "      <td>5.0</td>\n",
       "      <td>0.387150</td>\n",
       "      <td>0.681524</td>\n",
       "      <td>0.753524</td>\n",
       "      <td>0.367800</td>\n",
       "      <td>-0.285050</td>\n",
       "      <td>0.068237</td>\n",
       "      <td>0.059539</td>\n",
       "      <td>0.053114</td>\n",
       "      <td>0.048533</td>\n",
       "      <td>0.056889</td>\n",
       "      <td>0.305165</td>\n",
       "      <td>0.272843</td>\n",
       "      <td>0.243400</td>\n",
       "      <td>0.217048</td>\n",
       "      <td>0.254415</td>\n",
       "      <td>Heights</td>\n",
       "    </tr>\n",
       "    <tr>\n",
       "      <th>5</th>\n",
       "      <td>6.0</td>\n",
       "      <td>0.431150</td>\n",
       "      <td>0.683095</td>\n",
       "      <td>0.776762</td>\n",
       "      <td>0.309190</td>\n",
       "      <td>-0.241200</td>\n",
       "      <td>0.068274</td>\n",
       "      <td>0.054079</td>\n",
       "      <td>0.033662</td>\n",
       "      <td>0.046326</td>\n",
       "      <td>0.051584</td>\n",
       "      <td>0.305329</td>\n",
       "      <td>0.247820</td>\n",
       "      <td>0.154257</td>\n",
       "      <td>0.212291</td>\n",
       "      <td>0.230691</td>\n",
       "      <td>Heights</td>\n",
       "    </tr>\n",
       "    <tr>\n",
       "      <th>6</th>\n",
       "      <td>7.0</td>\n",
       "      <td>0.450250</td>\n",
       "      <td>0.161400</td>\n",
       "      <td>0.359800</td>\n",
       "      <td>0.685857</td>\n",
       "      <td>0.278053</td>\n",
       "      <td>0.076976</td>\n",
       "      <td>0.046509</td>\n",
       "      <td>0.059659</td>\n",
       "      <td>0.051863</td>\n",
       "      <td>0.063934</td>\n",
       "      <td>0.344249</td>\n",
       "      <td>0.207996</td>\n",
       "      <td>0.266805</td>\n",
       "      <td>0.237665</td>\n",
       "      <td>0.278684</td>\n",
       "      <td>Heights</td>\n",
       "    </tr>\n",
       "    <tr>\n",
       "      <th>7</th>\n",
       "      <td>8.0</td>\n",
       "      <td>0.477050</td>\n",
       "      <td>0.091190</td>\n",
       "      <td>0.347700</td>\n",
       "      <td>0.753952</td>\n",
       "      <td>0.381300</td>\n",
       "      <td>0.067604</td>\n",
       "      <td>0.024225</td>\n",
       "      <td>0.058899</td>\n",
       "      <td>0.041869</td>\n",
       "      <td>0.061046</td>\n",
       "      <td>0.302335</td>\n",
       "      <td>0.111015</td>\n",
       "      <td>0.263405</td>\n",
       "      <td>0.191866</td>\n",
       "      <td>0.273005</td>\n",
       "      <td>Heights</td>\n",
       "    </tr>\n",
       "    <tr>\n",
       "      <th>8</th>\n",
       "      <td>9.0</td>\n",
       "      <td>0.468381</td>\n",
       "      <td>0.114263</td>\n",
       "      <td>0.332550</td>\n",
       "      <td>0.753450</td>\n",
       "      <td>0.349053</td>\n",
       "      <td>0.065935</td>\n",
       "      <td>0.037508</td>\n",
       "      <td>0.063697</td>\n",
       "      <td>0.048207</td>\n",
       "      <td>0.062250</td>\n",
       "      <td>0.302152</td>\n",
       "      <td>0.163492</td>\n",
       "      <td>0.284861</td>\n",
       "      <td>0.215587</td>\n",
       "      <td>0.271342</td>\n",
       "      <td>Heights</td>\n",
       "    </tr>\n",
       "    <tr>\n",
       "      <th>9</th>\n",
       "      <td>10.0</td>\n",
       "      <td>0.463000</td>\n",
       "      <td>0.221950</td>\n",
       "      <td>0.544667</td>\n",
       "      <td>0.641333</td>\n",
       "      <td>0.248000</td>\n",
       "      <td>0.067726</td>\n",
       "      <td>0.049027</td>\n",
       "      <td>0.053810</td>\n",
       "      <td>0.055782</td>\n",
       "      <td>0.063680</td>\n",
       "      <td>0.310360</td>\n",
       "      <td>0.219257</td>\n",
       "      <td>0.246590</td>\n",
       "      <td>0.255626</td>\n",
       "      <td>0.284784</td>\n",
       "      <td>Heights</td>\n",
       "    </tr>\n",
       "    <tr>\n",
       "      <th>10</th>\n",
       "      <td>11.0</td>\n",
       "      <td>0.485050</td>\n",
       "      <td>0.193952</td>\n",
       "      <td>0.405857</td>\n",
       "      <td>0.651400</td>\n",
       "      <td>0.287850</td>\n",
       "      <td>0.077067</td>\n",
       "      <td>0.051026</td>\n",
       "      <td>0.059458</td>\n",
       "      <td>0.060930</td>\n",
       "      <td>0.072115</td>\n",
       "      <td>0.344653</td>\n",
       "      <td>0.233830</td>\n",
       "      <td>0.272470</td>\n",
       "      <td>0.272486</td>\n",
       "      <td>0.322508</td>\n",
       "      <td>Heights</td>\n",
       "    </tr>\n",
       "    <tr>\n",
       "      <th>11</th>\n",
       "      <td>12.0</td>\n",
       "      <td>0.449571</td>\n",
       "      <td>0.263053</td>\n",
       "      <td>0.582400</td>\n",
       "      <td>0.701000</td>\n",
       "      <td>0.173632</td>\n",
       "      <td>0.068872</td>\n",
       "      <td>0.060372</td>\n",
       "      <td>0.054392</td>\n",
       "      <td>0.064638</td>\n",
       "      <td>0.056939</td>\n",
       "      <td>0.315612</td>\n",
       "      <td>0.263155</td>\n",
       "      <td>0.243248</td>\n",
       "      <td>0.281751</td>\n",
       "      <td>0.248192</td>\n",
       "      <td>Heights</td>\n",
       "    </tr>\n",
       "    <tr>\n",
       "      <th>12</th>\n",
       "      <td>13.0</td>\n",
       "      <td>0.172500</td>\n",
       "      <td>0.288650</td>\n",
       "      <td>0.613714</td>\n",
       "      <td>0.741762</td>\n",
       "      <td>-0.095895</td>\n",
       "      <td>0.030730</td>\n",
       "      <td>0.051944</td>\n",
       "      <td>0.060875</td>\n",
       "      <td>0.049290</td>\n",
       "      <td>0.041035</td>\n",
       "      <td>0.137427</td>\n",
       "      <td>0.232300</td>\n",
       "      <td>0.278964</td>\n",
       "      <td>0.225875</td>\n",
       "      <td>0.178869</td>\n",
       "      <td>Social</td>\n",
       "    </tr>\n",
       "    <tr>\n",
       "      <th>13</th>\n",
       "      <td>14.0</td>\n",
       "      <td>0.217143</td>\n",
       "      <td>0.534476</td>\n",
       "      <td>0.653952</td>\n",
       "      <td>0.188952</td>\n",
       "      <td>-0.317333</td>\n",
       "      <td>0.036652</td>\n",
       "      <td>0.055905</td>\n",
       "      <td>0.054709</td>\n",
       "      <td>0.039605</td>\n",
       "      <td>0.057343</td>\n",
       "      <td>0.167961</td>\n",
       "      <td>0.256189</td>\n",
       "      <td>0.250709</td>\n",
       "      <td>0.181493</td>\n",
       "      <td>0.262778</td>\n",
       "      <td>Social</td>\n",
       "    </tr>\n",
       "    <tr>\n",
       "      <th>14</th>\n",
       "      <td>15.0</td>\n",
       "      <td>0.281905</td>\n",
       "      <td>0.416158</td>\n",
       "      <td>0.603476</td>\n",
       "      <td>0.430700</td>\n",
       "      <td>-0.155632</td>\n",
       "      <td>0.041431</td>\n",
       "      <td>0.072301</td>\n",
       "      <td>0.047392</td>\n",
       "      <td>0.062726</td>\n",
       "      <td>0.086850</td>\n",
       "      <td>0.189863</td>\n",
       "      <td>0.315152</td>\n",
       "      <td>0.217175</td>\n",
       "      <td>0.280518</td>\n",
       "      <td>0.378572</td>\n",
       "      <td>Social</td>\n",
       "    </tr>\n",
       "    <tr>\n",
       "      <th>15</th>\n",
       "      <td>16.0</td>\n",
       "      <td>0.215524</td>\n",
       "      <td>0.625550</td>\n",
       "      <td>0.628952</td>\n",
       "      <td>0.193905</td>\n",
       "      <td>-0.402100</td>\n",
       "      <td>0.041368</td>\n",
       "      <td>0.072469</td>\n",
       "      <td>0.060706</td>\n",
       "      <td>0.040802</td>\n",
       "      <td>0.071570</td>\n",
       "      <td>0.189570</td>\n",
       "      <td>0.324091</td>\n",
       "      <td>0.278192</td>\n",
       "      <td>0.186977</td>\n",
       "      <td>0.320072</td>\n",
       "      <td>Social</td>\n",
       "    </tr>\n",
       "    <tr>\n",
       "      <th>16</th>\n",
       "      <td>17.0</td>\n",
       "      <td>0.232450</td>\n",
       "      <td>0.303200</td>\n",
       "      <td>0.506050</td>\n",
       "      <td>0.534381</td>\n",
       "      <td>-0.065421</td>\n",
       "      <td>0.042757</td>\n",
       "      <td>0.067169</td>\n",
       "      <td>0.062425</td>\n",
       "      <td>0.046882</td>\n",
       "      <td>0.077245</td>\n",
       "      <td>0.191217</td>\n",
       "      <td>0.300390</td>\n",
       "      <td>0.279175</td>\n",
       "      <td>0.214839</td>\n",
       "      <td>0.336704</td>\n",
       "      <td>Social</td>\n",
       "    </tr>\n",
       "    <tr>\n",
       "      <th>17</th>\n",
       "      <td>18.0</td>\n",
       "      <td>0.233571</td>\n",
       "      <td>0.387550</td>\n",
       "      <td>0.495429</td>\n",
       "      <td>0.288952</td>\n",
       "      <td>-0.146300</td>\n",
       "      <td>0.040650</td>\n",
       "      <td>0.072558</td>\n",
       "      <td>0.063059</td>\n",
       "      <td>0.055794</td>\n",
       "      <td>0.061597</td>\n",
       "      <td>0.186282</td>\n",
       "      <td>0.324489</td>\n",
       "      <td>0.288972</td>\n",
       "      <td>0.255680</td>\n",
       "      <td>0.275471</td>\n",
       "      <td>Social</td>\n",
       "    </tr>\n",
       "    <tr>\n",
       "      <th>18</th>\n",
       "      <td>19.0</td>\n",
       "      <td>0.224143</td>\n",
       "      <td>0.084100</td>\n",
       "      <td>0.229900</td>\n",
       "      <td>0.593500</td>\n",
       "      <td>0.131900</td>\n",
       "      <td>0.030263</td>\n",
       "      <td>0.025554</td>\n",
       "      <td>0.060522</td>\n",
       "      <td>0.043846</td>\n",
       "      <td>0.031146</td>\n",
       "      <td>0.138684</td>\n",
       "      <td>0.114283</td>\n",
       "      <td>0.270662</td>\n",
       "      <td>0.196087</td>\n",
       "      <td>0.139290</td>\n",
       "      <td>Social</td>\n",
       "    </tr>\n",
       "    <tr>\n",
       "      <th>19</th>\n",
       "      <td>20.0</td>\n",
       "      <td>0.228476</td>\n",
       "      <td>0.259150</td>\n",
       "      <td>0.437429</td>\n",
       "      <td>0.536250</td>\n",
       "      <td>-0.056650</td>\n",
       "      <td>0.037025</td>\n",
       "      <td>0.052090</td>\n",
       "      <td>0.057174</td>\n",
       "      <td>0.052764</td>\n",
       "      <td>0.049957</td>\n",
       "      <td>0.169671</td>\n",
       "      <td>0.232952</td>\n",
       "      <td>0.262004</td>\n",
       "      <td>0.235967</td>\n",
       "      <td>0.223414</td>\n",
       "      <td>Social</td>\n",
       "    </tr>\n",
       "  </tbody>\n",
       "</table>\n",
       "</div>"
      ],
      "text/plain": [
       "    video_num  expected_fear      fear   arousal   valence    PEFear  \\\n",
       "0         1.0       0.401238  0.697158  0.720000  0.244905 -0.272105   \n",
       "1         2.0       0.449619  0.744333  0.720238  0.283286 -0.294714   \n",
       "2         3.0       0.427778  0.798850  0.800800  0.199684 -0.398833   \n",
       "3         4.0       0.423000  0.655700  0.718048  0.343143 -0.196944   \n",
       "4         5.0       0.387150  0.681524  0.753524  0.367800 -0.285050   \n",
       "5         6.0       0.431150  0.683095  0.776762  0.309190 -0.241200   \n",
       "6         7.0       0.450250  0.161400  0.359800  0.685857  0.278053   \n",
       "7         8.0       0.477050  0.091190  0.347700  0.753952  0.381300   \n",
       "8         9.0       0.468381  0.114263  0.332550  0.753450  0.349053   \n",
       "9        10.0       0.463000  0.221950  0.544667  0.641333  0.248000   \n",
       "10       11.0       0.485050  0.193952  0.405857  0.651400  0.287850   \n",
       "11       12.0       0.449571  0.263053  0.582400  0.701000  0.173632   \n",
       "12       13.0       0.172500  0.288650  0.613714  0.741762 -0.095895   \n",
       "13       14.0       0.217143  0.534476  0.653952  0.188952 -0.317333   \n",
       "14       15.0       0.281905  0.416158  0.603476  0.430700 -0.155632   \n",
       "15       16.0       0.215524  0.625550  0.628952  0.193905 -0.402100   \n",
       "16       17.0       0.232450  0.303200  0.506050  0.534381 -0.065421   \n",
       "17       18.0       0.233571  0.387550  0.495429  0.288952 -0.146300   \n",
       "18       19.0       0.224143  0.084100  0.229900  0.593500  0.131900   \n",
       "19       20.0       0.228476  0.259150  0.437429  0.536250 -0.056650   \n",
       "\n",
       "    sem_PredFear  sem_fear  sem_arousal  sem_valence  sem_PEFear  \\\n",
       "0       0.068580  0.077004     0.053054     0.044518    0.063164   \n",
       "1       0.070341  0.056265     0.049566     0.047585    0.061743   \n",
       "2       0.073449  0.056483     0.057805     0.047225    0.069042   \n",
       "3       0.073995  0.069076     0.053847     0.060041    0.057161   \n",
       "4       0.068237  0.059539     0.053114     0.048533    0.056889   \n",
       "5       0.068274  0.054079     0.033662     0.046326    0.051584   \n",
       "6       0.076976  0.046509     0.059659     0.051863    0.063934   \n",
       "7       0.067604  0.024225     0.058899     0.041869    0.061046   \n",
       "8       0.065935  0.037508     0.063697     0.048207    0.062250   \n",
       "9       0.067726  0.049027     0.053810     0.055782    0.063680   \n",
       "10      0.077067  0.051026     0.059458     0.060930    0.072115   \n",
       "11      0.068872  0.060372     0.054392     0.064638    0.056939   \n",
       "12      0.030730  0.051944     0.060875     0.049290    0.041035   \n",
       "13      0.036652  0.055905     0.054709     0.039605    0.057343   \n",
       "14      0.041431  0.072301     0.047392     0.062726    0.086850   \n",
       "15      0.041368  0.072469     0.060706     0.040802    0.071570   \n",
       "16      0.042757  0.067169     0.062425     0.046882    0.077245   \n",
       "17      0.040650  0.072558     0.063059     0.055794    0.061597   \n",
       "18      0.030263  0.025554     0.060522     0.043846    0.031146   \n",
       "19      0.037025  0.052090     0.057174     0.052764    0.049957   \n",
       "\n",
       "    std_PredFear  std_fear  std_arousal  std_valence  std_PEFear      cat  \n",
       "0       0.314275  0.335655     0.243124     0.204008    0.275325  Heights  \n",
       "1       0.322344  0.257838     0.227141     0.218060    0.282941  Heights  \n",
       "2       0.311617  0.252599     0.258511     0.205850    0.292922  Heights  \n",
       "3       0.322537  0.308919     0.246759     0.275142    0.242515  Heights  \n",
       "4       0.305165  0.272843     0.243400     0.217048    0.254415  Heights  \n",
       "5       0.305329  0.247820     0.154257     0.212291    0.230691  Heights  \n",
       "6       0.344249  0.207996     0.266805     0.237665    0.278684  Heights  \n",
       "7       0.302335  0.111015     0.263405     0.191866    0.273005  Heights  \n",
       "8       0.302152  0.163492     0.284861     0.215587    0.271342  Heights  \n",
       "9       0.310360  0.219257     0.246590     0.255626    0.284784  Heights  \n",
       "10      0.344653  0.233830     0.272470     0.272486    0.322508  Heights  \n",
       "11      0.315612  0.263155     0.243248     0.281751    0.248192  Heights  \n",
       "12      0.137427  0.232300     0.278964     0.225875    0.178869   Social  \n",
       "13      0.167961  0.256189     0.250709     0.181493    0.262778   Social  \n",
       "14      0.189863  0.315152     0.217175     0.280518    0.378572   Social  \n",
       "15      0.189570  0.324091     0.278192     0.186977    0.320072   Social  \n",
       "16      0.191217  0.300390     0.279175     0.214839    0.336704   Social  \n",
       "17      0.186282  0.324489     0.288972     0.255680    0.275471   Social  \n",
       "18      0.138684  0.114283     0.270662     0.196087    0.139290   Social  \n",
       "19      0.169671  0.232952     0.262004     0.235967    0.223414   Social  "
      ]
     },
     "execution_count": 33,
     "metadata": {},
     "output_type": "execute_result"
    }
   ],
   "source": [
    "# create a dataframe for group ratings\n",
    "avg_df = df_all.copy().drop(columns=['sub_id','run','cat'])\n",
    "mean_df = avg_df.groupby('video_num').mean()\n",
    "std_df = avg_df.groupby('video_num').std()\n",
    "sem_df = avg_df.groupby('video_num').sem()\n",
    "group_df = pd.concat([mean_df, sem_df, std_df],axis=1).reset_index()\n",
    "    \n",
    "\n",
    "\n",
    "column_list = [\"video_num\", \"expected_fear\",\"fear\",\"arousal\",\"valence\",\"PEFear\",\n",
    "               \"sem_PredFear\",\"sem_fear\",\"sem_arousal\",\"sem_valence\",\"sem_PEFear\",\n",
    "              \"std_PredFear\",\"std_fear\",\"std_arousal\",\"std_valence\",\"std_PEFear\"]\n",
    "group_df.columns = column_list\n",
    "\n",
    "\n",
    "group_df['cat'] = pd.Series(cat_col)\n",
    "group_df.head(20)"
   ]
  },
  {
   "cell_type": "code",
   "execution_count": 40,
   "metadata": {},
   "outputs": [
    {
     "name": "stdout",
     "output_type": "stream",
     "text": [
      "subject 04 interpolated 1 item(s) in valence\n",
      "subject 05 interpolated 1 item(s) in fear\n",
      "subject 05 interpolated 3 item(s) in valence\n",
      "subject 07 interpolated 1 item(s) in valence\n",
      "subject 08 interpolated 1 item(s) in arousal\n",
      "subject 10 interpolated 1 item(s) in fear\n",
      "subject 13 interpolated 1 item(s) in expected_fear\n",
      "subject 13 interpolated 2 item(s) in valence\n",
      "subject 14 interpolated 1 item(s) in fear\n",
      "subject 15 interpolated 5 item(s) in expected_fear\n",
      "subject 15 interpolated 6 item(s) in fear\n",
      "subject 15 interpolated 1 item(s) in arousal\n",
      "subject 15 interpolated 2 item(s) in valence\n",
      "subject 17 interpolated 2 item(s) in expected_fear\n",
      "subject 17 interpolated 1 item(s) in arousal\n",
      "subject 18 interpolated 1 item(s) in expected_fear\n",
      "subject 18 interpolated 1 item(s) in fear\n",
      "subject 18 interpolated 2 item(s) in arousal\n",
      "subject 18 interpolated 1 item(s) in valence\n",
      "subject 19 interpolated 4 item(s) in expected_fear\n",
      "subject 19 interpolated 6 item(s) in fear\n",
      "subject 19 interpolated 5 item(s) in arousal\n",
      "subject 19 interpolated 5 item(s) in valence\n",
      "subject 23 interpolated 1 item(s) in expected_fear\n",
      "subject 25 interpolated 1 item(s) in expected_fear\n",
      "subject 25 interpolated 1 item(s) in arousal\n",
      "subject 26 interpolated 3 item(s) in expected_fear\n",
      "subject 26 interpolated 8 item(s) in fear\n",
      "subject 26 interpolated 1 item(s) in arousal\n",
      "subject 26 interpolated 1 item(s) in valence\n",
      "subject 28 interpolated 2 item(s) in fear\n",
      "subject 28 interpolated 1 item(s) in arousal\n",
      "subject 29 interpolated 3 item(s) in expected_fear\n"
     ]
    }
   ],
   "source": [
    "all_sub_df = pd.DataFrame(columns=['sub_id','run','video_number','video_category','category','expected_fear','fear','arousal','valence'])\n",
    "\n",
    "\n",
    "for s in subjects_list:\n",
    "    task_file = glob.glob(data_dir + f'/AffVids_logfile_{s}_edited.txt') \n",
    "    task_csv = task_file[0]\n",
    "    \n",
    "    task_lines =[]     \n",
    "    with open(task_csv, 'r') as task_csv_file:\n",
    "        task_lines.append(list(parse_task_lines(s, task_csv_file.readlines()[1:], logfile_headers)))\n",
    "        \n",
    "    sub_df = pd.DataFrame(task_lines[0], columns=all_sub_df.columns)\n",
    "    \n",
    "    # check missing data, and interpolate:\n",
    "    for which_rating in ['expected_fear','fear', 'arousal','valence']:\n",
    "        row_idx_list = sub_df[sub_df[which_rating].isnull()].index.tolist()\n",
    "        \n",
    "        if bool(row_idx_list):\n",
    "            print(f'subject {s} interpolated {len(row_idx_list)} item(s) in {which_rating}')\n",
    "            for i in range(len(row_idx_list)):\n",
    "                row_idx = row_idx_list[i]\n",
    "                sub_idx = sub_df.columns.get_loc(\"sub_id\")\n",
    "                sub_id = sub_df.iloc[row_idx, sub_idx]\n",
    "                cat_idx = sub_df.columns.get_loc(\"category\")\n",
    "                video_cat = sub_df.iloc[row_idx, cat_idx]\n",
    "                video_idx = sub_df.columns.get_loc(\"video_number\")\n",
    "                video_number = sub_df.iloc[row_idx, video_idx]\n",
    "\n",
    "                #find range of the same category:\n",
    "                sub_max = np.nanmax(sub_df[sub_df.category==video_cat][which_rating])\n",
    "                sub_min = np.nanmin(sub_df[sub_df.category==video_cat][which_rating])\n",
    "\n",
    "                norm_max = np.nanmax(group_df[group_df.cat==video_cat][which_rating])\n",
    "                norm_min = np.nanmin(group_df[group_df.cat==video_cat][which_rating])\n",
    "\n",
    "                norm_rating = group_df[group_df.video_num==video_number][which_rating].reset_index(drop=True)\n",
    "                # interpolate subject rating:\n",
    "                sub_rating = interpolate_rating(norm_min, norm_max, norm_rating[0], sub_min, sub_max)\n",
    "                sub_df.loc[row_idx,which_rating] = sub_rating\n",
    "\n",
    "    all_sub_df = all_sub_df.append(sub_df,ignore_index=True)\n",
    "\n",
    "\n",
    "all_sub_df.loc[all_sub_df.fear > 1,'fear'] = 1"
   ]
  },
  {
   "cell_type": "code",
   "execution_count": 41,
   "metadata": {},
   "outputs": [],
   "source": [
    "\n",
    "#save\n",
    "\n",
    "if save:\n",
    "    all_sub_df.to_csv(behavdata_dir +'/AffVids_novel_interpolated_rating_raw.csv')\n",
    "# flip valence:\n",
    "all_sub_df['valence'] = 1- all_sub_df['valence']\n",
    "if save:\n",
    "    all_sub_df.to_csv(behavdata_dir +'/AffVids_novel_interpolated_rating_raw_flipped_valence.csv')"
   ]
  },
  {
   "cell_type": "code",
   "execution_count": 42,
   "metadata": {},
   "outputs": [],
   "source": [
    "ratings_zscored = all_sub_df.copy()\n",
    "ratings_demeaned = all_sub_df.copy()\n",
    "\n",
    "cols = ['fear', 'arousal','valence']\n",
    "for s in subjects_list:\n",
    "    for col in cols:\n",
    "        ratings_zscored.loc[ratings_zscored['sub_id'] == s,col] = zscore(ratings_zscored.loc[ratings_zscored['sub_id'] == s,col],axis=0, ddof=0)\n",
    "        \n",
    "        ratings_demeaned.loc[ratings_demeaned['sub_id'] == s,col] = ratings_demeaned.loc[ratings_demeaned['sub_id'] == s,col] - np.mean(ratings_demeaned.loc[ratings_demeaned['sub_id'] == s,col])\n",
    "\n",
    "if save:        \n",
    "    ratings_zscored.to_csv(behavdata_dir +'/AffVids_novel_interpolated_rating_zscored.csv')\n",
    "    ratings_demeaned.to_csv(behavdata_dir +'/AffVids_novel_interpolated_rating_demeaned.csv')\n",
    "\n"
   ]
  },
  {
   "cell_type": "code",
   "execution_count": 43,
   "metadata": {},
   "outputs": [
    {
     "data": {
      "text/plain": [
       "sub_id            0\n",
       "run               0\n",
       "video_number      0\n",
       "video_category    0\n",
       "category          0\n",
       "expected_fear     0\n",
       "fear              0\n",
       "arousal           0\n",
       "valence           0\n",
       "dtype: int64"
      ]
     },
     "execution_count": 43,
     "metadata": {},
     "output_type": "execute_result"
    }
   ],
   "source": [
    "# check no nan:\n",
    "all_sub_df.isnull().sum()"
   ]
  },
  {
   "cell_type": "markdown",
   "metadata": {},
   "source": [
    "## Make fear plots:"
   ]
  },
  {
   "cell_type": "code",
   "execution_count": 47,
   "metadata": {},
   "outputs": [
    {
     "data": {
      "application/vnd.plotly.v1+json": {
       "config": {
        "plotlyServerURL": "https://plot.ly"
       },
       "data": [
        {
         "hovertemplate": "sub_id=04<br>video_order=%{x}<br>fear=%{y}<extra></extra>",
         "legendgroup": "04",
         "line": {
          "color": "#636efa",
          "dash": "solid"
         },
         "marker": {
          "symbol": "circle"
         },
         "mode": "lines",
         "name": "04",
         "orientation": "v",
         "showlegend": true,
         "type": "scatter",
         "x": [
          1,
          2,
          3,
          4,
          5,
          6,
          7,
          8,
          9,
          10,
          11,
          12
         ],
         "xaxis": "x",
         "y": [
          0.031,
          0.051,
          0.052,
          0.061,
          0.095,
          0.251,
          0.597,
          0.644,
          0.979,
          0.989,
          0.999,
          1
         ],
         "yaxis": "y"
        },
        {
         "hovertemplate": "sub_id=05<br>video_order=%{x}<br>fear=%{y}<extra></extra>",
         "legendgroup": "05",
         "line": {
          "color": "#EF553B",
          "dash": "solid"
         },
         "marker": {
          "symbol": "circle"
         },
         "mode": "lines",
         "name": "05",
         "orientation": "v",
         "showlegend": true,
         "type": "scatter",
         "x": [
          1,
          2,
          3,
          4,
          5,
          6,
          7,
          8,
          9,
          10,
          11,
          12
         ],
         "xaxis": "x",
         "y": [
          0.043,
          0.048,
          0.059,
          0.293,
          0.49,
          0.839,
          0.854,
          0.88,
          0.886,
          0.938,
          0.95,
          0.964
         ],
         "yaxis": "y"
        },
        {
         "hovertemplate": "sub_id=06<br>video_order=%{x}<br>fear=%{y}<extra></extra>",
         "legendgroup": "06",
         "line": {
          "color": "#00cc96",
          "dash": "solid"
         },
         "marker": {
          "symbol": "circle"
         },
         "mode": "lines",
         "name": "06",
         "orientation": "v",
         "showlegend": true,
         "type": "scatter",
         "x": [
          1,
          2,
          3,
          4,
          5,
          6,
          7,
          8,
          9,
          10,
          11,
          12
         ],
         "xaxis": "x",
         "y": [
          0,
          0,
          0,
          0.161,
          0.314,
          0.363,
          0.369,
          0.695,
          0.842,
          0.859,
          0.888,
          1
         ],
         "yaxis": "y"
        },
        {
         "hovertemplate": "sub_id=07<br>video_order=%{x}<br>fear=%{y}<extra></extra>",
         "legendgroup": "07",
         "line": {
          "color": "#ab63fa",
          "dash": "solid"
         },
         "marker": {
          "symbol": "circle"
         },
         "mode": "lines",
         "name": "07",
         "orientation": "v",
         "showlegend": true,
         "type": "scatter",
         "x": [
          1,
          2,
          3,
          4,
          5,
          6,
          7,
          8,
          9,
          10,
          11,
          12
         ],
         "xaxis": "x",
         "y": [
          0,
          0,
          0,
          0.005,
          0.054,
          0.104,
          0.657,
          0.795,
          0.816,
          0.872,
          0.904,
          0.935
         ],
         "yaxis": "y"
        },
        {
         "hovertemplate": "sub_id=08<br>video_order=%{x}<br>fear=%{y}<extra></extra>",
         "legendgroup": "08",
         "line": {
          "color": "#FFA15A",
          "dash": "solid"
         },
         "marker": {
          "symbol": "circle"
         },
         "mode": "lines",
         "name": "08",
         "orientation": "v",
         "showlegend": true,
         "type": "scatter",
         "x": [
          1,
          2,
          3,
          4,
          5,
          6,
          7,
          8,
          9,
          10,
          11,
          12
         ],
         "xaxis": "x",
         "y": [
          0,
          0,
          0,
          0,
          0,
          0,
          0,
          0.072,
          0.109,
          0.212,
          0.771,
          1
         ],
         "yaxis": "y"
        },
        {
         "hovertemplate": "sub_id=09<br>video_order=%{x}<br>fear=%{y}<extra></extra>",
         "legendgroup": "09",
         "line": {
          "color": "#19d3f3",
          "dash": "solid"
         },
         "marker": {
          "symbol": "circle"
         },
         "mode": "lines",
         "name": "09",
         "orientation": "v",
         "showlegend": true,
         "type": "scatter",
         "x": [
          1,
          2,
          3,
          4,
          5,
          6,
          7,
          8,
          9,
          10,
          11,
          12
         ],
         "xaxis": "x",
         "y": [
          0.124,
          0.168,
          0.579,
          0.587,
          0.633,
          0.838,
          0.885,
          0.914,
          0.919,
          0.937,
          1,
          1
         ],
         "yaxis": "y"
        },
        {
         "hovertemplate": "sub_id=10<br>video_order=%{x}<br>fear=%{y}<extra></extra>",
         "legendgroup": "10",
         "line": {
          "color": "#FF6692",
          "dash": "solid"
         },
         "marker": {
          "symbol": "circle"
         },
         "mode": "lines",
         "name": "10",
         "orientation": "v",
         "showlegend": true,
         "type": "scatter",
         "x": [
          1,
          2,
          3,
          4,
          5,
          6,
          7,
          8,
          9,
          10,
          11,
          12
         ],
         "xaxis": "x",
         "y": [
          0,
          0,
          0,
          0.026,
          0.204,
          0.3694916933808595,
          0.742,
          0.808,
          0.911,
          0.929,
          0.992,
          0.994
         ],
         "yaxis": "y"
        },
        {
         "hovertemplate": "sub_id=11<br>video_order=%{x}<br>fear=%{y}<extra></extra>",
         "legendgroup": "11",
         "line": {
          "color": "#B6E880",
          "dash": "solid"
         },
         "marker": {
          "symbol": "circle"
         },
         "mode": "lines",
         "name": "11",
         "orientation": "v",
         "showlegend": true,
         "type": "scatter",
         "x": [
          1,
          2,
          3,
          4,
          5,
          6,
          7,
          8,
          9,
          10,
          11,
          12
         ],
         "xaxis": "x",
         "y": [
          0.044,
          0.065,
          0.085,
          0.087,
          0.087,
          0.114,
          0.153,
          0.168,
          0.179,
          0.231,
          0.478,
          0.491
         ],
         "yaxis": "y"
        },
        {
         "hovertemplate": "sub_id=12<br>video_order=%{x}<br>fear=%{y}<extra></extra>",
         "legendgroup": "12",
         "line": {
          "color": "#FF97FF",
          "dash": "solid"
         },
         "marker": {
          "symbol": "circle"
         },
         "mode": "lines",
         "name": "12",
         "orientation": "v",
         "showlegend": true,
         "type": "scatter",
         "x": [
          1,
          2,
          3,
          4,
          5,
          6,
          7,
          8,
          9,
          10,
          11,
          12
         ],
         "xaxis": "x",
         "y": [
          0.194,
          0.202,
          0.221,
          0.298,
          0.34,
          0.586,
          0.766,
          0.784,
          0.826,
          0.859,
          0.883,
          0.894
         ],
         "yaxis": "y"
        },
        {
         "hovertemplate": "sub_id=13<br>video_order=%{x}<br>fear=%{y}<extra></extra>",
         "legendgroup": "13",
         "line": {
          "color": "#FECB52",
          "dash": "solid"
         },
         "marker": {
          "symbol": "circle"
         },
         "mode": "lines",
         "name": "13",
         "orientation": "v",
         "showlegend": true,
         "type": "scatter",
         "x": [
          1,
          2,
          3,
          4,
          5,
          6,
          7,
          8,
          9,
          10,
          11,
          12
         ],
         "xaxis": "x",
         "y": [
          0.122,
          0.137,
          0.152,
          0.166,
          0.179,
          0.286,
          0.711,
          0.777,
          0.81,
          0.842,
          0.883,
          0.893
         ],
         "yaxis": "y"
        },
        {
         "hovertemplate": "sub_id=14<br>video_order=%{x}<br>fear=%{y}<extra></extra>",
         "legendgroup": "14",
         "line": {
          "color": "#636efa",
          "dash": "solid"
         },
         "marker": {
          "symbol": "circle"
         },
         "mode": "lines",
         "name": "14",
         "orientation": "v",
         "showlegend": true,
         "type": "scatter",
         "x": [
          1,
          2,
          3,
          4,
          5,
          6,
          7,
          8,
          9,
          10,
          11,
          12
         ],
         "xaxis": "x",
         "y": [
          0,
          0,
          0,
          0,
          0,
          0,
          0,
          0,
          0.013,
          0.139,
          0.176,
          0.612
         ],
         "yaxis": "y"
        },
        {
         "hovertemplate": "sub_id=15<br>video_order=%{x}<br>fear=%{y}<extra></extra>",
         "legendgroup": "15",
         "line": {
          "color": "#EF553B",
          "dash": "solid"
         },
         "marker": {
          "symbol": "circle"
         },
         "mode": "lines",
         "name": "15",
         "orientation": "v",
         "showlegend": true,
         "type": "scatter",
         "x": [
          1,
          2,
          3,
          4,
          5,
          6,
          7,
          8,
          9,
          10,
          11,
          12
         ],
         "xaxis": "x",
         "y": [
          0,
          0,
          0.09,
          0.205,
          0.2932529599585488,
          0.322,
          0.615,
          0.638,
          0.816,
          0.875,
          0.9211246505521483,
          0.935
         ],
         "yaxis": "y"
        },
        {
         "hovertemplate": "sub_id=16<br>video_order=%{x}<br>fear=%{y}<extra></extra>",
         "legendgroup": "16",
         "line": {
          "color": "#00cc96",
          "dash": "solid"
         },
         "marker": {
          "symbol": "circle"
         },
         "mode": "lines",
         "name": "16",
         "orientation": "v",
         "showlegend": true,
         "type": "scatter",
         "x": [
          1,
          2,
          3,
          4,
          5,
          6,
          7,
          8,
          9,
          10,
          11,
          12
         ],
         "xaxis": "x",
         "y": [
          0,
          0,
          0,
          0,
          0,
          0,
          0,
          0.239,
          0.603,
          0.686,
          0.769,
          0.891
         ],
         "yaxis": "y"
        },
        {
         "hovertemplate": "sub_id=17<br>video_order=%{x}<br>fear=%{y}<extra></extra>",
         "legendgroup": "17",
         "line": {
          "color": "#ab63fa",
          "dash": "solid"
         },
         "marker": {
          "symbol": "circle"
         },
         "mode": "lines",
         "name": "17",
         "orientation": "v",
         "showlegend": true,
         "type": "scatter",
         "x": [
          1,
          2,
          3,
          4,
          5,
          6,
          7,
          8,
          9,
          10,
          11,
          12
         ],
         "xaxis": "x",
         "y": [
          0,
          0.132,
          0.143,
          0.158,
          0.217,
          0.267,
          0.769,
          0.771,
          0.781,
          0.823,
          0.828,
          0.868
         ],
         "yaxis": "y"
        },
        {
         "hovertemplate": "sub_id=18<br>video_order=%{x}<br>fear=%{y}<extra></extra>",
         "legendgroup": "18",
         "line": {
          "color": "#FFA15A",
          "dash": "solid"
         },
         "marker": {
          "symbol": "circle"
         },
         "mode": "lines",
         "name": "18",
         "orientation": "v",
         "showlegend": true,
         "type": "scatter",
         "x": [
          1,
          2,
          3,
          4,
          5,
          6,
          7,
          8,
          9,
          10,
          11,
          12
         ],
         "xaxis": "x",
         "y": [
          0,
          0.1614662900028917,
          0.168,
          0.191,
          0.329,
          0.67,
          0.794,
          0.797,
          0.838,
          0.898,
          1,
          1
         ],
         "yaxis": "y"
        },
        {
         "hovertemplate": "sub_id=19<br>video_order=%{x}<br>fear=%{y}<extra></extra>",
         "legendgroup": "19",
         "line": {
          "color": "#19d3f3",
          "dash": "solid"
         },
         "marker": {
          "symbol": "circle"
         },
         "mode": "lines",
         "name": "19",
         "orientation": "v",
         "showlegend": true,
         "type": "scatter",
         "x": [
          1,
          2,
          3,
          4,
          5,
          6,
          7,
          8,
          9,
          10,
          11,
          12
         ],
         "xaxis": "x",
         "y": [
          0,
          0,
          0,
          0.25746610217257726,
          0.3717220255340639,
          0.553,
          0.795,
          0.995,
          1,
          1,
          1,
          1
         ],
         "yaxis": "y"
        },
        {
         "hovertemplate": "sub_id=23<br>video_order=%{x}<br>fear=%{y}<extra></extra>",
         "legendgroup": "23",
         "line": {
          "color": "#FF6692",
          "dash": "solid"
         },
         "marker": {
          "symbol": "circle"
         },
         "mode": "lines",
         "name": "23",
         "orientation": "v",
         "showlegend": true,
         "type": "scatter",
         "x": [
          1,
          2,
          3,
          4,
          5,
          6,
          7,
          8,
          9,
          10,
          11,
          12
         ],
         "xaxis": "x",
         "y": [
          0,
          0,
          0,
          0.153,
          0.168,
          0.389,
          0.421,
          0.594,
          0.685,
          0.712,
          0.742,
          0.849
         ],
         "yaxis": "y"
        },
        {
         "hovertemplate": "sub_id=25<br>video_order=%{x}<br>fear=%{y}<extra></extra>",
         "legendgroup": "25",
         "line": {
          "color": "#B6E880",
          "dash": "solid"
         },
         "marker": {
          "symbol": "circle"
         },
         "mode": "lines",
         "name": "25",
         "orientation": "v",
         "showlegend": true,
         "type": "scatter",
         "x": [
          1,
          2,
          3,
          4,
          5,
          6,
          7,
          8,
          9,
          10,
          11,
          12
         ],
         "xaxis": "x",
         "y": [
          0,
          0.036,
          0.368,
          0.709,
          0.73,
          0.771,
          0.782,
          1,
          1,
          1,
          1,
          1
         ],
         "yaxis": "y"
        },
        {
         "hovertemplate": "sub_id=26<br>video_order=%{x}<br>fear=%{y}<extra></extra>",
         "legendgroup": "26",
         "line": {
          "color": "#FF97FF",
          "dash": "solid"
         },
         "marker": {
          "symbol": "circle"
         },
         "mode": "lines",
         "name": "26",
         "orientation": "v",
         "showlegend": true,
         "type": "scatter",
         "x": [
          1,
          2,
          3,
          4,
          5,
          6,
          7,
          8,
          9,
          10,
          11,
          12
         ],
         "xaxis": "x",
         "y": [
          0.074,
          0.08,
          0.085,
          0.129,
          0.161,
          0.288,
          0.4632877661775739,
          0.49258002703323434,
          0.537,
          0.545,
          0.56,
          0.574
         ],
         "yaxis": "y"
        },
        {
         "hovertemplate": "sub_id=28<br>video_order=%{x}<br>fear=%{y}<extra></extra>",
         "legendgroup": "28",
         "line": {
          "color": "#FECB52",
          "dash": "solid"
         },
         "marker": {
          "symbol": "circle"
         },
         "mode": "lines",
         "name": "28",
         "orientation": "v",
         "showlegend": true,
         "type": "scatter",
         "x": [
          1,
          2,
          3,
          4,
          5,
          6,
          7,
          8,
          9,
          10,
          11,
          12
         ],
         "xaxis": "x",
         "y": [
          0.09639537513172634,
          0.101,
          0.119,
          0.212,
          0.218,
          0.241,
          0.334,
          0.348,
          0.55,
          0.68,
          0.685,
          0.698
         ],
         "yaxis": "y"
        },
        {
         "hovertemplate": "sub_id=29<br>video_order=%{x}<br>fear=%{y}<extra></extra>",
         "legendgroup": "29",
         "line": {
          "color": "#636efa",
          "dash": "solid"
         },
         "marker": {
          "symbol": "circle"
         },
         "mode": "lines",
         "name": "29",
         "orientation": "v",
         "showlegend": true,
         "type": "scatter",
         "x": [
          1,
          2,
          3,
          4,
          5,
          6,
          7,
          8,
          9,
          10,
          11,
          12
         ],
         "xaxis": "x",
         "y": [
          0.212,
          0.394,
          0.441,
          0.459,
          0.462,
          0.496,
          0.498,
          0.532,
          0.534,
          0.561,
          0.566,
          0.584
         ],
         "yaxis": "y"
        }
       ],
       "layout": {
        "height": 400,
        "legend": {
         "title": {
          "text": "sub_id"
         },
         "tracegroupgap": 0
        },
        "margin": {
         "t": 60
        },
        "showlegend": false,
        "template": {
         "data": {
          "bar": [
           {
            "error_x": {
             "color": "#2a3f5f"
            },
            "error_y": {
             "color": "#2a3f5f"
            },
            "marker": {
             "line": {
              "color": "#E5ECF6",
              "width": 0.5
             },
             "pattern": {
              "fillmode": "overlay",
              "size": 10,
              "solidity": 0.2
             }
            },
            "type": "bar"
           }
          ],
          "barpolar": [
           {
            "marker": {
             "line": {
              "color": "#E5ECF6",
              "width": 0.5
             },
             "pattern": {
              "fillmode": "overlay",
              "size": 10,
              "solidity": 0.2
             }
            },
            "type": "barpolar"
           }
          ],
          "carpet": [
           {
            "aaxis": {
             "endlinecolor": "#2a3f5f",
             "gridcolor": "white",
             "linecolor": "white",
             "minorgridcolor": "white",
             "startlinecolor": "#2a3f5f"
            },
            "baxis": {
             "endlinecolor": "#2a3f5f",
             "gridcolor": "white",
             "linecolor": "white",
             "minorgridcolor": "white",
             "startlinecolor": "#2a3f5f"
            },
            "type": "carpet"
           }
          ],
          "choropleth": [
           {
            "colorbar": {
             "outlinewidth": 0,
             "ticks": ""
            },
            "type": "choropleth"
           }
          ],
          "contour": [
           {
            "colorbar": {
             "outlinewidth": 0,
             "ticks": ""
            },
            "colorscale": [
             [
              0,
              "#0d0887"
             ],
             [
              0.1111111111111111,
              "#46039f"
             ],
             [
              0.2222222222222222,
              "#7201a8"
             ],
             [
              0.3333333333333333,
              "#9c179e"
             ],
             [
              0.4444444444444444,
              "#bd3786"
             ],
             [
              0.5555555555555556,
              "#d8576b"
             ],
             [
              0.6666666666666666,
              "#ed7953"
             ],
             [
              0.7777777777777778,
              "#fb9f3a"
             ],
             [
              0.8888888888888888,
              "#fdca26"
             ],
             [
              1,
              "#f0f921"
             ]
            ],
            "type": "contour"
           }
          ],
          "contourcarpet": [
           {
            "colorbar": {
             "outlinewidth": 0,
             "ticks": ""
            },
            "type": "contourcarpet"
           }
          ],
          "heatmap": [
           {
            "colorbar": {
             "outlinewidth": 0,
             "ticks": ""
            },
            "colorscale": [
             [
              0,
              "#0d0887"
             ],
             [
              0.1111111111111111,
              "#46039f"
             ],
             [
              0.2222222222222222,
              "#7201a8"
             ],
             [
              0.3333333333333333,
              "#9c179e"
             ],
             [
              0.4444444444444444,
              "#bd3786"
             ],
             [
              0.5555555555555556,
              "#d8576b"
             ],
             [
              0.6666666666666666,
              "#ed7953"
             ],
             [
              0.7777777777777778,
              "#fb9f3a"
             ],
             [
              0.8888888888888888,
              "#fdca26"
             ],
             [
              1,
              "#f0f921"
             ]
            ],
            "type": "heatmap"
           }
          ],
          "heatmapgl": [
           {
            "colorbar": {
             "outlinewidth": 0,
             "ticks": ""
            },
            "colorscale": [
             [
              0,
              "#0d0887"
             ],
             [
              0.1111111111111111,
              "#46039f"
             ],
             [
              0.2222222222222222,
              "#7201a8"
             ],
             [
              0.3333333333333333,
              "#9c179e"
             ],
             [
              0.4444444444444444,
              "#bd3786"
             ],
             [
              0.5555555555555556,
              "#d8576b"
             ],
             [
              0.6666666666666666,
              "#ed7953"
             ],
             [
              0.7777777777777778,
              "#fb9f3a"
             ],
             [
              0.8888888888888888,
              "#fdca26"
             ],
             [
              1,
              "#f0f921"
             ]
            ],
            "type": "heatmapgl"
           }
          ],
          "histogram": [
           {
            "marker": {
             "pattern": {
              "fillmode": "overlay",
              "size": 10,
              "solidity": 0.2
             }
            },
            "type": "histogram"
           }
          ],
          "histogram2d": [
           {
            "colorbar": {
             "outlinewidth": 0,
             "ticks": ""
            },
            "colorscale": [
             [
              0,
              "#0d0887"
             ],
             [
              0.1111111111111111,
              "#46039f"
             ],
             [
              0.2222222222222222,
              "#7201a8"
             ],
             [
              0.3333333333333333,
              "#9c179e"
             ],
             [
              0.4444444444444444,
              "#bd3786"
             ],
             [
              0.5555555555555556,
              "#d8576b"
             ],
             [
              0.6666666666666666,
              "#ed7953"
             ],
             [
              0.7777777777777778,
              "#fb9f3a"
             ],
             [
              0.8888888888888888,
              "#fdca26"
             ],
             [
              1,
              "#f0f921"
             ]
            ],
            "type": "histogram2d"
           }
          ],
          "histogram2dcontour": [
           {
            "colorbar": {
             "outlinewidth": 0,
             "ticks": ""
            },
            "colorscale": [
             [
              0,
              "#0d0887"
             ],
             [
              0.1111111111111111,
              "#46039f"
             ],
             [
              0.2222222222222222,
              "#7201a8"
             ],
             [
              0.3333333333333333,
              "#9c179e"
             ],
             [
              0.4444444444444444,
              "#bd3786"
             ],
             [
              0.5555555555555556,
              "#d8576b"
             ],
             [
              0.6666666666666666,
              "#ed7953"
             ],
             [
              0.7777777777777778,
              "#fb9f3a"
             ],
             [
              0.8888888888888888,
              "#fdca26"
             ],
             [
              1,
              "#f0f921"
             ]
            ],
            "type": "histogram2dcontour"
           }
          ],
          "mesh3d": [
           {
            "colorbar": {
             "outlinewidth": 0,
             "ticks": ""
            },
            "type": "mesh3d"
           }
          ],
          "parcoords": [
           {
            "line": {
             "colorbar": {
              "outlinewidth": 0,
              "ticks": ""
             }
            },
            "type": "parcoords"
           }
          ],
          "pie": [
           {
            "automargin": true,
            "type": "pie"
           }
          ],
          "scatter": [
           {
            "marker": {
             "colorbar": {
              "outlinewidth": 0,
              "ticks": ""
             }
            },
            "type": "scatter"
           }
          ],
          "scatter3d": [
           {
            "line": {
             "colorbar": {
              "outlinewidth": 0,
              "ticks": ""
             }
            },
            "marker": {
             "colorbar": {
              "outlinewidth": 0,
              "ticks": ""
             }
            },
            "type": "scatter3d"
           }
          ],
          "scattercarpet": [
           {
            "marker": {
             "colorbar": {
              "outlinewidth": 0,
              "ticks": ""
             }
            },
            "type": "scattercarpet"
           }
          ],
          "scattergeo": [
           {
            "marker": {
             "colorbar": {
              "outlinewidth": 0,
              "ticks": ""
             }
            },
            "type": "scattergeo"
           }
          ],
          "scattergl": [
           {
            "marker": {
             "colorbar": {
              "outlinewidth": 0,
              "ticks": ""
             }
            },
            "type": "scattergl"
           }
          ],
          "scattermapbox": [
           {
            "marker": {
             "colorbar": {
              "outlinewidth": 0,
              "ticks": ""
             }
            },
            "type": "scattermapbox"
           }
          ],
          "scatterpolar": [
           {
            "marker": {
             "colorbar": {
              "outlinewidth": 0,
              "ticks": ""
             }
            },
            "type": "scatterpolar"
           }
          ],
          "scatterpolargl": [
           {
            "marker": {
             "colorbar": {
              "outlinewidth": 0,
              "ticks": ""
             }
            },
            "type": "scatterpolargl"
           }
          ],
          "scatterternary": [
           {
            "marker": {
             "colorbar": {
              "outlinewidth": 0,
              "ticks": ""
             }
            },
            "type": "scatterternary"
           }
          ],
          "surface": [
           {
            "colorbar": {
             "outlinewidth": 0,
             "ticks": ""
            },
            "colorscale": [
             [
              0,
              "#0d0887"
             ],
             [
              0.1111111111111111,
              "#46039f"
             ],
             [
              0.2222222222222222,
              "#7201a8"
             ],
             [
              0.3333333333333333,
              "#9c179e"
             ],
             [
              0.4444444444444444,
              "#bd3786"
             ],
             [
              0.5555555555555556,
              "#d8576b"
             ],
             [
              0.6666666666666666,
              "#ed7953"
             ],
             [
              0.7777777777777778,
              "#fb9f3a"
             ],
             [
              0.8888888888888888,
              "#fdca26"
             ],
             [
              1,
              "#f0f921"
             ]
            ],
            "type": "surface"
           }
          ],
          "table": [
           {
            "cells": {
             "fill": {
              "color": "#EBF0F8"
             },
             "line": {
              "color": "white"
             }
            },
            "header": {
             "fill": {
              "color": "#C8D4E3"
             },
             "line": {
              "color": "white"
             }
            },
            "type": "table"
           }
          ]
         },
         "layout": {
          "annotationdefaults": {
           "arrowcolor": "#2a3f5f",
           "arrowhead": 0,
           "arrowwidth": 1
          },
          "autotypenumbers": "strict",
          "coloraxis": {
           "colorbar": {
            "outlinewidth": 0,
            "ticks": ""
           }
          },
          "colorscale": {
           "diverging": [
            [
             0,
             "#8e0152"
            ],
            [
             0.1,
             "#c51b7d"
            ],
            [
             0.2,
             "#de77ae"
            ],
            [
             0.3,
             "#f1b6da"
            ],
            [
             0.4,
             "#fde0ef"
            ],
            [
             0.5,
             "#f7f7f7"
            ],
            [
             0.6,
             "#e6f5d0"
            ],
            [
             0.7,
             "#b8e186"
            ],
            [
             0.8,
             "#7fbc41"
            ],
            [
             0.9,
             "#4d9221"
            ],
            [
             1,
             "#276419"
            ]
           ],
           "sequential": [
            [
             0,
             "#0d0887"
            ],
            [
             0.1111111111111111,
             "#46039f"
            ],
            [
             0.2222222222222222,
             "#7201a8"
            ],
            [
             0.3333333333333333,
             "#9c179e"
            ],
            [
             0.4444444444444444,
             "#bd3786"
            ],
            [
             0.5555555555555556,
             "#d8576b"
            ],
            [
             0.6666666666666666,
             "#ed7953"
            ],
            [
             0.7777777777777778,
             "#fb9f3a"
            ],
            [
             0.8888888888888888,
             "#fdca26"
            ],
            [
             1,
             "#f0f921"
            ]
           ],
           "sequentialminus": [
            [
             0,
             "#0d0887"
            ],
            [
             0.1111111111111111,
             "#46039f"
            ],
            [
             0.2222222222222222,
             "#7201a8"
            ],
            [
             0.3333333333333333,
             "#9c179e"
            ],
            [
             0.4444444444444444,
             "#bd3786"
            ],
            [
             0.5555555555555556,
             "#d8576b"
            ],
            [
             0.6666666666666666,
             "#ed7953"
            ],
            [
             0.7777777777777778,
             "#fb9f3a"
            ],
            [
             0.8888888888888888,
             "#fdca26"
            ],
            [
             1,
             "#f0f921"
            ]
           ]
          },
          "colorway": [
           "#636efa",
           "#EF553B",
           "#00cc96",
           "#ab63fa",
           "#FFA15A",
           "#19d3f3",
           "#FF6692",
           "#B6E880",
           "#FF97FF",
           "#FECB52"
          ],
          "font": {
           "color": "#2a3f5f"
          },
          "geo": {
           "bgcolor": "white",
           "lakecolor": "white",
           "landcolor": "#E5ECF6",
           "showlakes": true,
           "showland": true,
           "subunitcolor": "white"
          },
          "hoverlabel": {
           "align": "left"
          },
          "hovermode": "closest",
          "mapbox": {
           "style": "light"
          },
          "paper_bgcolor": "white",
          "plot_bgcolor": "#E5ECF6",
          "polar": {
           "angularaxis": {
            "gridcolor": "white",
            "linecolor": "white",
            "ticks": ""
           },
           "bgcolor": "#E5ECF6",
           "radialaxis": {
            "gridcolor": "white",
            "linecolor": "white",
            "ticks": ""
           }
          },
          "scene": {
           "xaxis": {
            "backgroundcolor": "#E5ECF6",
            "gridcolor": "white",
            "gridwidth": 2,
            "linecolor": "white",
            "showbackground": true,
            "ticks": "",
            "zerolinecolor": "white"
           },
           "yaxis": {
            "backgroundcolor": "#E5ECF6",
            "gridcolor": "white",
            "gridwidth": 2,
            "linecolor": "white",
            "showbackground": true,
            "ticks": "",
            "zerolinecolor": "white"
           },
           "zaxis": {
            "backgroundcolor": "#E5ECF6",
            "gridcolor": "white",
            "gridwidth": 2,
            "linecolor": "white",
            "showbackground": true,
            "ticks": "",
            "zerolinecolor": "white"
           }
          },
          "shapedefaults": {
           "line": {
            "color": "#2a3f5f"
           }
          },
          "ternary": {
           "aaxis": {
            "gridcolor": "white",
            "linecolor": "white",
            "ticks": ""
           },
           "baxis": {
            "gridcolor": "white",
            "linecolor": "white",
            "ticks": ""
           },
           "bgcolor": "#E5ECF6",
           "caxis": {
            "gridcolor": "white",
            "linecolor": "white",
            "ticks": ""
           }
          },
          "title": {
           "x": 0.05
          },
          "xaxis": {
           "automargin": true,
           "gridcolor": "white",
           "linecolor": "white",
           "ticks": "",
           "title": {
            "standoff": 15
           },
           "zerolinecolor": "white",
           "zerolinewidth": 2
          },
          "yaxis": {
           "automargin": true,
           "gridcolor": "white",
           "linecolor": "white",
           "ticks": "",
           "title": {
            "standoff": 15
           },
           "zerolinecolor": "white",
           "zerolinewidth": 2
          }
         }
        },
        "title": {
         "font": {
          "family": "Times New Roman",
          "size": 24
         },
         "text": "Fear Ratings by Subject: Heights",
         "x": 0.5,
         "y": 0.95
        },
        "width": 500,
        "xaxis": {
         "anchor": "y",
         "domain": [
          0,
          1
         ],
         "linecolor": "black",
         "linewidth": 2,
         "nticks": 24,
         "range": [
          0.5,
          12.5
         ],
         "showgrid": false,
         "showline": true,
         "tickfont": {
          "size": 18
         },
         "title": {
          "font": {
           "size": 22
          },
          "text": "Videos"
         },
         "zeroline": false
        },
        "yaxis": {
         "anchor": "x",
         "domain": [
          0,
          1
         ],
         "linecolor": "black",
         "linewidth": 2,
         "range": [
          -0.1,
          1.1
         ],
         "showgrid": true,
         "showline": true,
         "tickfont": {
          "size": 18
         },
         "title": {
          "font": {
           "size": 22
          },
          "text": "Fear ratings"
         },
         "zeroline": false
        }
       }
      },
      "text/html": [
       "<div>                            <div id=\"7c82975b-d62a-4a3e-8040-e99e02b62bd7\" class=\"plotly-graph-div\" style=\"height:400px; width:500px;\"></div>            <script type=\"text/javascript\">                require([\"plotly\"], function(Plotly) {                    window.PLOTLYENV=window.PLOTLYENV || {};                                    if (document.getElementById(\"7c82975b-d62a-4a3e-8040-e99e02b62bd7\")) {                    Plotly.newPlot(                        \"7c82975b-d62a-4a3e-8040-e99e02b62bd7\",                        [{\"hovertemplate\":\"sub_id=04<br>video_order=%{x}<br>fear=%{y}<extra></extra>\",\"legendgroup\":\"04\",\"line\":{\"color\":\"#636efa\",\"dash\":\"solid\"},\"marker\":{\"symbol\":\"circle\"},\"mode\":\"lines\",\"name\":\"04\",\"orientation\":\"v\",\"showlegend\":true,\"type\":\"scatter\",\"x\":[1,2,3,4,5,6,7,8,9,10,11,12],\"xaxis\":\"x\",\"y\":[0.031,0.051,0.052,0.061,0.095,0.251,0.597,0.644,0.979,0.989,0.999,1.0],\"yaxis\":\"y\"},{\"hovertemplate\":\"sub_id=05<br>video_order=%{x}<br>fear=%{y}<extra></extra>\",\"legendgroup\":\"05\",\"line\":{\"color\":\"#EF553B\",\"dash\":\"solid\"},\"marker\":{\"symbol\":\"circle\"},\"mode\":\"lines\",\"name\":\"05\",\"orientation\":\"v\",\"showlegend\":true,\"type\":\"scatter\",\"x\":[1,2,3,4,5,6,7,8,9,10,11,12],\"xaxis\":\"x\",\"y\":[0.043,0.048,0.059,0.293,0.49,0.839,0.854,0.88,0.886,0.938,0.95,0.964],\"yaxis\":\"y\"},{\"hovertemplate\":\"sub_id=06<br>video_order=%{x}<br>fear=%{y}<extra></extra>\",\"legendgroup\":\"06\",\"line\":{\"color\":\"#00cc96\",\"dash\":\"solid\"},\"marker\":{\"symbol\":\"circle\"},\"mode\":\"lines\",\"name\":\"06\",\"orientation\":\"v\",\"showlegend\":true,\"type\":\"scatter\",\"x\":[1,2,3,4,5,6,7,8,9,10,11,12],\"xaxis\":\"x\",\"y\":[0.0,0.0,0.0,0.161,0.314,0.363,0.369,0.695,0.842,0.859,0.888,1.0],\"yaxis\":\"y\"},{\"hovertemplate\":\"sub_id=07<br>video_order=%{x}<br>fear=%{y}<extra></extra>\",\"legendgroup\":\"07\",\"line\":{\"color\":\"#ab63fa\",\"dash\":\"solid\"},\"marker\":{\"symbol\":\"circle\"},\"mode\":\"lines\",\"name\":\"07\",\"orientation\":\"v\",\"showlegend\":true,\"type\":\"scatter\",\"x\":[1,2,3,4,5,6,7,8,9,10,11,12],\"xaxis\":\"x\",\"y\":[0.0,0.0,0.0,0.005,0.054,0.104,0.657,0.795,0.816,0.872,0.904,0.935],\"yaxis\":\"y\"},{\"hovertemplate\":\"sub_id=08<br>video_order=%{x}<br>fear=%{y}<extra></extra>\",\"legendgroup\":\"08\",\"line\":{\"color\":\"#FFA15A\",\"dash\":\"solid\"},\"marker\":{\"symbol\":\"circle\"},\"mode\":\"lines\",\"name\":\"08\",\"orientation\":\"v\",\"showlegend\":true,\"type\":\"scatter\",\"x\":[1,2,3,4,5,6,7,8,9,10,11,12],\"xaxis\":\"x\",\"y\":[0.0,0.0,0.0,0.0,0.0,0.0,0.0,0.072,0.109,0.212,0.771,1.0],\"yaxis\":\"y\"},{\"hovertemplate\":\"sub_id=09<br>video_order=%{x}<br>fear=%{y}<extra></extra>\",\"legendgroup\":\"09\",\"line\":{\"color\":\"#19d3f3\",\"dash\":\"solid\"},\"marker\":{\"symbol\":\"circle\"},\"mode\":\"lines\",\"name\":\"09\",\"orientation\":\"v\",\"showlegend\":true,\"type\":\"scatter\",\"x\":[1,2,3,4,5,6,7,8,9,10,11,12],\"xaxis\":\"x\",\"y\":[0.124,0.168,0.579,0.587,0.633,0.838,0.885,0.914,0.919,0.937,1.0,1.0],\"yaxis\":\"y\"},{\"hovertemplate\":\"sub_id=10<br>video_order=%{x}<br>fear=%{y}<extra></extra>\",\"legendgroup\":\"10\",\"line\":{\"color\":\"#FF6692\",\"dash\":\"solid\"},\"marker\":{\"symbol\":\"circle\"},\"mode\":\"lines\",\"name\":\"10\",\"orientation\":\"v\",\"showlegend\":true,\"type\":\"scatter\",\"x\":[1,2,3,4,5,6,7,8,9,10,11,12],\"xaxis\":\"x\",\"y\":[0.0,0.0,0.0,0.026,0.204,0.3694916933808595,0.742,0.808,0.911,0.929,0.992,0.994],\"yaxis\":\"y\"},{\"hovertemplate\":\"sub_id=11<br>video_order=%{x}<br>fear=%{y}<extra></extra>\",\"legendgroup\":\"11\",\"line\":{\"color\":\"#B6E880\",\"dash\":\"solid\"},\"marker\":{\"symbol\":\"circle\"},\"mode\":\"lines\",\"name\":\"11\",\"orientation\":\"v\",\"showlegend\":true,\"type\":\"scatter\",\"x\":[1,2,3,4,5,6,7,8,9,10,11,12],\"xaxis\":\"x\",\"y\":[0.044,0.065,0.085,0.087,0.087,0.114,0.153,0.168,0.179,0.231,0.478,0.491],\"yaxis\":\"y\"},{\"hovertemplate\":\"sub_id=12<br>video_order=%{x}<br>fear=%{y}<extra></extra>\",\"legendgroup\":\"12\",\"line\":{\"color\":\"#FF97FF\",\"dash\":\"solid\"},\"marker\":{\"symbol\":\"circle\"},\"mode\":\"lines\",\"name\":\"12\",\"orientation\":\"v\",\"showlegend\":true,\"type\":\"scatter\",\"x\":[1,2,3,4,5,6,7,8,9,10,11,12],\"xaxis\":\"x\",\"y\":[0.194,0.202,0.221,0.298,0.34,0.586,0.766,0.784,0.826,0.859,0.883,0.894],\"yaxis\":\"y\"},{\"hovertemplate\":\"sub_id=13<br>video_order=%{x}<br>fear=%{y}<extra></extra>\",\"legendgroup\":\"13\",\"line\":{\"color\":\"#FECB52\",\"dash\":\"solid\"},\"marker\":{\"symbol\":\"circle\"},\"mode\":\"lines\",\"name\":\"13\",\"orientation\":\"v\",\"showlegend\":true,\"type\":\"scatter\",\"x\":[1,2,3,4,5,6,7,8,9,10,11,12],\"xaxis\":\"x\",\"y\":[0.122,0.137,0.152,0.166,0.179,0.286,0.711,0.777,0.81,0.842,0.883,0.893],\"yaxis\":\"y\"},{\"hovertemplate\":\"sub_id=14<br>video_order=%{x}<br>fear=%{y}<extra></extra>\",\"legendgroup\":\"14\",\"line\":{\"color\":\"#636efa\",\"dash\":\"solid\"},\"marker\":{\"symbol\":\"circle\"},\"mode\":\"lines\",\"name\":\"14\",\"orientation\":\"v\",\"showlegend\":true,\"type\":\"scatter\",\"x\":[1,2,3,4,5,6,7,8,9,10,11,12],\"xaxis\":\"x\",\"y\":[0.0,0.0,0.0,0.0,0.0,0.0,0.0,0.0,0.013,0.139,0.176,0.612],\"yaxis\":\"y\"},{\"hovertemplate\":\"sub_id=15<br>video_order=%{x}<br>fear=%{y}<extra></extra>\",\"legendgroup\":\"15\",\"line\":{\"color\":\"#EF553B\",\"dash\":\"solid\"},\"marker\":{\"symbol\":\"circle\"},\"mode\":\"lines\",\"name\":\"15\",\"orientation\":\"v\",\"showlegend\":true,\"type\":\"scatter\",\"x\":[1,2,3,4,5,6,7,8,9,10,11,12],\"xaxis\":\"x\",\"y\":[0.0,0.0,0.09,0.205,0.2932529599585488,0.322,0.615,0.638,0.816,0.875,0.9211246505521483,0.935],\"yaxis\":\"y\"},{\"hovertemplate\":\"sub_id=16<br>video_order=%{x}<br>fear=%{y}<extra></extra>\",\"legendgroup\":\"16\",\"line\":{\"color\":\"#00cc96\",\"dash\":\"solid\"},\"marker\":{\"symbol\":\"circle\"},\"mode\":\"lines\",\"name\":\"16\",\"orientation\":\"v\",\"showlegend\":true,\"type\":\"scatter\",\"x\":[1,2,3,4,5,6,7,8,9,10,11,12],\"xaxis\":\"x\",\"y\":[0.0,0.0,0.0,0.0,0.0,0.0,0.0,0.239,0.603,0.686,0.769,0.891],\"yaxis\":\"y\"},{\"hovertemplate\":\"sub_id=17<br>video_order=%{x}<br>fear=%{y}<extra></extra>\",\"legendgroup\":\"17\",\"line\":{\"color\":\"#ab63fa\",\"dash\":\"solid\"},\"marker\":{\"symbol\":\"circle\"},\"mode\":\"lines\",\"name\":\"17\",\"orientation\":\"v\",\"showlegend\":true,\"type\":\"scatter\",\"x\":[1,2,3,4,5,6,7,8,9,10,11,12],\"xaxis\":\"x\",\"y\":[0.0,0.132,0.143,0.158,0.217,0.267,0.769,0.771,0.781,0.823,0.828,0.868],\"yaxis\":\"y\"},{\"hovertemplate\":\"sub_id=18<br>video_order=%{x}<br>fear=%{y}<extra></extra>\",\"legendgroup\":\"18\",\"line\":{\"color\":\"#FFA15A\",\"dash\":\"solid\"},\"marker\":{\"symbol\":\"circle\"},\"mode\":\"lines\",\"name\":\"18\",\"orientation\":\"v\",\"showlegend\":true,\"type\":\"scatter\",\"x\":[1,2,3,4,5,6,7,8,9,10,11,12],\"xaxis\":\"x\",\"y\":[0.0,0.1614662900028917,0.168,0.191,0.329,0.67,0.794,0.797,0.838,0.898,1.0,1.0],\"yaxis\":\"y\"},{\"hovertemplate\":\"sub_id=19<br>video_order=%{x}<br>fear=%{y}<extra></extra>\",\"legendgroup\":\"19\",\"line\":{\"color\":\"#19d3f3\",\"dash\":\"solid\"},\"marker\":{\"symbol\":\"circle\"},\"mode\":\"lines\",\"name\":\"19\",\"orientation\":\"v\",\"showlegend\":true,\"type\":\"scatter\",\"x\":[1,2,3,4,5,6,7,8,9,10,11,12],\"xaxis\":\"x\",\"y\":[0.0,0.0,0.0,0.25746610217257726,0.3717220255340639,0.553,0.795,0.995,1.0,1.0,1.0,1.0],\"yaxis\":\"y\"},{\"hovertemplate\":\"sub_id=23<br>video_order=%{x}<br>fear=%{y}<extra></extra>\",\"legendgroup\":\"23\",\"line\":{\"color\":\"#FF6692\",\"dash\":\"solid\"},\"marker\":{\"symbol\":\"circle\"},\"mode\":\"lines\",\"name\":\"23\",\"orientation\":\"v\",\"showlegend\":true,\"type\":\"scatter\",\"x\":[1,2,3,4,5,6,7,8,9,10,11,12],\"xaxis\":\"x\",\"y\":[0.0,0.0,0.0,0.153,0.168,0.389,0.421,0.594,0.685,0.712,0.742,0.849],\"yaxis\":\"y\"},{\"hovertemplate\":\"sub_id=25<br>video_order=%{x}<br>fear=%{y}<extra></extra>\",\"legendgroup\":\"25\",\"line\":{\"color\":\"#B6E880\",\"dash\":\"solid\"},\"marker\":{\"symbol\":\"circle\"},\"mode\":\"lines\",\"name\":\"25\",\"orientation\":\"v\",\"showlegend\":true,\"type\":\"scatter\",\"x\":[1,2,3,4,5,6,7,8,9,10,11,12],\"xaxis\":\"x\",\"y\":[0.0,0.036,0.368,0.709,0.73,0.771,0.782,1.0,1.0,1.0,1.0,1.0],\"yaxis\":\"y\"},{\"hovertemplate\":\"sub_id=26<br>video_order=%{x}<br>fear=%{y}<extra></extra>\",\"legendgroup\":\"26\",\"line\":{\"color\":\"#FF97FF\",\"dash\":\"solid\"},\"marker\":{\"symbol\":\"circle\"},\"mode\":\"lines\",\"name\":\"26\",\"orientation\":\"v\",\"showlegend\":true,\"type\":\"scatter\",\"x\":[1,2,3,4,5,6,7,8,9,10,11,12],\"xaxis\":\"x\",\"y\":[0.074,0.08,0.085,0.129,0.161,0.288,0.4632877661775739,0.49258002703323434,0.537,0.545,0.56,0.574],\"yaxis\":\"y\"},{\"hovertemplate\":\"sub_id=28<br>video_order=%{x}<br>fear=%{y}<extra></extra>\",\"legendgroup\":\"28\",\"line\":{\"color\":\"#FECB52\",\"dash\":\"solid\"},\"marker\":{\"symbol\":\"circle\"},\"mode\":\"lines\",\"name\":\"28\",\"orientation\":\"v\",\"showlegend\":true,\"type\":\"scatter\",\"x\":[1,2,3,4,5,6,7,8,9,10,11,12],\"xaxis\":\"x\",\"y\":[0.09639537513172634,0.101,0.119,0.212,0.218,0.241,0.334,0.348,0.55,0.68,0.685,0.698],\"yaxis\":\"y\"},{\"hovertemplate\":\"sub_id=29<br>video_order=%{x}<br>fear=%{y}<extra></extra>\",\"legendgroup\":\"29\",\"line\":{\"color\":\"#636efa\",\"dash\":\"solid\"},\"marker\":{\"symbol\":\"circle\"},\"mode\":\"lines\",\"name\":\"29\",\"orientation\":\"v\",\"showlegend\":true,\"type\":\"scatter\",\"x\":[1,2,3,4,5,6,7,8,9,10,11,12],\"xaxis\":\"x\",\"y\":[0.212,0.394,0.441,0.459,0.462,0.496,0.498,0.532,0.534,0.561,0.566,0.584],\"yaxis\":\"y\"}],                        {\"height\":400,\"legend\":{\"title\":{\"text\":\"sub_id\"},\"tracegroupgap\":0},\"margin\":{\"t\":60},\"showlegend\":false,\"template\":{\"data\":{\"bar\":[{\"error_x\":{\"color\":\"#2a3f5f\"},\"error_y\":{\"color\":\"#2a3f5f\"},\"marker\":{\"line\":{\"color\":\"#E5ECF6\",\"width\":0.5},\"pattern\":{\"fillmode\":\"overlay\",\"size\":10,\"solidity\":0.2}},\"type\":\"bar\"}],\"barpolar\":[{\"marker\":{\"line\":{\"color\":\"#E5ECF6\",\"width\":0.5},\"pattern\":{\"fillmode\":\"overlay\",\"size\":10,\"solidity\":0.2}},\"type\":\"barpolar\"}],\"carpet\":[{\"aaxis\":{\"endlinecolor\":\"#2a3f5f\",\"gridcolor\":\"white\",\"linecolor\":\"white\",\"minorgridcolor\":\"white\",\"startlinecolor\":\"#2a3f5f\"},\"baxis\":{\"endlinecolor\":\"#2a3f5f\",\"gridcolor\":\"white\",\"linecolor\":\"white\",\"minorgridcolor\":\"white\",\"startlinecolor\":\"#2a3f5f\"},\"type\":\"carpet\"}],\"choropleth\":[{\"colorbar\":{\"outlinewidth\":0,\"ticks\":\"\"},\"type\":\"choropleth\"}],\"contour\":[{\"colorbar\":{\"outlinewidth\":0,\"ticks\":\"\"},\"colorscale\":[[0.0,\"#0d0887\"],[0.1111111111111111,\"#46039f\"],[0.2222222222222222,\"#7201a8\"],[0.3333333333333333,\"#9c179e\"],[0.4444444444444444,\"#bd3786\"],[0.5555555555555556,\"#d8576b\"],[0.6666666666666666,\"#ed7953\"],[0.7777777777777778,\"#fb9f3a\"],[0.8888888888888888,\"#fdca26\"],[1.0,\"#f0f921\"]],\"type\":\"contour\"}],\"contourcarpet\":[{\"colorbar\":{\"outlinewidth\":0,\"ticks\":\"\"},\"type\":\"contourcarpet\"}],\"heatmap\":[{\"colorbar\":{\"outlinewidth\":0,\"ticks\":\"\"},\"colorscale\":[[0.0,\"#0d0887\"],[0.1111111111111111,\"#46039f\"],[0.2222222222222222,\"#7201a8\"],[0.3333333333333333,\"#9c179e\"],[0.4444444444444444,\"#bd3786\"],[0.5555555555555556,\"#d8576b\"],[0.6666666666666666,\"#ed7953\"],[0.7777777777777778,\"#fb9f3a\"],[0.8888888888888888,\"#fdca26\"],[1.0,\"#f0f921\"]],\"type\":\"heatmap\"}],\"heatmapgl\":[{\"colorbar\":{\"outlinewidth\":0,\"ticks\":\"\"},\"colorscale\":[[0.0,\"#0d0887\"],[0.1111111111111111,\"#46039f\"],[0.2222222222222222,\"#7201a8\"],[0.3333333333333333,\"#9c179e\"],[0.4444444444444444,\"#bd3786\"],[0.5555555555555556,\"#d8576b\"],[0.6666666666666666,\"#ed7953\"],[0.7777777777777778,\"#fb9f3a\"],[0.8888888888888888,\"#fdca26\"],[1.0,\"#f0f921\"]],\"type\":\"heatmapgl\"}],\"histogram\":[{\"marker\":{\"pattern\":{\"fillmode\":\"overlay\",\"size\":10,\"solidity\":0.2}},\"type\":\"histogram\"}],\"histogram2d\":[{\"colorbar\":{\"outlinewidth\":0,\"ticks\":\"\"},\"colorscale\":[[0.0,\"#0d0887\"],[0.1111111111111111,\"#46039f\"],[0.2222222222222222,\"#7201a8\"],[0.3333333333333333,\"#9c179e\"],[0.4444444444444444,\"#bd3786\"],[0.5555555555555556,\"#d8576b\"],[0.6666666666666666,\"#ed7953\"],[0.7777777777777778,\"#fb9f3a\"],[0.8888888888888888,\"#fdca26\"],[1.0,\"#f0f921\"]],\"type\":\"histogram2d\"}],\"histogram2dcontour\":[{\"colorbar\":{\"outlinewidth\":0,\"ticks\":\"\"},\"colorscale\":[[0.0,\"#0d0887\"],[0.1111111111111111,\"#46039f\"],[0.2222222222222222,\"#7201a8\"],[0.3333333333333333,\"#9c179e\"],[0.4444444444444444,\"#bd3786\"],[0.5555555555555556,\"#d8576b\"],[0.6666666666666666,\"#ed7953\"],[0.7777777777777778,\"#fb9f3a\"],[0.8888888888888888,\"#fdca26\"],[1.0,\"#f0f921\"]],\"type\":\"histogram2dcontour\"}],\"mesh3d\":[{\"colorbar\":{\"outlinewidth\":0,\"ticks\":\"\"},\"type\":\"mesh3d\"}],\"parcoords\":[{\"line\":{\"colorbar\":{\"outlinewidth\":0,\"ticks\":\"\"}},\"type\":\"parcoords\"}],\"pie\":[{\"automargin\":true,\"type\":\"pie\"}],\"scatter\":[{\"marker\":{\"colorbar\":{\"outlinewidth\":0,\"ticks\":\"\"}},\"type\":\"scatter\"}],\"scatter3d\":[{\"line\":{\"colorbar\":{\"outlinewidth\":0,\"ticks\":\"\"}},\"marker\":{\"colorbar\":{\"outlinewidth\":0,\"ticks\":\"\"}},\"type\":\"scatter3d\"}],\"scattercarpet\":[{\"marker\":{\"colorbar\":{\"outlinewidth\":0,\"ticks\":\"\"}},\"type\":\"scattercarpet\"}],\"scattergeo\":[{\"marker\":{\"colorbar\":{\"outlinewidth\":0,\"ticks\":\"\"}},\"type\":\"scattergeo\"}],\"scattergl\":[{\"marker\":{\"colorbar\":{\"outlinewidth\":0,\"ticks\":\"\"}},\"type\":\"scattergl\"}],\"scattermapbox\":[{\"marker\":{\"colorbar\":{\"outlinewidth\":0,\"ticks\":\"\"}},\"type\":\"scattermapbox\"}],\"scatterpolar\":[{\"marker\":{\"colorbar\":{\"outlinewidth\":0,\"ticks\":\"\"}},\"type\":\"scatterpolar\"}],\"scatterpolargl\":[{\"marker\":{\"colorbar\":{\"outlinewidth\":0,\"ticks\":\"\"}},\"type\":\"scatterpolargl\"}],\"scatterternary\":[{\"marker\":{\"colorbar\":{\"outlinewidth\":0,\"ticks\":\"\"}},\"type\":\"scatterternary\"}],\"surface\":[{\"colorbar\":{\"outlinewidth\":0,\"ticks\":\"\"},\"colorscale\":[[0.0,\"#0d0887\"],[0.1111111111111111,\"#46039f\"],[0.2222222222222222,\"#7201a8\"],[0.3333333333333333,\"#9c179e\"],[0.4444444444444444,\"#bd3786\"],[0.5555555555555556,\"#d8576b\"],[0.6666666666666666,\"#ed7953\"],[0.7777777777777778,\"#fb9f3a\"],[0.8888888888888888,\"#fdca26\"],[1.0,\"#f0f921\"]],\"type\":\"surface\"}],\"table\":[{\"cells\":{\"fill\":{\"color\":\"#EBF0F8\"},\"line\":{\"color\":\"white\"}},\"header\":{\"fill\":{\"color\":\"#C8D4E3\"},\"line\":{\"color\":\"white\"}},\"type\":\"table\"}]},\"layout\":{\"annotationdefaults\":{\"arrowcolor\":\"#2a3f5f\",\"arrowhead\":0,\"arrowwidth\":1},\"autotypenumbers\":\"strict\",\"coloraxis\":{\"colorbar\":{\"outlinewidth\":0,\"ticks\":\"\"}},\"colorscale\":{\"diverging\":[[0,\"#8e0152\"],[0.1,\"#c51b7d\"],[0.2,\"#de77ae\"],[0.3,\"#f1b6da\"],[0.4,\"#fde0ef\"],[0.5,\"#f7f7f7\"],[0.6,\"#e6f5d0\"],[0.7,\"#b8e186\"],[0.8,\"#7fbc41\"],[0.9,\"#4d9221\"],[1,\"#276419\"]],\"sequential\":[[0.0,\"#0d0887\"],[0.1111111111111111,\"#46039f\"],[0.2222222222222222,\"#7201a8\"],[0.3333333333333333,\"#9c179e\"],[0.4444444444444444,\"#bd3786\"],[0.5555555555555556,\"#d8576b\"],[0.6666666666666666,\"#ed7953\"],[0.7777777777777778,\"#fb9f3a\"],[0.8888888888888888,\"#fdca26\"],[1.0,\"#f0f921\"]],\"sequentialminus\":[[0.0,\"#0d0887\"],[0.1111111111111111,\"#46039f\"],[0.2222222222222222,\"#7201a8\"],[0.3333333333333333,\"#9c179e\"],[0.4444444444444444,\"#bd3786\"],[0.5555555555555556,\"#d8576b\"],[0.6666666666666666,\"#ed7953\"],[0.7777777777777778,\"#fb9f3a\"],[0.8888888888888888,\"#fdca26\"],[1.0,\"#f0f921\"]]},\"colorway\":[\"#636efa\",\"#EF553B\",\"#00cc96\",\"#ab63fa\",\"#FFA15A\",\"#19d3f3\",\"#FF6692\",\"#B6E880\",\"#FF97FF\",\"#FECB52\"],\"font\":{\"color\":\"#2a3f5f\"},\"geo\":{\"bgcolor\":\"white\",\"lakecolor\":\"white\",\"landcolor\":\"#E5ECF6\",\"showlakes\":true,\"showland\":true,\"subunitcolor\":\"white\"},\"hoverlabel\":{\"align\":\"left\"},\"hovermode\":\"closest\",\"mapbox\":{\"style\":\"light\"},\"paper_bgcolor\":\"white\",\"plot_bgcolor\":\"#E5ECF6\",\"polar\":{\"angularaxis\":{\"gridcolor\":\"white\",\"linecolor\":\"white\",\"ticks\":\"\"},\"bgcolor\":\"#E5ECF6\",\"radialaxis\":{\"gridcolor\":\"white\",\"linecolor\":\"white\",\"ticks\":\"\"}},\"scene\":{\"xaxis\":{\"backgroundcolor\":\"#E5ECF6\",\"gridcolor\":\"white\",\"gridwidth\":2,\"linecolor\":\"white\",\"showbackground\":true,\"ticks\":\"\",\"zerolinecolor\":\"white\"},\"yaxis\":{\"backgroundcolor\":\"#E5ECF6\",\"gridcolor\":\"white\",\"gridwidth\":2,\"linecolor\":\"white\",\"showbackground\":true,\"ticks\":\"\",\"zerolinecolor\":\"white\"},\"zaxis\":{\"backgroundcolor\":\"#E5ECF6\",\"gridcolor\":\"white\",\"gridwidth\":2,\"linecolor\":\"white\",\"showbackground\":true,\"ticks\":\"\",\"zerolinecolor\":\"white\"}},\"shapedefaults\":{\"line\":{\"color\":\"#2a3f5f\"}},\"ternary\":{\"aaxis\":{\"gridcolor\":\"white\",\"linecolor\":\"white\",\"ticks\":\"\"},\"baxis\":{\"gridcolor\":\"white\",\"linecolor\":\"white\",\"ticks\":\"\"},\"bgcolor\":\"#E5ECF6\",\"caxis\":{\"gridcolor\":\"white\",\"linecolor\":\"white\",\"ticks\":\"\"}},\"title\":{\"x\":0.05},\"xaxis\":{\"automargin\":true,\"gridcolor\":\"white\",\"linecolor\":\"white\",\"ticks\":\"\",\"title\":{\"standoff\":15},\"zerolinecolor\":\"white\",\"zerolinewidth\":2},\"yaxis\":{\"automargin\":true,\"gridcolor\":\"white\",\"linecolor\":\"white\",\"ticks\":\"\",\"title\":{\"standoff\":15},\"zerolinecolor\":\"white\",\"zerolinewidth\":2}}},\"title\":{\"font\":{\"family\":\"Times New Roman\",\"size\":24},\"text\":\"Fear Ratings by Subject: Heights\",\"x\":0.5,\"y\":0.95},\"width\":500,\"xaxis\":{\"anchor\":\"y\",\"domain\":[0.0,1.0],\"linecolor\":\"black\",\"linewidth\":2,\"nticks\":24,\"range\":[0.5,12.5],\"showgrid\":false,\"showline\":true,\"tickfont\":{\"size\":18},\"title\":{\"font\":{\"size\":22},\"text\":\"Videos\"},\"zeroline\":false},\"yaxis\":{\"anchor\":\"x\",\"domain\":[0.0,1.0],\"linecolor\":\"black\",\"linewidth\":2,\"range\":[-0.1,1.1],\"showgrid\":true,\"showline\":true,\"tickfont\":{\"size\":18},\"title\":{\"font\":{\"size\":22},\"text\":\"Fear ratings\"},\"zeroline\":false}},                        {\"responsive\": true}                    ).then(function(){\n",
       "                            \n",
       "var gd = document.getElementById('7c82975b-d62a-4a3e-8040-e99e02b62bd7');\n",
       "var x = new MutationObserver(function (mutations, observer) {{\n",
       "        var display = window.getComputedStyle(gd).display;\n",
       "        if (!display || display === 'none') {{\n",
       "            console.log([gd, 'removed!']);\n",
       "            Plotly.purge(gd);\n",
       "            observer.disconnect();\n",
       "        }}\n",
       "}});\n",
       "\n",
       "// Listen for the removal of the full notebook cells\n",
       "var notebookContainer = gd.closest('#notebook-container');\n",
       "if (notebookContainer) {{\n",
       "    x.observe(notebookContainer, {childList: true});\n",
       "}}\n",
       "\n",
       "// Listen for the clearing of the current output cell\n",
       "var outputEl = gd.closest('.output');\n",
       "if (outputEl) {{\n",
       "    x.observe(outputEl, {childList: true});\n",
       "}}\n",
       "\n",
       "                        })                };                });            </script>        </div>"
      ]
     },
     "metadata": {},
     "output_type": "display_data"
    },
    {
     "data": {
      "application/vnd.plotly.v1+json": {
       "config": {
        "plotlyServerURL": "https://plot.ly"
       },
       "data": [
        {
         "hovertemplate": "sub_id=04<br>video_order=%{x}<br>fear=%{y}<extra></extra>",
         "legendgroup": "04",
         "line": {
          "color": "#636efa",
          "dash": "solid"
         },
         "marker": {
          "symbol": "circle"
         },
         "mode": "lines",
         "name": "04",
         "orientation": "v",
         "showlegend": true,
         "type": "scatter",
         "x": [
          1,
          2,
          3,
          4,
          5,
          6,
          7,
          8,
          9,
          10,
          11,
          12
         ],
         "xaxis": "x",
         "y": [
          0,
          0.015,
          0.057,
          0.148,
          0.158,
          0.301,
          0.332,
          0.407,
          0.613,
          0.62,
          0.665,
          0.688
         ],
         "yaxis": "y"
        },
        {
         "hovertemplate": "sub_id=05<br>video_order=%{x}<br>fear=%{y}<extra></extra>",
         "legendgroup": "05",
         "line": {
          "color": "#EF553B",
          "dash": "solid"
         },
         "marker": {
          "symbol": "circle"
         },
         "mode": "lines",
         "name": "05",
         "orientation": "v",
         "showlegend": true,
         "type": "scatter",
         "x": [
          1,
          2,
          3,
          4,
          5,
          6,
          7,
          8,
          9,
          10,
          11,
          12
         ],
         "xaxis": "x",
         "y": [
          0,
          0.005,
          0.021,
          0.026,
          0.061,
          0.062,
          0.082,
          0.371,
          0.42,
          0.421,
          0.47048199465912793,
          0.917
         ],
         "yaxis": "y"
        },
        {
         "hovertemplate": "sub_id=06<br>video_order=%{x}<br>fear=%{y}<extra></extra>",
         "legendgroup": "06",
         "line": {
          "color": "#00cc96",
          "dash": "solid"
         },
         "marker": {
          "symbol": "circle"
         },
         "mode": "lines",
         "name": "06",
         "orientation": "v",
         "showlegend": true,
         "type": "scatter",
         "x": [
          1,
          2,
          3,
          4,
          5,
          6,
          7,
          8,
          9,
          10,
          11,
          12
         ],
         "xaxis": "x",
         "y": [
          0,
          0,
          0.004,
          0.176,
          0.221,
          0.259,
          0.293,
          0.59,
          0.608,
          0.69,
          0.703,
          0.764
         ],
         "yaxis": "y"
        },
        {
         "hovertemplate": "sub_id=07<br>video_order=%{x}<br>fear=%{y}<extra></extra>",
         "legendgroup": "07",
         "line": {
          "color": "#ab63fa",
          "dash": "solid"
         },
         "marker": {
          "symbol": "circle"
         },
         "mode": "lines",
         "name": "07",
         "orientation": "v",
         "showlegend": true,
         "type": "scatter",
         "x": [
          1,
          2,
          3,
          4,
          5,
          6,
          7,
          8,
          9,
          10,
          11,
          12
         ],
         "xaxis": "x",
         "y": [
          0,
          0,
          0,
          0,
          0,
          0,
          0.043,
          0.057,
          0.119,
          0.192,
          0.626,
          1
         ],
         "yaxis": "y"
        },
        {
         "hovertemplate": "sub_id=08<br>video_order=%{x}<br>fear=%{y}<extra></extra>",
         "legendgroup": "08",
         "line": {
          "color": "#FFA15A",
          "dash": "solid"
         },
         "marker": {
          "symbol": "circle"
         },
         "mode": "lines",
         "name": "08",
         "orientation": "v",
         "showlegend": true,
         "type": "scatter",
         "x": [
          1,
          2,
          3,
          4,
          5,
          6,
          7,
          8,
          9,
          10,
          11,
          12
         ],
         "xaxis": "x",
         "y": [
          0,
          0,
          0,
          0,
          0,
          0,
          0,
          0,
          0,
          0,
          0.134,
          0.717
         ],
         "yaxis": "y"
        },
        {
         "hovertemplate": "sub_id=09<br>video_order=%{x}<br>fear=%{y}<extra></extra>",
         "legendgroup": "09",
         "line": {
          "color": "#19d3f3",
          "dash": "solid"
         },
         "marker": {
          "symbol": "circle"
         },
         "mode": "lines",
         "name": "09",
         "orientation": "v",
         "showlegend": true,
         "type": "scatter",
         "x": [
          1,
          2,
          3,
          4,
          5,
          6,
          7,
          8,
          9,
          10,
          11,
          12
         ],
         "xaxis": "x",
         "y": [
          0,
          0,
          0,
          0,
          0,
          0.015,
          0.064,
          0.127,
          0.538,
          0.6,
          0.745,
          0.852
         ],
         "yaxis": "y"
        },
        {
         "hovertemplate": "sub_id=10<br>video_order=%{x}<br>fear=%{y}<extra></extra>",
         "legendgroup": "10",
         "line": {
          "color": "#FF6692",
          "dash": "solid"
         },
         "marker": {
          "symbol": "circle"
         },
         "mode": "lines",
         "name": "10",
         "orientation": "v",
         "showlegend": true,
         "type": "scatter",
         "x": [
          1,
          2,
          3,
          4,
          5,
          6,
          7,
          8,
          9,
          10,
          11,
          12
         ],
         "xaxis": "x",
         "y": [
          0,
          0,
          0,
          0.033,
          0.036,
          0.048,
          0.195,
          0.495,
          0.717,
          1,
          1,
          1
         ],
         "yaxis": "y"
        },
        {
         "hovertemplate": "sub_id=11<br>video_order=%{x}<br>fear=%{y}<extra></extra>",
         "legendgroup": "11",
         "line": {
          "color": "#B6E880",
          "dash": "solid"
         },
         "marker": {
          "symbol": "circle"
         },
         "mode": "lines",
         "name": "11",
         "orientation": "v",
         "showlegend": true,
         "type": "scatter",
         "x": [
          1,
          2,
          3,
          4,
          5,
          6,
          7,
          8,
          9,
          10,
          11,
          12
         ],
         "xaxis": "x",
         "y": [
          0.062,
          0.07,
          0.091,
          0.098,
          0.098,
          0.142,
          0.147,
          0.15,
          0.158,
          0.207,
          0.247,
          0.282
         ],
         "yaxis": "y"
        },
        {
         "hovertemplate": "sub_id=12<br>video_order=%{x}<br>fear=%{y}<extra></extra>",
         "legendgroup": "12",
         "line": {
          "color": "#FF97FF",
          "dash": "solid"
         },
         "marker": {
          "symbol": "circle"
         },
         "mode": "lines",
         "name": "12",
         "orientation": "v",
         "showlegend": true,
         "type": "scatter",
         "x": [
          1,
          2,
          3,
          4,
          5,
          6,
          7,
          8,
          9,
          10,
          11,
          12
         ],
         "xaxis": "x",
         "y": [
          0.254,
          0.278,
          0.311,
          0.317,
          0.327,
          0.337,
          0.35,
          0.366,
          0.382,
          0.529,
          0.633,
          0.656
         ],
         "yaxis": "y"
        },
        {
         "hovertemplate": "sub_id=13<br>video_order=%{x}<br>fear=%{y}<extra></extra>",
         "legendgroup": "13",
         "line": {
          "color": "#FECB52",
          "dash": "solid"
         },
         "marker": {
          "symbol": "circle"
         },
         "mode": "lines",
         "name": "13",
         "orientation": "v",
         "showlegend": true,
         "type": "scatter",
         "x": [
          1,
          2,
          3,
          4,
          5,
          6,
          7,
          8,
          9,
          10,
          11,
          12
         ],
         "xaxis": "x",
         "y": [
          0.098,
          0.111,
          0.129,
          0.152,
          0.165,
          0.178,
          0.636,
          0.691,
          0.701,
          0.711,
          0.75,
          0.776
         ],
         "yaxis": "y"
        },
        {
         "hovertemplate": "sub_id=14<br>video_order=%{x}<br>fear=%{y}<extra></extra>",
         "legendgroup": "14",
         "line": {
          "color": "#636efa",
          "dash": "solid"
         },
         "marker": {
          "symbol": "circle"
         },
         "mode": "lines",
         "name": "14",
         "orientation": "v",
         "showlegend": true,
         "type": "scatter",
         "x": [
          1,
          2,
          3,
          4,
          5,
          6,
          7,
          8,
          9,
          10,
          11,
          12
         ],
         "xaxis": "x",
         "y": [
          0,
          0,
          0,
          0,
          0,
          0,
          0,
          0,
          0,
          0.008,
          0.008232676523528416,
          0.018
         ],
         "yaxis": "y"
        },
        {
         "hovertemplate": "sub_id=15<br>video_order=%{x}<br>fear=%{y}<extra></extra>",
         "legendgroup": "15",
         "line": {
          "color": "#EF553B",
          "dash": "solid"
         },
         "marker": {
          "symbol": "circle"
         },
         "mode": "lines",
         "name": "15",
         "orientation": "v",
         "showlegend": true,
         "type": "scatter",
         "x": [
          1,
          2,
          3,
          4,
          5,
          6,
          7,
          8,
          9,
          10,
          11,
          12
         ],
         "xaxis": "x",
         "y": [
          0,
          0,
          0.004,
          0.012,
          0.124,
          0.368,
          0.373111248418264,
          0.4365322420236067,
          0.5991633866269714,
          0.612,
          0.753,
          0.81
         ],
         "yaxis": "y"
        },
        {
         "hovertemplate": "sub_id=16<br>video_order=%{x}<br>fear=%{y}<extra></extra>",
         "legendgroup": "16",
         "line": {
          "color": "#00cc96",
          "dash": "solid"
         },
         "marker": {
          "symbol": "circle"
         },
         "mode": "lines",
         "name": "16",
         "orientation": "v",
         "showlegend": true,
         "type": "scatter",
         "x": [
          1,
          2,
          3,
          4,
          5,
          6,
          7,
          8,
          9,
          10,
          11,
          12
         ],
         "xaxis": "x",
         "y": [
          0,
          0,
          0,
          0,
          0,
          0,
          0,
          0.179,
          0.446,
          0.595,
          0.994,
          1
         ],
         "yaxis": "y"
        },
        {
         "hovertemplate": "sub_id=17<br>video_order=%{x}<br>fear=%{y}<extra></extra>",
         "legendgroup": "17",
         "line": {
          "color": "#ab63fa",
          "dash": "solid"
         },
         "marker": {
          "symbol": "circle"
         },
         "mode": "lines",
         "name": "17",
         "orientation": "v",
         "showlegend": true,
         "type": "scatter",
         "x": [
          1,
          2,
          3,
          4,
          5,
          6,
          7,
          8,
          9,
          10,
          11,
          12
         ],
         "xaxis": "x",
         "y": [
          0,
          0,
          0.059,
          0.064,
          0.119,
          0.158,
          0.169,
          0.204,
          0.231,
          0.28,
          0.378,
          0.605
         ],
         "yaxis": "y"
        },
        {
         "hovertemplate": "sub_id=18<br>video_order=%{x}<br>fear=%{y}<extra></extra>",
         "legendgroup": "18",
         "line": {
          "color": "#FFA15A",
          "dash": "solid"
         },
         "marker": {
          "symbol": "circle"
         },
         "mode": "lines",
         "name": "18",
         "orientation": "v",
         "showlegend": true,
         "type": "scatter",
         "x": [
          1,
          2,
          3,
          4,
          5,
          6,
          7,
          8,
          9,
          10,
          11,
          12
         ],
         "xaxis": "x",
         "y": [
          0,
          0,
          0,
          0,
          0,
          0.043,
          0.295,
          0.347,
          0.763,
          0.774,
          0.878,
          0.932
         ],
         "yaxis": "y"
        },
        {
         "hovertemplate": "sub_id=19<br>video_order=%{x}<br>fear=%{y}<extra></extra>",
         "legendgroup": "19",
         "line": {
          "color": "#19d3f3",
          "dash": "solid"
         },
         "marker": {
          "symbol": "circle"
         },
         "mode": "lines",
         "name": "19",
         "orientation": "v",
         "showlegend": true,
         "type": "scatter",
         "x": [
          1,
          2,
          3,
          4,
          5,
          6,
          7,
          8,
          9,
          10,
          11,
          12
         ],
         "xaxis": "x",
         "y": [
          0,
          0,
          0,
          0,
          0.008,
          0.11689740193236307,
          0.578451565854681,
          0.584,
          0.587,
          0.623,
          0.673,
          0.782
         ],
         "yaxis": "y"
        },
        {
         "hovertemplate": "sub_id=23<br>video_order=%{x}<br>fear=%{y}<extra></extra>",
         "legendgroup": "23",
         "line": {
          "color": "#FF6692",
          "dash": "solid"
         },
         "marker": {
          "symbol": "circle"
         },
         "mode": "lines",
         "name": "23",
         "orientation": "v",
         "showlegend": true,
         "type": "scatter",
         "x": [
          1,
          2,
          3,
          4,
          5,
          6,
          7,
          8,
          9,
          10,
          11,
          12
         ],
         "xaxis": "x",
         "y": [
          0,
          0,
          0.122,
          0.215,
          0.395,
          0.428,
          0.542,
          0.551,
          0.561,
          0.628,
          0.712,
          0.782
         ],
         "yaxis": "y"
        },
        {
         "hovertemplate": "sub_id=25<br>video_order=%{x}<br>fear=%{y}<extra></extra>",
         "legendgroup": "25",
         "line": {
          "color": "#B6E880",
          "dash": "solid"
         },
         "marker": {
          "symbol": "circle"
         },
         "mode": "lines",
         "name": "25",
         "orientation": "v",
         "showlegend": true,
         "type": "scatter",
         "x": [
          1,
          2,
          3,
          4,
          5,
          6,
          7,
          8,
          9,
          10,
          11,
          12
         ],
         "xaxis": "x",
         "y": [
          0,
          0,
          0,
          0,
          0.013,
          0.124,
          0.21,
          0.316,
          0.657,
          0.711,
          1,
          1
         ],
         "yaxis": "y"
        },
        {
         "hovertemplate": "sub_id=26<br>video_order=%{x}<br>fear=%{y}<extra></extra>",
         "legendgroup": "26",
         "line": {
          "color": "#FF97FF",
          "dash": "solid"
         },
         "marker": {
          "symbol": "circle"
         },
         "mode": "lines",
         "name": "26",
         "orientation": "v",
         "showlegend": true,
         "type": "scatter",
         "x": [
          1,
          2,
          3,
          4,
          5,
          6,
          7,
          8,
          9,
          10,
          11,
          12
         ],
         "xaxis": "x",
         "y": [
          0.056,
          0.067,
          0.0709587076951725,
          0.117,
          0.152,
          0.184,
          0.21633644420160786,
          0.223,
          0.241,
          0.32582994274009597,
          0.525926772496625,
          0.529
         ],
         "yaxis": "y"
        },
        {
         "hovertemplate": "sub_id=28<br>video_order=%{x}<br>fear=%{y}<extra></extra>",
         "legendgroup": "28",
         "line": {
          "color": "#FECB52",
          "dash": "solid"
         },
         "marker": {
          "symbol": "circle"
         },
         "mode": "lines",
         "name": "28",
         "orientation": "v",
         "showlegend": true,
         "type": "scatter",
         "x": [
          1,
          2,
          3,
          4,
          5,
          6,
          7,
          8,
          9,
          10,
          11,
          12
         ],
         "xaxis": "x",
         "y": [
          0.064,
          0.065,
          0.07,
          0.077,
          0.087,
          0.104,
          0.116,
          0.308,
          0.382,
          0.607,
          0.644,
          0.761
         ],
         "yaxis": "y"
        },
        {
         "hovertemplate": "sub_id=29<br>video_order=%{x}<br>fear=%{y}<extra></extra>",
         "legendgroup": "29",
         "line": {
          "color": "#636efa",
          "dash": "solid"
         },
         "marker": {
          "symbol": "circle"
         },
         "mode": "lines",
         "name": "29",
         "orientation": "v",
         "showlegend": true,
         "type": "scatter",
         "x": [
          1,
          2,
          3,
          4,
          5,
          6,
          7,
          8,
          9,
          10,
          11,
          12
         ],
         "xaxis": "x",
         "y": [
          0.174,
          0.335,
          0.402,
          0.43,
          0.43,
          0.444,
          0.449,
          0.525,
          0.547,
          0.577,
          0.579,
          0.634
         ],
         "yaxis": "y"
        }
       ],
       "layout": {
        "height": 400,
        "legend": {
         "title": {
          "text": "sub_id"
         },
         "tracegroupgap": 0
        },
        "margin": {
         "t": 60
        },
        "showlegend": false,
        "template": {
         "data": {
          "bar": [
           {
            "error_x": {
             "color": "#2a3f5f"
            },
            "error_y": {
             "color": "#2a3f5f"
            },
            "marker": {
             "line": {
              "color": "#E5ECF6",
              "width": 0.5
             },
             "pattern": {
              "fillmode": "overlay",
              "size": 10,
              "solidity": 0.2
             }
            },
            "type": "bar"
           }
          ],
          "barpolar": [
           {
            "marker": {
             "line": {
              "color": "#E5ECF6",
              "width": 0.5
             },
             "pattern": {
              "fillmode": "overlay",
              "size": 10,
              "solidity": 0.2
             }
            },
            "type": "barpolar"
           }
          ],
          "carpet": [
           {
            "aaxis": {
             "endlinecolor": "#2a3f5f",
             "gridcolor": "white",
             "linecolor": "white",
             "minorgridcolor": "white",
             "startlinecolor": "#2a3f5f"
            },
            "baxis": {
             "endlinecolor": "#2a3f5f",
             "gridcolor": "white",
             "linecolor": "white",
             "minorgridcolor": "white",
             "startlinecolor": "#2a3f5f"
            },
            "type": "carpet"
           }
          ],
          "choropleth": [
           {
            "colorbar": {
             "outlinewidth": 0,
             "ticks": ""
            },
            "type": "choropleth"
           }
          ],
          "contour": [
           {
            "colorbar": {
             "outlinewidth": 0,
             "ticks": ""
            },
            "colorscale": [
             [
              0,
              "#0d0887"
             ],
             [
              0.1111111111111111,
              "#46039f"
             ],
             [
              0.2222222222222222,
              "#7201a8"
             ],
             [
              0.3333333333333333,
              "#9c179e"
             ],
             [
              0.4444444444444444,
              "#bd3786"
             ],
             [
              0.5555555555555556,
              "#d8576b"
             ],
             [
              0.6666666666666666,
              "#ed7953"
             ],
             [
              0.7777777777777778,
              "#fb9f3a"
             ],
             [
              0.8888888888888888,
              "#fdca26"
             ],
             [
              1,
              "#f0f921"
             ]
            ],
            "type": "contour"
           }
          ],
          "contourcarpet": [
           {
            "colorbar": {
             "outlinewidth": 0,
             "ticks": ""
            },
            "type": "contourcarpet"
           }
          ],
          "heatmap": [
           {
            "colorbar": {
             "outlinewidth": 0,
             "ticks": ""
            },
            "colorscale": [
             [
              0,
              "#0d0887"
             ],
             [
              0.1111111111111111,
              "#46039f"
             ],
             [
              0.2222222222222222,
              "#7201a8"
             ],
             [
              0.3333333333333333,
              "#9c179e"
             ],
             [
              0.4444444444444444,
              "#bd3786"
             ],
             [
              0.5555555555555556,
              "#d8576b"
             ],
             [
              0.6666666666666666,
              "#ed7953"
             ],
             [
              0.7777777777777778,
              "#fb9f3a"
             ],
             [
              0.8888888888888888,
              "#fdca26"
             ],
             [
              1,
              "#f0f921"
             ]
            ],
            "type": "heatmap"
           }
          ],
          "heatmapgl": [
           {
            "colorbar": {
             "outlinewidth": 0,
             "ticks": ""
            },
            "colorscale": [
             [
              0,
              "#0d0887"
             ],
             [
              0.1111111111111111,
              "#46039f"
             ],
             [
              0.2222222222222222,
              "#7201a8"
             ],
             [
              0.3333333333333333,
              "#9c179e"
             ],
             [
              0.4444444444444444,
              "#bd3786"
             ],
             [
              0.5555555555555556,
              "#d8576b"
             ],
             [
              0.6666666666666666,
              "#ed7953"
             ],
             [
              0.7777777777777778,
              "#fb9f3a"
             ],
             [
              0.8888888888888888,
              "#fdca26"
             ],
             [
              1,
              "#f0f921"
             ]
            ],
            "type": "heatmapgl"
           }
          ],
          "histogram": [
           {
            "marker": {
             "pattern": {
              "fillmode": "overlay",
              "size": 10,
              "solidity": 0.2
             }
            },
            "type": "histogram"
           }
          ],
          "histogram2d": [
           {
            "colorbar": {
             "outlinewidth": 0,
             "ticks": ""
            },
            "colorscale": [
             [
              0,
              "#0d0887"
             ],
             [
              0.1111111111111111,
              "#46039f"
             ],
             [
              0.2222222222222222,
              "#7201a8"
             ],
             [
              0.3333333333333333,
              "#9c179e"
             ],
             [
              0.4444444444444444,
              "#bd3786"
             ],
             [
              0.5555555555555556,
              "#d8576b"
             ],
             [
              0.6666666666666666,
              "#ed7953"
             ],
             [
              0.7777777777777778,
              "#fb9f3a"
             ],
             [
              0.8888888888888888,
              "#fdca26"
             ],
             [
              1,
              "#f0f921"
             ]
            ],
            "type": "histogram2d"
           }
          ],
          "histogram2dcontour": [
           {
            "colorbar": {
             "outlinewidth": 0,
             "ticks": ""
            },
            "colorscale": [
             [
              0,
              "#0d0887"
             ],
             [
              0.1111111111111111,
              "#46039f"
             ],
             [
              0.2222222222222222,
              "#7201a8"
             ],
             [
              0.3333333333333333,
              "#9c179e"
             ],
             [
              0.4444444444444444,
              "#bd3786"
             ],
             [
              0.5555555555555556,
              "#d8576b"
             ],
             [
              0.6666666666666666,
              "#ed7953"
             ],
             [
              0.7777777777777778,
              "#fb9f3a"
             ],
             [
              0.8888888888888888,
              "#fdca26"
             ],
             [
              1,
              "#f0f921"
             ]
            ],
            "type": "histogram2dcontour"
           }
          ],
          "mesh3d": [
           {
            "colorbar": {
             "outlinewidth": 0,
             "ticks": ""
            },
            "type": "mesh3d"
           }
          ],
          "parcoords": [
           {
            "line": {
             "colorbar": {
              "outlinewidth": 0,
              "ticks": ""
             }
            },
            "type": "parcoords"
           }
          ],
          "pie": [
           {
            "automargin": true,
            "type": "pie"
           }
          ],
          "scatter": [
           {
            "marker": {
             "colorbar": {
              "outlinewidth": 0,
              "ticks": ""
             }
            },
            "type": "scatter"
           }
          ],
          "scatter3d": [
           {
            "line": {
             "colorbar": {
              "outlinewidth": 0,
              "ticks": ""
             }
            },
            "marker": {
             "colorbar": {
              "outlinewidth": 0,
              "ticks": ""
             }
            },
            "type": "scatter3d"
           }
          ],
          "scattercarpet": [
           {
            "marker": {
             "colorbar": {
              "outlinewidth": 0,
              "ticks": ""
             }
            },
            "type": "scattercarpet"
           }
          ],
          "scattergeo": [
           {
            "marker": {
             "colorbar": {
              "outlinewidth": 0,
              "ticks": ""
             }
            },
            "type": "scattergeo"
           }
          ],
          "scattergl": [
           {
            "marker": {
             "colorbar": {
              "outlinewidth": 0,
              "ticks": ""
             }
            },
            "type": "scattergl"
           }
          ],
          "scattermapbox": [
           {
            "marker": {
             "colorbar": {
              "outlinewidth": 0,
              "ticks": ""
             }
            },
            "type": "scattermapbox"
           }
          ],
          "scatterpolar": [
           {
            "marker": {
             "colorbar": {
              "outlinewidth": 0,
              "ticks": ""
             }
            },
            "type": "scatterpolar"
           }
          ],
          "scatterpolargl": [
           {
            "marker": {
             "colorbar": {
              "outlinewidth": 0,
              "ticks": ""
             }
            },
            "type": "scatterpolargl"
           }
          ],
          "scatterternary": [
           {
            "marker": {
             "colorbar": {
              "outlinewidth": 0,
              "ticks": ""
             }
            },
            "type": "scatterternary"
           }
          ],
          "surface": [
           {
            "colorbar": {
             "outlinewidth": 0,
             "ticks": ""
            },
            "colorscale": [
             [
              0,
              "#0d0887"
             ],
             [
              0.1111111111111111,
              "#46039f"
             ],
             [
              0.2222222222222222,
              "#7201a8"
             ],
             [
              0.3333333333333333,
              "#9c179e"
             ],
             [
              0.4444444444444444,
              "#bd3786"
             ],
             [
              0.5555555555555556,
              "#d8576b"
             ],
             [
              0.6666666666666666,
              "#ed7953"
             ],
             [
              0.7777777777777778,
              "#fb9f3a"
             ],
             [
              0.8888888888888888,
              "#fdca26"
             ],
             [
              1,
              "#f0f921"
             ]
            ],
            "type": "surface"
           }
          ],
          "table": [
           {
            "cells": {
             "fill": {
              "color": "#EBF0F8"
             },
             "line": {
              "color": "white"
             }
            },
            "header": {
             "fill": {
              "color": "#C8D4E3"
             },
             "line": {
              "color": "white"
             }
            },
            "type": "table"
           }
          ]
         },
         "layout": {
          "annotationdefaults": {
           "arrowcolor": "#2a3f5f",
           "arrowhead": 0,
           "arrowwidth": 1
          },
          "autotypenumbers": "strict",
          "coloraxis": {
           "colorbar": {
            "outlinewidth": 0,
            "ticks": ""
           }
          },
          "colorscale": {
           "diverging": [
            [
             0,
             "#8e0152"
            ],
            [
             0.1,
             "#c51b7d"
            ],
            [
             0.2,
             "#de77ae"
            ],
            [
             0.3,
             "#f1b6da"
            ],
            [
             0.4,
             "#fde0ef"
            ],
            [
             0.5,
             "#f7f7f7"
            ],
            [
             0.6,
             "#e6f5d0"
            ],
            [
             0.7,
             "#b8e186"
            ],
            [
             0.8,
             "#7fbc41"
            ],
            [
             0.9,
             "#4d9221"
            ],
            [
             1,
             "#276419"
            ]
           ],
           "sequential": [
            [
             0,
             "#0d0887"
            ],
            [
             0.1111111111111111,
             "#46039f"
            ],
            [
             0.2222222222222222,
             "#7201a8"
            ],
            [
             0.3333333333333333,
             "#9c179e"
            ],
            [
             0.4444444444444444,
             "#bd3786"
            ],
            [
             0.5555555555555556,
             "#d8576b"
            ],
            [
             0.6666666666666666,
             "#ed7953"
            ],
            [
             0.7777777777777778,
             "#fb9f3a"
            ],
            [
             0.8888888888888888,
             "#fdca26"
            ],
            [
             1,
             "#f0f921"
            ]
           ],
           "sequentialminus": [
            [
             0,
             "#0d0887"
            ],
            [
             0.1111111111111111,
             "#46039f"
            ],
            [
             0.2222222222222222,
             "#7201a8"
            ],
            [
             0.3333333333333333,
             "#9c179e"
            ],
            [
             0.4444444444444444,
             "#bd3786"
            ],
            [
             0.5555555555555556,
             "#d8576b"
            ],
            [
             0.6666666666666666,
             "#ed7953"
            ],
            [
             0.7777777777777778,
             "#fb9f3a"
            ],
            [
             0.8888888888888888,
             "#fdca26"
            ],
            [
             1,
             "#f0f921"
            ]
           ]
          },
          "colorway": [
           "#636efa",
           "#EF553B",
           "#00cc96",
           "#ab63fa",
           "#FFA15A",
           "#19d3f3",
           "#FF6692",
           "#B6E880",
           "#FF97FF",
           "#FECB52"
          ],
          "font": {
           "color": "#2a3f5f"
          },
          "geo": {
           "bgcolor": "white",
           "lakecolor": "white",
           "landcolor": "#E5ECF6",
           "showlakes": true,
           "showland": true,
           "subunitcolor": "white"
          },
          "hoverlabel": {
           "align": "left"
          },
          "hovermode": "closest",
          "mapbox": {
           "style": "light"
          },
          "paper_bgcolor": "white",
          "plot_bgcolor": "#E5ECF6",
          "polar": {
           "angularaxis": {
            "gridcolor": "white",
            "linecolor": "white",
            "ticks": ""
           },
           "bgcolor": "#E5ECF6",
           "radialaxis": {
            "gridcolor": "white",
            "linecolor": "white",
            "ticks": ""
           }
          },
          "scene": {
           "xaxis": {
            "backgroundcolor": "#E5ECF6",
            "gridcolor": "white",
            "gridwidth": 2,
            "linecolor": "white",
            "showbackground": true,
            "ticks": "",
            "zerolinecolor": "white"
           },
           "yaxis": {
            "backgroundcolor": "#E5ECF6",
            "gridcolor": "white",
            "gridwidth": 2,
            "linecolor": "white",
            "showbackground": true,
            "ticks": "",
            "zerolinecolor": "white"
           },
           "zaxis": {
            "backgroundcolor": "#E5ECF6",
            "gridcolor": "white",
            "gridwidth": 2,
            "linecolor": "white",
            "showbackground": true,
            "ticks": "",
            "zerolinecolor": "white"
           }
          },
          "shapedefaults": {
           "line": {
            "color": "#2a3f5f"
           }
          },
          "ternary": {
           "aaxis": {
            "gridcolor": "white",
            "linecolor": "white",
            "ticks": ""
           },
           "baxis": {
            "gridcolor": "white",
            "linecolor": "white",
            "ticks": ""
           },
           "bgcolor": "#E5ECF6",
           "caxis": {
            "gridcolor": "white",
            "linecolor": "white",
            "ticks": ""
           }
          },
          "title": {
           "x": 0.05
          },
          "xaxis": {
           "automargin": true,
           "gridcolor": "white",
           "linecolor": "white",
           "ticks": "",
           "title": {
            "standoff": 15
           },
           "zerolinecolor": "white",
           "zerolinewidth": 2
          },
          "yaxis": {
           "automargin": true,
           "gridcolor": "white",
           "linecolor": "white",
           "ticks": "",
           "title": {
            "standoff": 15
           },
           "zerolinecolor": "white",
           "zerolinewidth": 2
          }
         }
        },
        "title": {
         "font": {
          "family": "Times New Roman",
          "size": 24
         },
         "text": "Fear Ratings by Subject: Social",
         "x": 0.5,
         "y": 0.95
        },
        "width": 500,
        "xaxis": {
         "anchor": "y",
         "domain": [
          0,
          1
         ],
         "linecolor": "black",
         "linewidth": 2,
         "nticks": 24,
         "range": [
          0.5,
          12.5
         ],
         "showgrid": false,
         "showline": true,
         "tickfont": {
          "size": 18
         },
         "title": {
          "font": {
           "size": 22
          },
          "text": "Videos"
         },
         "zeroline": false
        },
        "yaxis": {
         "anchor": "x",
         "domain": [
          0,
          1
         ],
         "linecolor": "black",
         "linewidth": 2,
         "range": [
          -0.1,
          1.1
         ],
         "showgrid": true,
         "showline": true,
         "tickfont": {
          "size": 18
         },
         "title": {
          "font": {
           "size": 22
          },
          "text": "Fear ratings"
         },
         "zeroline": false
        }
       }
      },
      "text/html": [
       "<div>                            <div id=\"d3029a9d-dbe2-4761-a982-ac969f3c85d0\" class=\"plotly-graph-div\" style=\"height:400px; width:500px;\"></div>            <script type=\"text/javascript\">                require([\"plotly\"], function(Plotly) {                    window.PLOTLYENV=window.PLOTLYENV || {};                                    if (document.getElementById(\"d3029a9d-dbe2-4761-a982-ac969f3c85d0\")) {                    Plotly.newPlot(                        \"d3029a9d-dbe2-4761-a982-ac969f3c85d0\",                        [{\"hovertemplate\":\"sub_id=04<br>video_order=%{x}<br>fear=%{y}<extra></extra>\",\"legendgroup\":\"04\",\"line\":{\"color\":\"#636efa\",\"dash\":\"solid\"},\"marker\":{\"symbol\":\"circle\"},\"mode\":\"lines\",\"name\":\"04\",\"orientation\":\"v\",\"showlegend\":true,\"type\":\"scatter\",\"x\":[1,2,3,4,5,6,7,8,9,10,11,12],\"xaxis\":\"x\",\"y\":[0.0,0.015,0.057,0.148,0.158,0.301,0.332,0.407,0.613,0.62,0.665,0.688],\"yaxis\":\"y\"},{\"hovertemplate\":\"sub_id=05<br>video_order=%{x}<br>fear=%{y}<extra></extra>\",\"legendgroup\":\"05\",\"line\":{\"color\":\"#EF553B\",\"dash\":\"solid\"},\"marker\":{\"symbol\":\"circle\"},\"mode\":\"lines\",\"name\":\"05\",\"orientation\":\"v\",\"showlegend\":true,\"type\":\"scatter\",\"x\":[1,2,3,4,5,6,7,8,9,10,11,12],\"xaxis\":\"x\",\"y\":[0.0,0.005,0.021,0.026,0.061,0.062,0.082,0.371,0.42,0.421,0.47048199465912793,0.917],\"yaxis\":\"y\"},{\"hovertemplate\":\"sub_id=06<br>video_order=%{x}<br>fear=%{y}<extra></extra>\",\"legendgroup\":\"06\",\"line\":{\"color\":\"#00cc96\",\"dash\":\"solid\"},\"marker\":{\"symbol\":\"circle\"},\"mode\":\"lines\",\"name\":\"06\",\"orientation\":\"v\",\"showlegend\":true,\"type\":\"scatter\",\"x\":[1,2,3,4,5,6,7,8,9,10,11,12],\"xaxis\":\"x\",\"y\":[0.0,0.0,0.004,0.176,0.221,0.259,0.293,0.59,0.608,0.69,0.703,0.764],\"yaxis\":\"y\"},{\"hovertemplate\":\"sub_id=07<br>video_order=%{x}<br>fear=%{y}<extra></extra>\",\"legendgroup\":\"07\",\"line\":{\"color\":\"#ab63fa\",\"dash\":\"solid\"},\"marker\":{\"symbol\":\"circle\"},\"mode\":\"lines\",\"name\":\"07\",\"orientation\":\"v\",\"showlegend\":true,\"type\":\"scatter\",\"x\":[1,2,3,4,5,6,7,8,9,10,11,12],\"xaxis\":\"x\",\"y\":[0.0,0.0,0.0,0.0,0.0,0.0,0.043,0.057,0.119,0.192,0.626,1.0],\"yaxis\":\"y\"},{\"hovertemplate\":\"sub_id=08<br>video_order=%{x}<br>fear=%{y}<extra></extra>\",\"legendgroup\":\"08\",\"line\":{\"color\":\"#FFA15A\",\"dash\":\"solid\"},\"marker\":{\"symbol\":\"circle\"},\"mode\":\"lines\",\"name\":\"08\",\"orientation\":\"v\",\"showlegend\":true,\"type\":\"scatter\",\"x\":[1,2,3,4,5,6,7,8,9,10,11,12],\"xaxis\":\"x\",\"y\":[0.0,0.0,0.0,0.0,0.0,0.0,0.0,0.0,0.0,0.0,0.134,0.717],\"yaxis\":\"y\"},{\"hovertemplate\":\"sub_id=09<br>video_order=%{x}<br>fear=%{y}<extra></extra>\",\"legendgroup\":\"09\",\"line\":{\"color\":\"#19d3f3\",\"dash\":\"solid\"},\"marker\":{\"symbol\":\"circle\"},\"mode\":\"lines\",\"name\":\"09\",\"orientation\":\"v\",\"showlegend\":true,\"type\":\"scatter\",\"x\":[1,2,3,4,5,6,7,8,9,10,11,12],\"xaxis\":\"x\",\"y\":[0.0,0.0,0.0,0.0,0.0,0.015,0.064,0.127,0.538,0.6,0.745,0.852],\"yaxis\":\"y\"},{\"hovertemplate\":\"sub_id=10<br>video_order=%{x}<br>fear=%{y}<extra></extra>\",\"legendgroup\":\"10\",\"line\":{\"color\":\"#FF6692\",\"dash\":\"solid\"},\"marker\":{\"symbol\":\"circle\"},\"mode\":\"lines\",\"name\":\"10\",\"orientation\":\"v\",\"showlegend\":true,\"type\":\"scatter\",\"x\":[1,2,3,4,5,6,7,8,9,10,11,12],\"xaxis\":\"x\",\"y\":[0.0,0.0,0.0,0.033,0.036,0.048,0.195,0.495,0.717,1.0,1.0,1.0],\"yaxis\":\"y\"},{\"hovertemplate\":\"sub_id=11<br>video_order=%{x}<br>fear=%{y}<extra></extra>\",\"legendgroup\":\"11\",\"line\":{\"color\":\"#B6E880\",\"dash\":\"solid\"},\"marker\":{\"symbol\":\"circle\"},\"mode\":\"lines\",\"name\":\"11\",\"orientation\":\"v\",\"showlegend\":true,\"type\":\"scatter\",\"x\":[1,2,3,4,5,6,7,8,9,10,11,12],\"xaxis\":\"x\",\"y\":[0.062,0.07,0.091,0.098,0.098,0.142,0.147,0.15,0.158,0.207,0.247,0.282],\"yaxis\":\"y\"},{\"hovertemplate\":\"sub_id=12<br>video_order=%{x}<br>fear=%{y}<extra></extra>\",\"legendgroup\":\"12\",\"line\":{\"color\":\"#FF97FF\",\"dash\":\"solid\"},\"marker\":{\"symbol\":\"circle\"},\"mode\":\"lines\",\"name\":\"12\",\"orientation\":\"v\",\"showlegend\":true,\"type\":\"scatter\",\"x\":[1,2,3,4,5,6,7,8,9,10,11,12],\"xaxis\":\"x\",\"y\":[0.254,0.278,0.311,0.317,0.327,0.337,0.35,0.366,0.382,0.529,0.633,0.656],\"yaxis\":\"y\"},{\"hovertemplate\":\"sub_id=13<br>video_order=%{x}<br>fear=%{y}<extra></extra>\",\"legendgroup\":\"13\",\"line\":{\"color\":\"#FECB52\",\"dash\":\"solid\"},\"marker\":{\"symbol\":\"circle\"},\"mode\":\"lines\",\"name\":\"13\",\"orientation\":\"v\",\"showlegend\":true,\"type\":\"scatter\",\"x\":[1,2,3,4,5,6,7,8,9,10,11,12],\"xaxis\":\"x\",\"y\":[0.098,0.111,0.129,0.152,0.165,0.178,0.636,0.691,0.701,0.711,0.75,0.776],\"yaxis\":\"y\"},{\"hovertemplate\":\"sub_id=14<br>video_order=%{x}<br>fear=%{y}<extra></extra>\",\"legendgroup\":\"14\",\"line\":{\"color\":\"#636efa\",\"dash\":\"solid\"},\"marker\":{\"symbol\":\"circle\"},\"mode\":\"lines\",\"name\":\"14\",\"orientation\":\"v\",\"showlegend\":true,\"type\":\"scatter\",\"x\":[1,2,3,4,5,6,7,8,9,10,11,12],\"xaxis\":\"x\",\"y\":[0.0,0.0,0.0,0.0,0.0,0.0,0.0,0.0,0.0,0.008,0.008232676523528416,0.018],\"yaxis\":\"y\"},{\"hovertemplate\":\"sub_id=15<br>video_order=%{x}<br>fear=%{y}<extra></extra>\",\"legendgroup\":\"15\",\"line\":{\"color\":\"#EF553B\",\"dash\":\"solid\"},\"marker\":{\"symbol\":\"circle\"},\"mode\":\"lines\",\"name\":\"15\",\"orientation\":\"v\",\"showlegend\":true,\"type\":\"scatter\",\"x\":[1,2,3,4,5,6,7,8,9,10,11,12],\"xaxis\":\"x\",\"y\":[0.0,0.0,0.004,0.012,0.124,0.368,0.373111248418264,0.4365322420236067,0.5991633866269714,0.612,0.753,0.81],\"yaxis\":\"y\"},{\"hovertemplate\":\"sub_id=16<br>video_order=%{x}<br>fear=%{y}<extra></extra>\",\"legendgroup\":\"16\",\"line\":{\"color\":\"#00cc96\",\"dash\":\"solid\"},\"marker\":{\"symbol\":\"circle\"},\"mode\":\"lines\",\"name\":\"16\",\"orientation\":\"v\",\"showlegend\":true,\"type\":\"scatter\",\"x\":[1,2,3,4,5,6,7,8,9,10,11,12],\"xaxis\":\"x\",\"y\":[0.0,0.0,0.0,0.0,0.0,0.0,0.0,0.179,0.446,0.595,0.994,1.0],\"yaxis\":\"y\"},{\"hovertemplate\":\"sub_id=17<br>video_order=%{x}<br>fear=%{y}<extra></extra>\",\"legendgroup\":\"17\",\"line\":{\"color\":\"#ab63fa\",\"dash\":\"solid\"},\"marker\":{\"symbol\":\"circle\"},\"mode\":\"lines\",\"name\":\"17\",\"orientation\":\"v\",\"showlegend\":true,\"type\":\"scatter\",\"x\":[1,2,3,4,5,6,7,8,9,10,11,12],\"xaxis\":\"x\",\"y\":[0.0,0.0,0.059,0.064,0.119,0.158,0.169,0.204,0.231,0.28,0.378,0.605],\"yaxis\":\"y\"},{\"hovertemplate\":\"sub_id=18<br>video_order=%{x}<br>fear=%{y}<extra></extra>\",\"legendgroup\":\"18\",\"line\":{\"color\":\"#FFA15A\",\"dash\":\"solid\"},\"marker\":{\"symbol\":\"circle\"},\"mode\":\"lines\",\"name\":\"18\",\"orientation\":\"v\",\"showlegend\":true,\"type\":\"scatter\",\"x\":[1,2,3,4,5,6,7,8,9,10,11,12],\"xaxis\":\"x\",\"y\":[0.0,0.0,0.0,0.0,0.0,0.043,0.295,0.347,0.763,0.774,0.878,0.932],\"yaxis\":\"y\"},{\"hovertemplate\":\"sub_id=19<br>video_order=%{x}<br>fear=%{y}<extra></extra>\",\"legendgroup\":\"19\",\"line\":{\"color\":\"#19d3f3\",\"dash\":\"solid\"},\"marker\":{\"symbol\":\"circle\"},\"mode\":\"lines\",\"name\":\"19\",\"orientation\":\"v\",\"showlegend\":true,\"type\":\"scatter\",\"x\":[1,2,3,4,5,6,7,8,9,10,11,12],\"xaxis\":\"x\",\"y\":[0.0,0.0,0.0,0.0,0.008,0.11689740193236307,0.578451565854681,0.584,0.587,0.623,0.673,0.782],\"yaxis\":\"y\"},{\"hovertemplate\":\"sub_id=23<br>video_order=%{x}<br>fear=%{y}<extra></extra>\",\"legendgroup\":\"23\",\"line\":{\"color\":\"#FF6692\",\"dash\":\"solid\"},\"marker\":{\"symbol\":\"circle\"},\"mode\":\"lines\",\"name\":\"23\",\"orientation\":\"v\",\"showlegend\":true,\"type\":\"scatter\",\"x\":[1,2,3,4,5,6,7,8,9,10,11,12],\"xaxis\":\"x\",\"y\":[0.0,0.0,0.122,0.215,0.395,0.428,0.542,0.551,0.561,0.628,0.712,0.782],\"yaxis\":\"y\"},{\"hovertemplate\":\"sub_id=25<br>video_order=%{x}<br>fear=%{y}<extra></extra>\",\"legendgroup\":\"25\",\"line\":{\"color\":\"#B6E880\",\"dash\":\"solid\"},\"marker\":{\"symbol\":\"circle\"},\"mode\":\"lines\",\"name\":\"25\",\"orientation\":\"v\",\"showlegend\":true,\"type\":\"scatter\",\"x\":[1,2,3,4,5,6,7,8,9,10,11,12],\"xaxis\":\"x\",\"y\":[0.0,0.0,0.0,0.0,0.013,0.124,0.21,0.316,0.657,0.711,1.0,1.0],\"yaxis\":\"y\"},{\"hovertemplate\":\"sub_id=26<br>video_order=%{x}<br>fear=%{y}<extra></extra>\",\"legendgroup\":\"26\",\"line\":{\"color\":\"#FF97FF\",\"dash\":\"solid\"},\"marker\":{\"symbol\":\"circle\"},\"mode\":\"lines\",\"name\":\"26\",\"orientation\":\"v\",\"showlegend\":true,\"type\":\"scatter\",\"x\":[1,2,3,4,5,6,7,8,9,10,11,12],\"xaxis\":\"x\",\"y\":[0.056,0.067,0.0709587076951725,0.117,0.152,0.184,0.21633644420160786,0.223,0.241,0.32582994274009597,0.525926772496625,0.529],\"yaxis\":\"y\"},{\"hovertemplate\":\"sub_id=28<br>video_order=%{x}<br>fear=%{y}<extra></extra>\",\"legendgroup\":\"28\",\"line\":{\"color\":\"#FECB52\",\"dash\":\"solid\"},\"marker\":{\"symbol\":\"circle\"},\"mode\":\"lines\",\"name\":\"28\",\"orientation\":\"v\",\"showlegend\":true,\"type\":\"scatter\",\"x\":[1,2,3,4,5,6,7,8,9,10,11,12],\"xaxis\":\"x\",\"y\":[0.064,0.065,0.07,0.077,0.087,0.104,0.116,0.308,0.382,0.607,0.644,0.761],\"yaxis\":\"y\"},{\"hovertemplate\":\"sub_id=29<br>video_order=%{x}<br>fear=%{y}<extra></extra>\",\"legendgroup\":\"29\",\"line\":{\"color\":\"#636efa\",\"dash\":\"solid\"},\"marker\":{\"symbol\":\"circle\"},\"mode\":\"lines\",\"name\":\"29\",\"orientation\":\"v\",\"showlegend\":true,\"type\":\"scatter\",\"x\":[1,2,3,4,5,6,7,8,9,10,11,12],\"xaxis\":\"x\",\"y\":[0.174,0.335,0.402,0.43,0.43,0.444,0.449,0.525,0.547,0.577,0.579,0.634],\"yaxis\":\"y\"}],                        {\"height\":400,\"legend\":{\"title\":{\"text\":\"sub_id\"},\"tracegroupgap\":0},\"margin\":{\"t\":60},\"showlegend\":false,\"template\":{\"data\":{\"bar\":[{\"error_x\":{\"color\":\"#2a3f5f\"},\"error_y\":{\"color\":\"#2a3f5f\"},\"marker\":{\"line\":{\"color\":\"#E5ECF6\",\"width\":0.5},\"pattern\":{\"fillmode\":\"overlay\",\"size\":10,\"solidity\":0.2}},\"type\":\"bar\"}],\"barpolar\":[{\"marker\":{\"line\":{\"color\":\"#E5ECF6\",\"width\":0.5},\"pattern\":{\"fillmode\":\"overlay\",\"size\":10,\"solidity\":0.2}},\"type\":\"barpolar\"}],\"carpet\":[{\"aaxis\":{\"endlinecolor\":\"#2a3f5f\",\"gridcolor\":\"white\",\"linecolor\":\"white\",\"minorgridcolor\":\"white\",\"startlinecolor\":\"#2a3f5f\"},\"baxis\":{\"endlinecolor\":\"#2a3f5f\",\"gridcolor\":\"white\",\"linecolor\":\"white\",\"minorgridcolor\":\"white\",\"startlinecolor\":\"#2a3f5f\"},\"type\":\"carpet\"}],\"choropleth\":[{\"colorbar\":{\"outlinewidth\":0,\"ticks\":\"\"},\"type\":\"choropleth\"}],\"contour\":[{\"colorbar\":{\"outlinewidth\":0,\"ticks\":\"\"},\"colorscale\":[[0.0,\"#0d0887\"],[0.1111111111111111,\"#46039f\"],[0.2222222222222222,\"#7201a8\"],[0.3333333333333333,\"#9c179e\"],[0.4444444444444444,\"#bd3786\"],[0.5555555555555556,\"#d8576b\"],[0.6666666666666666,\"#ed7953\"],[0.7777777777777778,\"#fb9f3a\"],[0.8888888888888888,\"#fdca26\"],[1.0,\"#f0f921\"]],\"type\":\"contour\"}],\"contourcarpet\":[{\"colorbar\":{\"outlinewidth\":0,\"ticks\":\"\"},\"type\":\"contourcarpet\"}],\"heatmap\":[{\"colorbar\":{\"outlinewidth\":0,\"ticks\":\"\"},\"colorscale\":[[0.0,\"#0d0887\"],[0.1111111111111111,\"#46039f\"],[0.2222222222222222,\"#7201a8\"],[0.3333333333333333,\"#9c179e\"],[0.4444444444444444,\"#bd3786\"],[0.5555555555555556,\"#d8576b\"],[0.6666666666666666,\"#ed7953\"],[0.7777777777777778,\"#fb9f3a\"],[0.8888888888888888,\"#fdca26\"],[1.0,\"#f0f921\"]],\"type\":\"heatmap\"}],\"heatmapgl\":[{\"colorbar\":{\"outlinewidth\":0,\"ticks\":\"\"},\"colorscale\":[[0.0,\"#0d0887\"],[0.1111111111111111,\"#46039f\"],[0.2222222222222222,\"#7201a8\"],[0.3333333333333333,\"#9c179e\"],[0.4444444444444444,\"#bd3786\"],[0.5555555555555556,\"#d8576b\"],[0.6666666666666666,\"#ed7953\"],[0.7777777777777778,\"#fb9f3a\"],[0.8888888888888888,\"#fdca26\"],[1.0,\"#f0f921\"]],\"type\":\"heatmapgl\"}],\"histogram\":[{\"marker\":{\"pattern\":{\"fillmode\":\"overlay\",\"size\":10,\"solidity\":0.2}},\"type\":\"histogram\"}],\"histogram2d\":[{\"colorbar\":{\"outlinewidth\":0,\"ticks\":\"\"},\"colorscale\":[[0.0,\"#0d0887\"],[0.1111111111111111,\"#46039f\"],[0.2222222222222222,\"#7201a8\"],[0.3333333333333333,\"#9c179e\"],[0.4444444444444444,\"#bd3786\"],[0.5555555555555556,\"#d8576b\"],[0.6666666666666666,\"#ed7953\"],[0.7777777777777778,\"#fb9f3a\"],[0.8888888888888888,\"#fdca26\"],[1.0,\"#f0f921\"]],\"type\":\"histogram2d\"}],\"histogram2dcontour\":[{\"colorbar\":{\"outlinewidth\":0,\"ticks\":\"\"},\"colorscale\":[[0.0,\"#0d0887\"],[0.1111111111111111,\"#46039f\"],[0.2222222222222222,\"#7201a8\"],[0.3333333333333333,\"#9c179e\"],[0.4444444444444444,\"#bd3786\"],[0.5555555555555556,\"#d8576b\"],[0.6666666666666666,\"#ed7953\"],[0.7777777777777778,\"#fb9f3a\"],[0.8888888888888888,\"#fdca26\"],[1.0,\"#f0f921\"]],\"type\":\"histogram2dcontour\"}],\"mesh3d\":[{\"colorbar\":{\"outlinewidth\":0,\"ticks\":\"\"},\"type\":\"mesh3d\"}],\"parcoords\":[{\"line\":{\"colorbar\":{\"outlinewidth\":0,\"ticks\":\"\"}},\"type\":\"parcoords\"}],\"pie\":[{\"automargin\":true,\"type\":\"pie\"}],\"scatter\":[{\"marker\":{\"colorbar\":{\"outlinewidth\":0,\"ticks\":\"\"}},\"type\":\"scatter\"}],\"scatter3d\":[{\"line\":{\"colorbar\":{\"outlinewidth\":0,\"ticks\":\"\"}},\"marker\":{\"colorbar\":{\"outlinewidth\":0,\"ticks\":\"\"}},\"type\":\"scatter3d\"}],\"scattercarpet\":[{\"marker\":{\"colorbar\":{\"outlinewidth\":0,\"ticks\":\"\"}},\"type\":\"scattercarpet\"}],\"scattergeo\":[{\"marker\":{\"colorbar\":{\"outlinewidth\":0,\"ticks\":\"\"}},\"type\":\"scattergeo\"}],\"scattergl\":[{\"marker\":{\"colorbar\":{\"outlinewidth\":0,\"ticks\":\"\"}},\"type\":\"scattergl\"}],\"scattermapbox\":[{\"marker\":{\"colorbar\":{\"outlinewidth\":0,\"ticks\":\"\"}},\"type\":\"scattermapbox\"}],\"scatterpolar\":[{\"marker\":{\"colorbar\":{\"outlinewidth\":0,\"ticks\":\"\"}},\"type\":\"scatterpolar\"}],\"scatterpolargl\":[{\"marker\":{\"colorbar\":{\"outlinewidth\":0,\"ticks\":\"\"}},\"type\":\"scatterpolargl\"}],\"scatterternary\":[{\"marker\":{\"colorbar\":{\"outlinewidth\":0,\"ticks\":\"\"}},\"type\":\"scatterternary\"}],\"surface\":[{\"colorbar\":{\"outlinewidth\":0,\"ticks\":\"\"},\"colorscale\":[[0.0,\"#0d0887\"],[0.1111111111111111,\"#46039f\"],[0.2222222222222222,\"#7201a8\"],[0.3333333333333333,\"#9c179e\"],[0.4444444444444444,\"#bd3786\"],[0.5555555555555556,\"#d8576b\"],[0.6666666666666666,\"#ed7953\"],[0.7777777777777778,\"#fb9f3a\"],[0.8888888888888888,\"#fdca26\"],[1.0,\"#f0f921\"]],\"type\":\"surface\"}],\"table\":[{\"cells\":{\"fill\":{\"color\":\"#EBF0F8\"},\"line\":{\"color\":\"white\"}},\"header\":{\"fill\":{\"color\":\"#C8D4E3\"},\"line\":{\"color\":\"white\"}},\"type\":\"table\"}]},\"layout\":{\"annotationdefaults\":{\"arrowcolor\":\"#2a3f5f\",\"arrowhead\":0,\"arrowwidth\":1},\"autotypenumbers\":\"strict\",\"coloraxis\":{\"colorbar\":{\"outlinewidth\":0,\"ticks\":\"\"}},\"colorscale\":{\"diverging\":[[0,\"#8e0152\"],[0.1,\"#c51b7d\"],[0.2,\"#de77ae\"],[0.3,\"#f1b6da\"],[0.4,\"#fde0ef\"],[0.5,\"#f7f7f7\"],[0.6,\"#e6f5d0\"],[0.7,\"#b8e186\"],[0.8,\"#7fbc41\"],[0.9,\"#4d9221\"],[1,\"#276419\"]],\"sequential\":[[0.0,\"#0d0887\"],[0.1111111111111111,\"#46039f\"],[0.2222222222222222,\"#7201a8\"],[0.3333333333333333,\"#9c179e\"],[0.4444444444444444,\"#bd3786\"],[0.5555555555555556,\"#d8576b\"],[0.6666666666666666,\"#ed7953\"],[0.7777777777777778,\"#fb9f3a\"],[0.8888888888888888,\"#fdca26\"],[1.0,\"#f0f921\"]],\"sequentialminus\":[[0.0,\"#0d0887\"],[0.1111111111111111,\"#46039f\"],[0.2222222222222222,\"#7201a8\"],[0.3333333333333333,\"#9c179e\"],[0.4444444444444444,\"#bd3786\"],[0.5555555555555556,\"#d8576b\"],[0.6666666666666666,\"#ed7953\"],[0.7777777777777778,\"#fb9f3a\"],[0.8888888888888888,\"#fdca26\"],[1.0,\"#f0f921\"]]},\"colorway\":[\"#636efa\",\"#EF553B\",\"#00cc96\",\"#ab63fa\",\"#FFA15A\",\"#19d3f3\",\"#FF6692\",\"#B6E880\",\"#FF97FF\",\"#FECB52\"],\"font\":{\"color\":\"#2a3f5f\"},\"geo\":{\"bgcolor\":\"white\",\"lakecolor\":\"white\",\"landcolor\":\"#E5ECF6\",\"showlakes\":true,\"showland\":true,\"subunitcolor\":\"white\"},\"hoverlabel\":{\"align\":\"left\"},\"hovermode\":\"closest\",\"mapbox\":{\"style\":\"light\"},\"paper_bgcolor\":\"white\",\"plot_bgcolor\":\"#E5ECF6\",\"polar\":{\"angularaxis\":{\"gridcolor\":\"white\",\"linecolor\":\"white\",\"ticks\":\"\"},\"bgcolor\":\"#E5ECF6\",\"radialaxis\":{\"gridcolor\":\"white\",\"linecolor\":\"white\",\"ticks\":\"\"}},\"scene\":{\"xaxis\":{\"backgroundcolor\":\"#E5ECF6\",\"gridcolor\":\"white\",\"gridwidth\":2,\"linecolor\":\"white\",\"showbackground\":true,\"ticks\":\"\",\"zerolinecolor\":\"white\"},\"yaxis\":{\"backgroundcolor\":\"#E5ECF6\",\"gridcolor\":\"white\",\"gridwidth\":2,\"linecolor\":\"white\",\"showbackground\":true,\"ticks\":\"\",\"zerolinecolor\":\"white\"},\"zaxis\":{\"backgroundcolor\":\"#E5ECF6\",\"gridcolor\":\"white\",\"gridwidth\":2,\"linecolor\":\"white\",\"showbackground\":true,\"ticks\":\"\",\"zerolinecolor\":\"white\"}},\"shapedefaults\":{\"line\":{\"color\":\"#2a3f5f\"}},\"ternary\":{\"aaxis\":{\"gridcolor\":\"white\",\"linecolor\":\"white\",\"ticks\":\"\"},\"baxis\":{\"gridcolor\":\"white\",\"linecolor\":\"white\",\"ticks\":\"\"},\"bgcolor\":\"#E5ECF6\",\"caxis\":{\"gridcolor\":\"white\",\"linecolor\":\"white\",\"ticks\":\"\"}},\"title\":{\"x\":0.05},\"xaxis\":{\"automargin\":true,\"gridcolor\":\"white\",\"linecolor\":\"white\",\"ticks\":\"\",\"title\":{\"standoff\":15},\"zerolinecolor\":\"white\",\"zerolinewidth\":2},\"yaxis\":{\"automargin\":true,\"gridcolor\":\"white\",\"linecolor\":\"white\",\"ticks\":\"\",\"title\":{\"standoff\":15},\"zerolinecolor\":\"white\",\"zerolinewidth\":2}}},\"title\":{\"font\":{\"family\":\"Times New Roman\",\"size\":24},\"text\":\"Fear Ratings by Subject: Social\",\"x\":0.5,\"y\":0.95},\"width\":500,\"xaxis\":{\"anchor\":\"y\",\"domain\":[0.0,1.0],\"linecolor\":\"black\",\"linewidth\":2,\"nticks\":24,\"range\":[0.5,12.5],\"showgrid\":false,\"showline\":true,\"tickfont\":{\"size\":18},\"title\":{\"font\":{\"size\":22},\"text\":\"Videos\"},\"zeroline\":false},\"yaxis\":{\"anchor\":\"x\",\"domain\":[0.0,1.0],\"linecolor\":\"black\",\"linewidth\":2,\"range\":[-0.1,1.1],\"showgrid\":true,\"showline\":true,\"tickfont\":{\"size\":18},\"title\":{\"font\":{\"size\":22},\"text\":\"Fear ratings\"},\"zeroline\":false}},                        {\"responsive\": true}                    ).then(function(){\n",
       "                            \n",
       "var gd = document.getElementById('d3029a9d-dbe2-4761-a982-ac969f3c85d0');\n",
       "var x = new MutationObserver(function (mutations, observer) {{\n",
       "        var display = window.getComputedStyle(gd).display;\n",
       "        if (!display || display === 'none') {{\n",
       "            console.log([gd, 'removed!']);\n",
       "            Plotly.purge(gd);\n",
       "            observer.disconnect();\n",
       "        }}\n",
       "}});\n",
       "\n",
       "// Listen for the removal of the full notebook cells\n",
       "var notebookContainer = gd.closest('#notebook-container');\n",
       "if (notebookContainer) {{\n",
       "    x.observe(notebookContainer, {childList: true});\n",
       "}}\n",
       "\n",
       "// Listen for the clearing of the current output cell\n",
       "var outputEl = gd.closest('.output');\n",
       "if (outputEl) {{\n",
       "    x.observe(outputEl, {childList: true});\n",
       "}}\n",
       "\n",
       "                        })                };                });            </script>        </div>"
      ]
     },
     "metadata": {},
     "output_type": "display_data"
    },
    {
     "data": {
      "application/vnd.plotly.v1+json": {
       "config": {
        "plotlyServerURL": "https://plot.ly"
       },
       "data": [
        {
         "hovertemplate": "sub_id=04<br>video_order=%{x}<br>fear=%{y}<extra></extra>",
         "legendgroup": "04",
         "line": {
          "color": "#636efa",
          "dash": "solid"
         },
         "marker": {
          "symbol": "circle"
         },
         "mode": "lines",
         "name": "04",
         "orientation": "v",
         "showlegend": true,
         "type": "scatter",
         "x": [
          1,
          2,
          3,
          4,
          5,
          6,
          7,
          8,
          9,
          10,
          11,
          12
         ],
         "xaxis": "x",
         "y": [
          0,
          0.286,
          0.296,
          0.353,
          0.483,
          0.62,
          0.636,
          0.683,
          0.753,
          0.865,
          0.945,
          0.974
         ],
         "yaxis": "y"
        },
        {
         "hovertemplate": "sub_id=05<br>video_order=%{x}<br>fear=%{y}<extra></extra>",
         "legendgroup": "05",
         "line": {
          "color": "#EF553B",
          "dash": "solid"
         },
         "marker": {
          "symbol": "circle"
         },
         "mode": "lines",
         "name": "05",
         "orientation": "v",
         "showlegend": true,
         "type": "scatter",
         "x": [
          1,
          2,
          3,
          4,
          5,
          6,
          7,
          8,
          9,
          10,
          11,
          12
         ],
         "xaxis": "x",
         "y": [
          0.004,
          0.021,
          0.023,
          0.023,
          0.026,
          0.034,
          0.132,
          0.251,
          0.301,
          0.329,
          0.332,
          0.404
         ],
         "yaxis": "y"
        },
        {
         "hovertemplate": "sub_id=06<br>video_order=%{x}<br>fear=%{y}<extra></extra>",
         "legendgroup": "06",
         "line": {
          "color": "#00cc96",
          "dash": "solid"
         },
         "marker": {
          "symbol": "circle"
         },
         "mode": "lines",
         "name": "06",
         "orientation": "v",
         "showlegend": true,
         "type": "scatter",
         "x": [
          1,
          2,
          3,
          4,
          5,
          6,
          7,
          8,
          9,
          10,
          11,
          12
         ],
         "xaxis": "x",
         "y": [
          0,
          0.126,
          0.171,
          0.23,
          0.254,
          0.382,
          0.589,
          0.633,
          0.695,
          0.698,
          0.786,
          0.805
         ],
         "yaxis": "y"
        },
        {
         "hovertemplate": "sub_id=07<br>video_order=%{x}<br>fear=%{y}<extra></extra>",
         "legendgroup": "07",
         "line": {
          "color": "#ab63fa",
          "dash": "solid"
         },
         "marker": {
          "symbol": "circle"
         },
         "mode": "lines",
         "name": "07",
         "orientation": "v",
         "showlegend": true,
         "type": "scatter",
         "x": [
          1,
          2,
          3,
          4,
          5,
          6,
          7,
          8,
          9,
          10,
          11,
          12
         ],
         "xaxis": "x",
         "y": [
          0,
          0.044,
          0.07,
          0.082,
          0.085,
          0.111,
          0.137,
          0.221,
          0.246,
          0.272,
          0.709,
          0.872
         ],
         "yaxis": "y"
        },
        {
         "hovertemplate": "sub_id=08<br>video_order=%{x}<br>fear=%{y}<extra></extra>",
         "legendgroup": "08",
         "line": {
          "color": "#FFA15A",
          "dash": "solid"
         },
         "marker": {
          "symbol": "circle"
         },
         "mode": "lines",
         "name": "08",
         "orientation": "v",
         "showlegend": true,
         "type": "scatter",
         "x": [
          1,
          2,
          3,
          4,
          5,
          6,
          7,
          8,
          9,
          10,
          11,
          12
         ],
         "xaxis": "x",
         "y": [
          0,
          0,
          0,
          0.114,
          0.171,
          0.352,
          0.773,
          0.859,
          0.922,
          1,
          1,
          1
         ],
         "yaxis": "y"
        },
        {
         "hovertemplate": "sub_id=09<br>video_order=%{x}<br>fear=%{y}<extra></extra>",
         "legendgroup": "09",
         "line": {
          "color": "#19d3f3",
          "dash": "solid"
         },
         "marker": {
          "symbol": "circle"
         },
         "mode": "lines",
         "name": "09",
         "orientation": "v",
         "showlegend": true,
         "type": "scatter",
         "x": [
          1,
          2,
          3,
          4,
          5,
          6,
          7,
          8,
          9,
          10,
          11,
          12
         ],
         "xaxis": "x",
         "y": [
          0.048,
          0.056,
          0.07,
          0.101,
          0.181,
          0.225,
          0.23,
          0.288,
          0.405,
          0.582,
          0.584,
          0.6
         ],
         "yaxis": "y"
        },
        {
         "hovertemplate": "sub_id=10<br>video_order=%{x}<br>fear=%{y}<extra></extra>",
         "legendgroup": "10",
         "line": {
          "color": "#FF6692",
          "dash": "solid"
         },
         "marker": {
          "symbol": "circle"
         },
         "mode": "lines",
         "name": "10",
         "orientation": "v",
         "showlegend": true,
         "type": "scatter",
         "x": [
          1,
          2,
          3,
          4,
          5,
          6,
          7,
          8,
          9,
          10,
          11,
          12
         ],
         "xaxis": "x",
         "y": [
          0,
          0,
          0.004,
          0.005,
          0.007,
          0.098,
          0.254,
          0.499,
          0.564,
          0.625,
          0.703,
          0.738
         ],
         "yaxis": "y"
        },
        {
         "hovertemplate": "sub_id=11<br>video_order=%{x}<br>fear=%{y}<extra></extra>",
         "legendgroup": "11",
         "line": {
          "color": "#B6E880",
          "dash": "solid"
         },
         "marker": {
          "symbol": "circle"
         },
         "mode": "lines",
         "name": "11",
         "orientation": "v",
         "showlegend": true,
         "type": "scatter",
         "x": [
          1,
          2,
          3,
          4,
          5,
          6,
          7,
          8,
          9,
          10,
          11,
          12
         ],
         "xaxis": "x",
         "y": [
          0.059,
          0.101,
          0.103,
          0.104,
          0.106,
          0.116,
          0.142,
          0.225,
          0.343,
          0.366,
          0.454,
          0.618
         ],
         "yaxis": "y"
        },
        {
         "hovertemplate": "sub_id=12<br>video_order=%{x}<br>fear=%{y}<extra></extra>",
         "legendgroup": "12",
         "line": {
          "color": "#FF97FF",
          "dash": "solid"
         },
         "marker": {
          "symbol": "circle"
         },
         "mode": "lines",
         "name": "12",
         "orientation": "v",
         "showlegend": true,
         "type": "scatter",
         "x": [
          1,
          2,
          3,
          4,
          5,
          6,
          7,
          8,
          9,
          10,
          11,
          12
         ],
         "xaxis": "x",
         "y": [
          0.147,
          0.236,
          0.27,
          0.316,
          0.327,
          0.335,
          0.361,
          0.363,
          0.407,
          0.574,
          0.579,
          0.646
         ],
         "yaxis": "y"
        },
        {
         "hovertemplate": "sub_id=13<br>video_order=%{x}<br>fear=%{y}<extra></extra>",
         "legendgroup": "13",
         "line": {
          "color": "#FECB52",
          "dash": "solid"
         },
         "marker": {
          "symbol": "circle"
         },
         "mode": "lines",
         "name": "13",
         "orientation": "v",
         "showlegend": true,
         "type": "scatter",
         "x": [
          1,
          2,
          3,
          4,
          5,
          6,
          7,
          8,
          9,
          10,
          11,
          12
         ],
         "xaxis": "x",
         "y": [
          0.083,
          0.106,
          0.139,
          0.145,
          0.152,
          0.156,
          0.168,
          0.265,
          0.316,
          0.335,
          0.607,
          0.613
         ],
         "yaxis": "y"
        },
        {
         "hovertemplate": "sub_id=14<br>video_order=%{x}<br>fear=%{y}<extra></extra>",
         "legendgroup": "14",
         "line": {
          "color": "#636efa",
          "dash": "solid"
         },
         "marker": {
          "symbol": "circle"
         },
         "mode": "lines",
         "name": "14",
         "orientation": "v",
         "showlegend": true,
         "type": "scatter",
         "x": [
          1,
          2,
          3,
          4,
          5,
          6,
          7,
          8,
          9,
          10,
          11,
          12
         ],
         "xaxis": "x",
         "y": [
          0.343,
          0.374,
          0.431,
          0.61,
          0.654,
          0.706,
          0.914,
          1,
          1,
          1,
          1,
          1
         ],
         "yaxis": "y"
        },
        {
         "hovertemplate": "sub_id=15<br>video_order=%{x}<br>fear=%{y}<extra></extra>",
         "legendgroup": "15",
         "line": {
          "color": "#EF553B",
          "dash": "solid"
         },
         "marker": {
          "symbol": "circle"
         },
         "mode": "lines",
         "name": "15",
         "orientation": "v",
         "showlegend": true,
         "type": "scatter",
         "x": [
          1,
          2,
          3,
          4,
          5,
          6,
          7,
          8,
          9,
          10,
          11,
          12
         ],
         "xaxis": "x",
         "y": [
          0,
          0.116,
          0.296,
          0.548,
          0.664,
          0.683,
          0.696,
          0.722,
          0.878,
          0.9104687109578861,
          0.917,
          0.924
         ],
         "yaxis": "y"
        },
        {
         "hovertemplate": "sub_id=16<br>video_order=%{x}<br>fear=%{y}<extra></extra>",
         "legendgroup": "16",
         "line": {
          "color": "#00cc96",
          "dash": "solid"
         },
         "marker": {
          "symbol": "circle"
         },
         "mode": "lines",
         "name": "16",
         "orientation": "v",
         "showlegend": true,
         "type": "scatter",
         "x": [
          1,
          2,
          3,
          4,
          5,
          6,
          7,
          8,
          9,
          10,
          11,
          12
         ],
         "xaxis": "x",
         "y": [
          0,
          0,
          0,
          0,
          0,
          0,
          0,
          0,
          0,
          0.111,
          0.491,
          0.594
         ],
         "yaxis": "y"
        },
        {
         "hovertemplate": "sub_id=17<br>video_order=%{x}<br>fear=%{y}<extra></extra>",
         "legendgroup": "17",
         "line": {
          "color": "#ab63fa",
          "dash": "solid"
         },
         "marker": {
          "symbol": "circle"
         },
         "mode": "lines",
         "name": "17",
         "orientation": "v",
         "showlegend": true,
         "type": "scatter",
         "x": [
          1,
          2,
          3,
          4,
          5,
          6,
          7,
          8,
          9,
          10,
          11,
          12
         ],
         "xaxis": "x",
         "y": [
          0,
          0,
          0,
          0.002,
          0.02,
          0.021,
          0.038,
          0.07,
          0.098,
          0.103,
          0.104,
          0.104
         ],
         "yaxis": "y"
        },
        {
         "hovertemplate": "sub_id=18<br>video_order=%{x}<br>fear=%{y}<extra></extra>",
         "legendgroup": "18",
         "line": {
          "color": "#FFA15A",
          "dash": "solid"
         },
         "marker": {
          "symbol": "circle"
         },
         "mode": "lines",
         "name": "18",
         "orientation": "v",
         "showlegend": true,
         "type": "scatter",
         "x": [
          1,
          2,
          3,
          4,
          5,
          6,
          7,
          8,
          9,
          10,
          11,
          12
         ],
         "xaxis": "x",
         "y": [
          0,
          0,
          0,
          0,
          0,
          0.023,
          0.132,
          0.594,
          0.659,
          0.686,
          0.721,
          0.803
         ],
         "yaxis": "y"
        },
        {
         "hovertemplate": "sub_id=19<br>video_order=%{x}<br>fear=%{y}<extra></extra>",
         "legendgroup": "19",
         "line": {
          "color": "#19d3f3",
          "dash": "solid"
         },
         "marker": {
          "symbol": "circle"
         },
         "mode": "lines",
         "name": "19",
         "orientation": "v",
         "showlegend": true,
         "type": "scatter",
         "x": [
          1,
          2,
          3,
          4,
          5,
          6,
          7,
          8,
          9,
          10,
          11,
          12
         ],
         "xaxis": "x",
         "y": [
          0,
          0,
          0,
          0,
          0,
          0,
          0,
          0,
          0,
          0,
          0.005,
          0.00593084307244635
         ],
         "yaxis": "y"
        },
        {
         "hovertemplate": "sub_id=23<br>video_order=%{x}<br>fear=%{y}<extra></extra>",
         "legendgroup": "23",
         "line": {
          "color": "#FF6692",
          "dash": "solid"
         },
         "marker": {
          "symbol": "circle"
         },
         "mode": "lines",
         "name": "23",
         "orientation": "v",
         "showlegend": true,
         "type": "scatter",
         "x": [
          1,
          2,
          3,
          4,
          5,
          6,
          7,
          8,
          9,
          10,
          11,
          12
         ],
         "xaxis": "x",
         "y": [
          0.087,
          0.126,
          0.126,
          0.293,
          0.443,
          0.478,
          0.504,
          0.548,
          0.615,
          0.631,
          0.712,
          0.826
         ],
         "yaxis": "y"
        },
        {
         "hovertemplate": "sub_id=25<br>video_order=%{x}<br>fear=%{y}<extra></extra>",
         "legendgroup": "25",
         "line": {
          "color": "#B6E880",
          "dash": "solid"
         },
         "marker": {
          "symbol": "circle"
         },
         "mode": "lines",
         "name": "25",
         "orientation": "v",
         "showlegend": true,
         "type": "scatter",
         "x": [
          1,
          2,
          3,
          4,
          5,
          6,
          7,
          8,
          9,
          10,
          11,
          12
         ],
         "xaxis": "x",
         "y": [
          0.304,
          0.391,
          0.935,
          0.96,
          1,
          1,
          1,
          1,
          1,
          1,
          1,
          1
         ],
         "yaxis": "y"
        },
        {
         "hovertemplate": "sub_id=26<br>video_order=%{x}<br>fear=%{y}<extra></extra>",
         "legendgroup": "26",
         "line": {
          "color": "#FF97FF",
          "dash": "solid"
         },
         "marker": {
          "symbol": "circle"
         },
         "mode": "lines",
         "name": "26",
         "orientation": "v",
         "showlegend": true,
         "type": "scatter",
         "x": [
          1,
          2,
          3,
          4,
          5,
          6,
          7,
          8,
          9,
          10,
          11,
          12
         ],
         "xaxis": "x",
         "y": [
          0.069,
          0.083,
          0.091,
          0.095,
          0.114,
          0.129,
          0.132,
          0.147,
          0.1932891370012494,
          0.343,
          0.386,
          0.4014223743931176
         ],
         "yaxis": "y"
        },
        {
         "hovertemplate": "sub_id=28<br>video_order=%{x}<br>fear=%{y}<extra></extra>",
         "legendgroup": "28",
         "line": {
          "color": "#FECB52",
          "dash": "solid"
         },
         "marker": {
          "symbol": "circle"
         },
         "mode": "lines",
         "name": "28",
         "orientation": "v",
         "showlegend": true,
         "type": "scatter",
         "x": [
          1,
          2,
          3,
          4,
          5,
          6,
          7,
          8,
          9,
          10,
          11,
          12
         ],
         "xaxis": "x",
         "y": [
          0.35649309695886644,
          0.672,
          0.685,
          0.808,
          0.831,
          0.857,
          0.907,
          0.924,
          0.984,
          1,
          1,
          1
         ],
         "yaxis": "y"
        },
        {
         "hovertemplate": "sub_id=29<br>video_order=%{x}<br>fear=%{y}<extra></extra>",
         "legendgroup": "29",
         "line": {
          "color": "#636efa",
          "dash": "solid"
         },
         "marker": {
          "symbol": "circle"
         },
         "mode": "lines",
         "name": "29",
         "orientation": "v",
         "showlegend": true,
         "type": "scatter",
         "x": [
          1,
          2,
          3,
          4,
          5,
          6,
          7,
          8,
          9,
          10,
          11,
          12
         ],
         "xaxis": "x",
         "y": [
          0.23,
          0.387,
          0.404,
          0.46,
          0.465,
          0.473,
          0.493,
          0.509,
          0.517,
          0.535,
          0.535,
          0.547
         ],
         "yaxis": "y"
        }
       ],
       "layout": {
        "height": 400,
        "legend": {
         "title": {
          "text": "sub_id"
         },
         "tracegroupgap": 0
        },
        "margin": {
         "t": 60
        },
        "showlegend": false,
        "template": {
         "data": {
          "bar": [
           {
            "error_x": {
             "color": "#2a3f5f"
            },
            "error_y": {
             "color": "#2a3f5f"
            },
            "marker": {
             "line": {
              "color": "#E5ECF6",
              "width": 0.5
             },
             "pattern": {
              "fillmode": "overlay",
              "size": 10,
              "solidity": 0.2
             }
            },
            "type": "bar"
           }
          ],
          "barpolar": [
           {
            "marker": {
             "line": {
              "color": "#E5ECF6",
              "width": 0.5
             },
             "pattern": {
              "fillmode": "overlay",
              "size": 10,
              "solidity": 0.2
             }
            },
            "type": "barpolar"
           }
          ],
          "carpet": [
           {
            "aaxis": {
             "endlinecolor": "#2a3f5f",
             "gridcolor": "white",
             "linecolor": "white",
             "minorgridcolor": "white",
             "startlinecolor": "#2a3f5f"
            },
            "baxis": {
             "endlinecolor": "#2a3f5f",
             "gridcolor": "white",
             "linecolor": "white",
             "minorgridcolor": "white",
             "startlinecolor": "#2a3f5f"
            },
            "type": "carpet"
           }
          ],
          "choropleth": [
           {
            "colorbar": {
             "outlinewidth": 0,
             "ticks": ""
            },
            "type": "choropleth"
           }
          ],
          "contour": [
           {
            "colorbar": {
             "outlinewidth": 0,
             "ticks": ""
            },
            "colorscale": [
             [
              0,
              "#0d0887"
             ],
             [
              0.1111111111111111,
              "#46039f"
             ],
             [
              0.2222222222222222,
              "#7201a8"
             ],
             [
              0.3333333333333333,
              "#9c179e"
             ],
             [
              0.4444444444444444,
              "#bd3786"
             ],
             [
              0.5555555555555556,
              "#d8576b"
             ],
             [
              0.6666666666666666,
              "#ed7953"
             ],
             [
              0.7777777777777778,
              "#fb9f3a"
             ],
             [
              0.8888888888888888,
              "#fdca26"
             ],
             [
              1,
              "#f0f921"
             ]
            ],
            "type": "contour"
           }
          ],
          "contourcarpet": [
           {
            "colorbar": {
             "outlinewidth": 0,
             "ticks": ""
            },
            "type": "contourcarpet"
           }
          ],
          "heatmap": [
           {
            "colorbar": {
             "outlinewidth": 0,
             "ticks": ""
            },
            "colorscale": [
             [
              0,
              "#0d0887"
             ],
             [
              0.1111111111111111,
              "#46039f"
             ],
             [
              0.2222222222222222,
              "#7201a8"
             ],
             [
              0.3333333333333333,
              "#9c179e"
             ],
             [
              0.4444444444444444,
              "#bd3786"
             ],
             [
              0.5555555555555556,
              "#d8576b"
             ],
             [
              0.6666666666666666,
              "#ed7953"
             ],
             [
              0.7777777777777778,
              "#fb9f3a"
             ],
             [
              0.8888888888888888,
              "#fdca26"
             ],
             [
              1,
              "#f0f921"
             ]
            ],
            "type": "heatmap"
           }
          ],
          "heatmapgl": [
           {
            "colorbar": {
             "outlinewidth": 0,
             "ticks": ""
            },
            "colorscale": [
             [
              0,
              "#0d0887"
             ],
             [
              0.1111111111111111,
              "#46039f"
             ],
             [
              0.2222222222222222,
              "#7201a8"
             ],
             [
              0.3333333333333333,
              "#9c179e"
             ],
             [
              0.4444444444444444,
              "#bd3786"
             ],
             [
              0.5555555555555556,
              "#d8576b"
             ],
             [
              0.6666666666666666,
              "#ed7953"
             ],
             [
              0.7777777777777778,
              "#fb9f3a"
             ],
             [
              0.8888888888888888,
              "#fdca26"
             ],
             [
              1,
              "#f0f921"
             ]
            ],
            "type": "heatmapgl"
           }
          ],
          "histogram": [
           {
            "marker": {
             "pattern": {
              "fillmode": "overlay",
              "size": 10,
              "solidity": 0.2
             }
            },
            "type": "histogram"
           }
          ],
          "histogram2d": [
           {
            "colorbar": {
             "outlinewidth": 0,
             "ticks": ""
            },
            "colorscale": [
             [
              0,
              "#0d0887"
             ],
             [
              0.1111111111111111,
              "#46039f"
             ],
             [
              0.2222222222222222,
              "#7201a8"
             ],
             [
              0.3333333333333333,
              "#9c179e"
             ],
             [
              0.4444444444444444,
              "#bd3786"
             ],
             [
              0.5555555555555556,
              "#d8576b"
             ],
             [
              0.6666666666666666,
              "#ed7953"
             ],
             [
              0.7777777777777778,
              "#fb9f3a"
             ],
             [
              0.8888888888888888,
              "#fdca26"
             ],
             [
              1,
              "#f0f921"
             ]
            ],
            "type": "histogram2d"
           }
          ],
          "histogram2dcontour": [
           {
            "colorbar": {
             "outlinewidth": 0,
             "ticks": ""
            },
            "colorscale": [
             [
              0,
              "#0d0887"
             ],
             [
              0.1111111111111111,
              "#46039f"
             ],
             [
              0.2222222222222222,
              "#7201a8"
             ],
             [
              0.3333333333333333,
              "#9c179e"
             ],
             [
              0.4444444444444444,
              "#bd3786"
             ],
             [
              0.5555555555555556,
              "#d8576b"
             ],
             [
              0.6666666666666666,
              "#ed7953"
             ],
             [
              0.7777777777777778,
              "#fb9f3a"
             ],
             [
              0.8888888888888888,
              "#fdca26"
             ],
             [
              1,
              "#f0f921"
             ]
            ],
            "type": "histogram2dcontour"
           }
          ],
          "mesh3d": [
           {
            "colorbar": {
             "outlinewidth": 0,
             "ticks": ""
            },
            "type": "mesh3d"
           }
          ],
          "parcoords": [
           {
            "line": {
             "colorbar": {
              "outlinewidth": 0,
              "ticks": ""
             }
            },
            "type": "parcoords"
           }
          ],
          "pie": [
           {
            "automargin": true,
            "type": "pie"
           }
          ],
          "scatter": [
           {
            "marker": {
             "colorbar": {
              "outlinewidth": 0,
              "ticks": ""
             }
            },
            "type": "scatter"
           }
          ],
          "scatter3d": [
           {
            "line": {
             "colorbar": {
              "outlinewidth": 0,
              "ticks": ""
             }
            },
            "marker": {
             "colorbar": {
              "outlinewidth": 0,
              "ticks": ""
             }
            },
            "type": "scatter3d"
           }
          ],
          "scattercarpet": [
           {
            "marker": {
             "colorbar": {
              "outlinewidth": 0,
              "ticks": ""
             }
            },
            "type": "scattercarpet"
           }
          ],
          "scattergeo": [
           {
            "marker": {
             "colorbar": {
              "outlinewidth": 0,
              "ticks": ""
             }
            },
            "type": "scattergeo"
           }
          ],
          "scattergl": [
           {
            "marker": {
             "colorbar": {
              "outlinewidth": 0,
              "ticks": ""
             }
            },
            "type": "scattergl"
           }
          ],
          "scattermapbox": [
           {
            "marker": {
             "colorbar": {
              "outlinewidth": 0,
              "ticks": ""
             }
            },
            "type": "scattermapbox"
           }
          ],
          "scatterpolar": [
           {
            "marker": {
             "colorbar": {
              "outlinewidth": 0,
              "ticks": ""
             }
            },
            "type": "scatterpolar"
           }
          ],
          "scatterpolargl": [
           {
            "marker": {
             "colorbar": {
              "outlinewidth": 0,
              "ticks": ""
             }
            },
            "type": "scatterpolargl"
           }
          ],
          "scatterternary": [
           {
            "marker": {
             "colorbar": {
              "outlinewidth": 0,
              "ticks": ""
             }
            },
            "type": "scatterternary"
           }
          ],
          "surface": [
           {
            "colorbar": {
             "outlinewidth": 0,
             "ticks": ""
            },
            "colorscale": [
             [
              0,
              "#0d0887"
             ],
             [
              0.1111111111111111,
              "#46039f"
             ],
             [
              0.2222222222222222,
              "#7201a8"
             ],
             [
              0.3333333333333333,
              "#9c179e"
             ],
             [
              0.4444444444444444,
              "#bd3786"
             ],
             [
              0.5555555555555556,
              "#d8576b"
             ],
             [
              0.6666666666666666,
              "#ed7953"
             ],
             [
              0.7777777777777778,
              "#fb9f3a"
             ],
             [
              0.8888888888888888,
              "#fdca26"
             ],
             [
              1,
              "#f0f921"
             ]
            ],
            "type": "surface"
           }
          ],
          "table": [
           {
            "cells": {
             "fill": {
              "color": "#EBF0F8"
             },
             "line": {
              "color": "white"
             }
            },
            "header": {
             "fill": {
              "color": "#C8D4E3"
             },
             "line": {
              "color": "white"
             }
            },
            "type": "table"
           }
          ]
         },
         "layout": {
          "annotationdefaults": {
           "arrowcolor": "#2a3f5f",
           "arrowhead": 0,
           "arrowwidth": 1
          },
          "autotypenumbers": "strict",
          "coloraxis": {
           "colorbar": {
            "outlinewidth": 0,
            "ticks": ""
           }
          },
          "colorscale": {
           "diverging": [
            [
             0,
             "#8e0152"
            ],
            [
             0.1,
             "#c51b7d"
            ],
            [
             0.2,
             "#de77ae"
            ],
            [
             0.3,
             "#f1b6da"
            ],
            [
             0.4,
             "#fde0ef"
            ],
            [
             0.5,
             "#f7f7f7"
            ],
            [
             0.6,
             "#e6f5d0"
            ],
            [
             0.7,
             "#b8e186"
            ],
            [
             0.8,
             "#7fbc41"
            ],
            [
             0.9,
             "#4d9221"
            ],
            [
             1,
             "#276419"
            ]
           ],
           "sequential": [
            [
             0,
             "#0d0887"
            ],
            [
             0.1111111111111111,
             "#46039f"
            ],
            [
             0.2222222222222222,
             "#7201a8"
            ],
            [
             0.3333333333333333,
             "#9c179e"
            ],
            [
             0.4444444444444444,
             "#bd3786"
            ],
            [
             0.5555555555555556,
             "#d8576b"
            ],
            [
             0.6666666666666666,
             "#ed7953"
            ],
            [
             0.7777777777777778,
             "#fb9f3a"
            ],
            [
             0.8888888888888888,
             "#fdca26"
            ],
            [
             1,
             "#f0f921"
            ]
           ],
           "sequentialminus": [
            [
             0,
             "#0d0887"
            ],
            [
             0.1111111111111111,
             "#46039f"
            ],
            [
             0.2222222222222222,
             "#7201a8"
            ],
            [
             0.3333333333333333,
             "#9c179e"
            ],
            [
             0.4444444444444444,
             "#bd3786"
            ],
            [
             0.5555555555555556,
             "#d8576b"
            ],
            [
             0.6666666666666666,
             "#ed7953"
            ],
            [
             0.7777777777777778,
             "#fb9f3a"
            ],
            [
             0.8888888888888888,
             "#fdca26"
            ],
            [
             1,
             "#f0f921"
            ]
           ]
          },
          "colorway": [
           "#636efa",
           "#EF553B",
           "#00cc96",
           "#ab63fa",
           "#FFA15A",
           "#19d3f3",
           "#FF6692",
           "#B6E880",
           "#FF97FF",
           "#FECB52"
          ],
          "font": {
           "color": "#2a3f5f"
          },
          "geo": {
           "bgcolor": "white",
           "lakecolor": "white",
           "landcolor": "#E5ECF6",
           "showlakes": true,
           "showland": true,
           "subunitcolor": "white"
          },
          "hoverlabel": {
           "align": "left"
          },
          "hovermode": "closest",
          "mapbox": {
           "style": "light"
          },
          "paper_bgcolor": "white",
          "plot_bgcolor": "#E5ECF6",
          "polar": {
           "angularaxis": {
            "gridcolor": "white",
            "linecolor": "white",
            "ticks": ""
           },
           "bgcolor": "#E5ECF6",
           "radialaxis": {
            "gridcolor": "white",
            "linecolor": "white",
            "ticks": ""
           }
          },
          "scene": {
           "xaxis": {
            "backgroundcolor": "#E5ECF6",
            "gridcolor": "white",
            "gridwidth": 2,
            "linecolor": "white",
            "showbackground": true,
            "ticks": "",
            "zerolinecolor": "white"
           },
           "yaxis": {
            "backgroundcolor": "#E5ECF6",
            "gridcolor": "white",
            "gridwidth": 2,
            "linecolor": "white",
            "showbackground": true,
            "ticks": "",
            "zerolinecolor": "white"
           },
           "zaxis": {
            "backgroundcolor": "#E5ECF6",
            "gridcolor": "white",
            "gridwidth": 2,
            "linecolor": "white",
            "showbackground": true,
            "ticks": "",
            "zerolinecolor": "white"
           }
          },
          "shapedefaults": {
           "line": {
            "color": "#2a3f5f"
           }
          },
          "ternary": {
           "aaxis": {
            "gridcolor": "white",
            "linecolor": "white",
            "ticks": ""
           },
           "baxis": {
            "gridcolor": "white",
            "linecolor": "white",
            "ticks": ""
           },
           "bgcolor": "#E5ECF6",
           "caxis": {
            "gridcolor": "white",
            "linecolor": "white",
            "ticks": ""
           }
          },
          "title": {
           "x": 0.05
          },
          "xaxis": {
           "automargin": true,
           "gridcolor": "white",
           "linecolor": "white",
           "ticks": "",
           "title": {
            "standoff": 15
           },
           "zerolinecolor": "white",
           "zerolinewidth": 2
          },
          "yaxis": {
           "automargin": true,
           "gridcolor": "white",
           "linecolor": "white",
           "ticks": "",
           "title": {
            "standoff": 15
           },
           "zerolinecolor": "white",
           "zerolinewidth": 2
          }
         }
        },
        "title": {
         "font": {
          "family": "Times New Roman",
          "size": 24
         },
         "text": "Fear Ratings by Subject: Spiders",
         "x": 0.5,
         "y": 0.95
        },
        "width": 500,
        "xaxis": {
         "anchor": "y",
         "domain": [
          0,
          1
         ],
         "linecolor": "black",
         "linewidth": 2,
         "nticks": 24,
         "range": [
          0.5,
          12.5
         ],
         "showgrid": false,
         "showline": true,
         "tickfont": {
          "size": 18
         },
         "title": {
          "font": {
           "size": 22
          },
          "text": "Videos"
         },
         "zeroline": false
        },
        "yaxis": {
         "anchor": "x",
         "domain": [
          0,
          1
         ],
         "linecolor": "black",
         "linewidth": 2,
         "range": [
          -0.1,
          1.1
         ],
         "showgrid": true,
         "showline": true,
         "tickfont": {
          "size": 18
         },
         "title": {
          "font": {
           "size": 22
          },
          "text": "Fear ratings"
         },
         "zeroline": false
        }
       }
      },
      "text/html": [
       "<div>                            <div id=\"f0814eb3-0504-401a-bfaa-797b48641fe6\" class=\"plotly-graph-div\" style=\"height:400px; width:500px;\"></div>            <script type=\"text/javascript\">                require([\"plotly\"], function(Plotly) {                    window.PLOTLYENV=window.PLOTLYENV || {};                                    if (document.getElementById(\"f0814eb3-0504-401a-bfaa-797b48641fe6\")) {                    Plotly.newPlot(                        \"f0814eb3-0504-401a-bfaa-797b48641fe6\",                        [{\"hovertemplate\":\"sub_id=04<br>video_order=%{x}<br>fear=%{y}<extra></extra>\",\"legendgroup\":\"04\",\"line\":{\"color\":\"#636efa\",\"dash\":\"solid\"},\"marker\":{\"symbol\":\"circle\"},\"mode\":\"lines\",\"name\":\"04\",\"orientation\":\"v\",\"showlegend\":true,\"type\":\"scatter\",\"x\":[1,2,3,4,5,6,7,8,9,10,11,12],\"xaxis\":\"x\",\"y\":[0.0,0.286,0.296,0.353,0.483,0.62,0.636,0.683,0.753,0.865,0.945,0.974],\"yaxis\":\"y\"},{\"hovertemplate\":\"sub_id=05<br>video_order=%{x}<br>fear=%{y}<extra></extra>\",\"legendgroup\":\"05\",\"line\":{\"color\":\"#EF553B\",\"dash\":\"solid\"},\"marker\":{\"symbol\":\"circle\"},\"mode\":\"lines\",\"name\":\"05\",\"orientation\":\"v\",\"showlegend\":true,\"type\":\"scatter\",\"x\":[1,2,3,4,5,6,7,8,9,10,11,12],\"xaxis\":\"x\",\"y\":[0.004,0.021,0.023,0.023,0.026,0.034,0.132,0.251,0.301,0.329,0.332,0.404],\"yaxis\":\"y\"},{\"hovertemplate\":\"sub_id=06<br>video_order=%{x}<br>fear=%{y}<extra></extra>\",\"legendgroup\":\"06\",\"line\":{\"color\":\"#00cc96\",\"dash\":\"solid\"},\"marker\":{\"symbol\":\"circle\"},\"mode\":\"lines\",\"name\":\"06\",\"orientation\":\"v\",\"showlegend\":true,\"type\":\"scatter\",\"x\":[1,2,3,4,5,6,7,8,9,10,11,12],\"xaxis\":\"x\",\"y\":[0.0,0.126,0.171,0.23,0.254,0.382,0.589,0.633,0.695,0.698,0.786,0.805],\"yaxis\":\"y\"},{\"hovertemplate\":\"sub_id=07<br>video_order=%{x}<br>fear=%{y}<extra></extra>\",\"legendgroup\":\"07\",\"line\":{\"color\":\"#ab63fa\",\"dash\":\"solid\"},\"marker\":{\"symbol\":\"circle\"},\"mode\":\"lines\",\"name\":\"07\",\"orientation\":\"v\",\"showlegend\":true,\"type\":\"scatter\",\"x\":[1,2,3,4,5,6,7,8,9,10,11,12],\"xaxis\":\"x\",\"y\":[0.0,0.044,0.07,0.082,0.085,0.111,0.137,0.221,0.246,0.272,0.709,0.872],\"yaxis\":\"y\"},{\"hovertemplate\":\"sub_id=08<br>video_order=%{x}<br>fear=%{y}<extra></extra>\",\"legendgroup\":\"08\",\"line\":{\"color\":\"#FFA15A\",\"dash\":\"solid\"},\"marker\":{\"symbol\":\"circle\"},\"mode\":\"lines\",\"name\":\"08\",\"orientation\":\"v\",\"showlegend\":true,\"type\":\"scatter\",\"x\":[1,2,3,4,5,6,7,8,9,10,11,12],\"xaxis\":\"x\",\"y\":[0.0,0.0,0.0,0.114,0.171,0.352,0.773,0.859,0.922,1.0,1.0,1.0],\"yaxis\":\"y\"},{\"hovertemplate\":\"sub_id=09<br>video_order=%{x}<br>fear=%{y}<extra></extra>\",\"legendgroup\":\"09\",\"line\":{\"color\":\"#19d3f3\",\"dash\":\"solid\"},\"marker\":{\"symbol\":\"circle\"},\"mode\":\"lines\",\"name\":\"09\",\"orientation\":\"v\",\"showlegend\":true,\"type\":\"scatter\",\"x\":[1,2,3,4,5,6,7,8,9,10,11,12],\"xaxis\":\"x\",\"y\":[0.048,0.056,0.07,0.101,0.181,0.225,0.23,0.288,0.405,0.582,0.584,0.6],\"yaxis\":\"y\"},{\"hovertemplate\":\"sub_id=10<br>video_order=%{x}<br>fear=%{y}<extra></extra>\",\"legendgroup\":\"10\",\"line\":{\"color\":\"#FF6692\",\"dash\":\"solid\"},\"marker\":{\"symbol\":\"circle\"},\"mode\":\"lines\",\"name\":\"10\",\"orientation\":\"v\",\"showlegend\":true,\"type\":\"scatter\",\"x\":[1,2,3,4,5,6,7,8,9,10,11,12],\"xaxis\":\"x\",\"y\":[0.0,0.0,0.004,0.005,0.007,0.098,0.254,0.499,0.564,0.625,0.703,0.738],\"yaxis\":\"y\"},{\"hovertemplate\":\"sub_id=11<br>video_order=%{x}<br>fear=%{y}<extra></extra>\",\"legendgroup\":\"11\",\"line\":{\"color\":\"#B6E880\",\"dash\":\"solid\"},\"marker\":{\"symbol\":\"circle\"},\"mode\":\"lines\",\"name\":\"11\",\"orientation\":\"v\",\"showlegend\":true,\"type\":\"scatter\",\"x\":[1,2,3,4,5,6,7,8,9,10,11,12],\"xaxis\":\"x\",\"y\":[0.059,0.101,0.103,0.104,0.106,0.116,0.142,0.225,0.343,0.366,0.454,0.618],\"yaxis\":\"y\"},{\"hovertemplate\":\"sub_id=12<br>video_order=%{x}<br>fear=%{y}<extra></extra>\",\"legendgroup\":\"12\",\"line\":{\"color\":\"#FF97FF\",\"dash\":\"solid\"},\"marker\":{\"symbol\":\"circle\"},\"mode\":\"lines\",\"name\":\"12\",\"orientation\":\"v\",\"showlegend\":true,\"type\":\"scatter\",\"x\":[1,2,3,4,5,6,7,8,9,10,11,12],\"xaxis\":\"x\",\"y\":[0.147,0.236,0.27,0.316,0.327,0.335,0.361,0.363,0.407,0.574,0.579,0.646],\"yaxis\":\"y\"},{\"hovertemplate\":\"sub_id=13<br>video_order=%{x}<br>fear=%{y}<extra></extra>\",\"legendgroup\":\"13\",\"line\":{\"color\":\"#FECB52\",\"dash\":\"solid\"},\"marker\":{\"symbol\":\"circle\"},\"mode\":\"lines\",\"name\":\"13\",\"orientation\":\"v\",\"showlegend\":true,\"type\":\"scatter\",\"x\":[1,2,3,4,5,6,7,8,9,10,11,12],\"xaxis\":\"x\",\"y\":[0.083,0.106,0.139,0.145,0.152,0.156,0.168,0.265,0.316,0.335,0.607,0.613],\"yaxis\":\"y\"},{\"hovertemplate\":\"sub_id=14<br>video_order=%{x}<br>fear=%{y}<extra></extra>\",\"legendgroup\":\"14\",\"line\":{\"color\":\"#636efa\",\"dash\":\"solid\"},\"marker\":{\"symbol\":\"circle\"},\"mode\":\"lines\",\"name\":\"14\",\"orientation\":\"v\",\"showlegend\":true,\"type\":\"scatter\",\"x\":[1,2,3,4,5,6,7,8,9,10,11,12],\"xaxis\":\"x\",\"y\":[0.343,0.374,0.431,0.61,0.654,0.706,0.914,1.0,1.0,1.0,1.0,1.0],\"yaxis\":\"y\"},{\"hovertemplate\":\"sub_id=15<br>video_order=%{x}<br>fear=%{y}<extra></extra>\",\"legendgroup\":\"15\",\"line\":{\"color\":\"#EF553B\",\"dash\":\"solid\"},\"marker\":{\"symbol\":\"circle\"},\"mode\":\"lines\",\"name\":\"15\",\"orientation\":\"v\",\"showlegend\":true,\"type\":\"scatter\",\"x\":[1,2,3,4,5,6,7,8,9,10,11,12],\"xaxis\":\"x\",\"y\":[0.0,0.116,0.296,0.548,0.664,0.683,0.696,0.722,0.878,0.9104687109578861,0.917,0.924],\"yaxis\":\"y\"},{\"hovertemplate\":\"sub_id=16<br>video_order=%{x}<br>fear=%{y}<extra></extra>\",\"legendgroup\":\"16\",\"line\":{\"color\":\"#00cc96\",\"dash\":\"solid\"},\"marker\":{\"symbol\":\"circle\"},\"mode\":\"lines\",\"name\":\"16\",\"orientation\":\"v\",\"showlegend\":true,\"type\":\"scatter\",\"x\":[1,2,3,4,5,6,7,8,9,10,11,12],\"xaxis\":\"x\",\"y\":[0.0,0.0,0.0,0.0,0.0,0.0,0.0,0.0,0.0,0.111,0.491,0.594],\"yaxis\":\"y\"},{\"hovertemplate\":\"sub_id=17<br>video_order=%{x}<br>fear=%{y}<extra></extra>\",\"legendgroup\":\"17\",\"line\":{\"color\":\"#ab63fa\",\"dash\":\"solid\"},\"marker\":{\"symbol\":\"circle\"},\"mode\":\"lines\",\"name\":\"17\",\"orientation\":\"v\",\"showlegend\":true,\"type\":\"scatter\",\"x\":[1,2,3,4,5,6,7,8,9,10,11,12],\"xaxis\":\"x\",\"y\":[0.0,0.0,0.0,0.002,0.02,0.021,0.038,0.07,0.098,0.103,0.104,0.104],\"yaxis\":\"y\"},{\"hovertemplate\":\"sub_id=18<br>video_order=%{x}<br>fear=%{y}<extra></extra>\",\"legendgroup\":\"18\",\"line\":{\"color\":\"#FFA15A\",\"dash\":\"solid\"},\"marker\":{\"symbol\":\"circle\"},\"mode\":\"lines\",\"name\":\"18\",\"orientation\":\"v\",\"showlegend\":true,\"type\":\"scatter\",\"x\":[1,2,3,4,5,6,7,8,9,10,11,12],\"xaxis\":\"x\",\"y\":[0.0,0.0,0.0,0.0,0.0,0.023,0.132,0.594,0.659,0.686,0.721,0.803],\"yaxis\":\"y\"},{\"hovertemplate\":\"sub_id=19<br>video_order=%{x}<br>fear=%{y}<extra></extra>\",\"legendgroup\":\"19\",\"line\":{\"color\":\"#19d3f3\",\"dash\":\"solid\"},\"marker\":{\"symbol\":\"circle\"},\"mode\":\"lines\",\"name\":\"19\",\"orientation\":\"v\",\"showlegend\":true,\"type\":\"scatter\",\"x\":[1,2,3,4,5,6,7,8,9,10,11,12],\"xaxis\":\"x\",\"y\":[0.0,0.0,0.0,0.0,0.0,0.0,0.0,0.0,0.0,0.0,0.005,0.00593084307244635],\"yaxis\":\"y\"},{\"hovertemplate\":\"sub_id=23<br>video_order=%{x}<br>fear=%{y}<extra></extra>\",\"legendgroup\":\"23\",\"line\":{\"color\":\"#FF6692\",\"dash\":\"solid\"},\"marker\":{\"symbol\":\"circle\"},\"mode\":\"lines\",\"name\":\"23\",\"orientation\":\"v\",\"showlegend\":true,\"type\":\"scatter\",\"x\":[1,2,3,4,5,6,7,8,9,10,11,12],\"xaxis\":\"x\",\"y\":[0.087,0.126,0.126,0.293,0.443,0.478,0.504,0.548,0.615,0.631,0.712,0.826],\"yaxis\":\"y\"},{\"hovertemplate\":\"sub_id=25<br>video_order=%{x}<br>fear=%{y}<extra></extra>\",\"legendgroup\":\"25\",\"line\":{\"color\":\"#B6E880\",\"dash\":\"solid\"},\"marker\":{\"symbol\":\"circle\"},\"mode\":\"lines\",\"name\":\"25\",\"orientation\":\"v\",\"showlegend\":true,\"type\":\"scatter\",\"x\":[1,2,3,4,5,6,7,8,9,10,11,12],\"xaxis\":\"x\",\"y\":[0.304,0.391,0.935,0.96,1.0,1.0,1.0,1.0,1.0,1.0,1.0,1.0],\"yaxis\":\"y\"},{\"hovertemplate\":\"sub_id=26<br>video_order=%{x}<br>fear=%{y}<extra></extra>\",\"legendgroup\":\"26\",\"line\":{\"color\":\"#FF97FF\",\"dash\":\"solid\"},\"marker\":{\"symbol\":\"circle\"},\"mode\":\"lines\",\"name\":\"26\",\"orientation\":\"v\",\"showlegend\":true,\"type\":\"scatter\",\"x\":[1,2,3,4,5,6,7,8,9,10,11,12],\"xaxis\":\"x\",\"y\":[0.069,0.083,0.091,0.095,0.114,0.129,0.132,0.147,0.1932891370012494,0.343,0.386,0.4014223743931176],\"yaxis\":\"y\"},{\"hovertemplate\":\"sub_id=28<br>video_order=%{x}<br>fear=%{y}<extra></extra>\",\"legendgroup\":\"28\",\"line\":{\"color\":\"#FECB52\",\"dash\":\"solid\"},\"marker\":{\"symbol\":\"circle\"},\"mode\":\"lines\",\"name\":\"28\",\"orientation\":\"v\",\"showlegend\":true,\"type\":\"scatter\",\"x\":[1,2,3,4,5,6,7,8,9,10,11,12],\"xaxis\":\"x\",\"y\":[0.35649309695886644,0.672,0.685,0.808,0.831,0.857,0.907,0.924,0.984,1.0,1.0,1.0],\"yaxis\":\"y\"},{\"hovertemplate\":\"sub_id=29<br>video_order=%{x}<br>fear=%{y}<extra></extra>\",\"legendgroup\":\"29\",\"line\":{\"color\":\"#636efa\",\"dash\":\"solid\"},\"marker\":{\"symbol\":\"circle\"},\"mode\":\"lines\",\"name\":\"29\",\"orientation\":\"v\",\"showlegend\":true,\"type\":\"scatter\",\"x\":[1,2,3,4,5,6,7,8,9,10,11,12],\"xaxis\":\"x\",\"y\":[0.23,0.387,0.404,0.46,0.465,0.473,0.493,0.509,0.517,0.535,0.535,0.547],\"yaxis\":\"y\"}],                        {\"height\":400,\"legend\":{\"title\":{\"text\":\"sub_id\"},\"tracegroupgap\":0},\"margin\":{\"t\":60},\"showlegend\":false,\"template\":{\"data\":{\"bar\":[{\"error_x\":{\"color\":\"#2a3f5f\"},\"error_y\":{\"color\":\"#2a3f5f\"},\"marker\":{\"line\":{\"color\":\"#E5ECF6\",\"width\":0.5},\"pattern\":{\"fillmode\":\"overlay\",\"size\":10,\"solidity\":0.2}},\"type\":\"bar\"}],\"barpolar\":[{\"marker\":{\"line\":{\"color\":\"#E5ECF6\",\"width\":0.5},\"pattern\":{\"fillmode\":\"overlay\",\"size\":10,\"solidity\":0.2}},\"type\":\"barpolar\"}],\"carpet\":[{\"aaxis\":{\"endlinecolor\":\"#2a3f5f\",\"gridcolor\":\"white\",\"linecolor\":\"white\",\"minorgridcolor\":\"white\",\"startlinecolor\":\"#2a3f5f\"},\"baxis\":{\"endlinecolor\":\"#2a3f5f\",\"gridcolor\":\"white\",\"linecolor\":\"white\",\"minorgridcolor\":\"white\",\"startlinecolor\":\"#2a3f5f\"},\"type\":\"carpet\"}],\"choropleth\":[{\"colorbar\":{\"outlinewidth\":0,\"ticks\":\"\"},\"type\":\"choropleth\"}],\"contour\":[{\"colorbar\":{\"outlinewidth\":0,\"ticks\":\"\"},\"colorscale\":[[0.0,\"#0d0887\"],[0.1111111111111111,\"#46039f\"],[0.2222222222222222,\"#7201a8\"],[0.3333333333333333,\"#9c179e\"],[0.4444444444444444,\"#bd3786\"],[0.5555555555555556,\"#d8576b\"],[0.6666666666666666,\"#ed7953\"],[0.7777777777777778,\"#fb9f3a\"],[0.8888888888888888,\"#fdca26\"],[1.0,\"#f0f921\"]],\"type\":\"contour\"}],\"contourcarpet\":[{\"colorbar\":{\"outlinewidth\":0,\"ticks\":\"\"},\"type\":\"contourcarpet\"}],\"heatmap\":[{\"colorbar\":{\"outlinewidth\":0,\"ticks\":\"\"},\"colorscale\":[[0.0,\"#0d0887\"],[0.1111111111111111,\"#46039f\"],[0.2222222222222222,\"#7201a8\"],[0.3333333333333333,\"#9c179e\"],[0.4444444444444444,\"#bd3786\"],[0.5555555555555556,\"#d8576b\"],[0.6666666666666666,\"#ed7953\"],[0.7777777777777778,\"#fb9f3a\"],[0.8888888888888888,\"#fdca26\"],[1.0,\"#f0f921\"]],\"type\":\"heatmap\"}],\"heatmapgl\":[{\"colorbar\":{\"outlinewidth\":0,\"ticks\":\"\"},\"colorscale\":[[0.0,\"#0d0887\"],[0.1111111111111111,\"#46039f\"],[0.2222222222222222,\"#7201a8\"],[0.3333333333333333,\"#9c179e\"],[0.4444444444444444,\"#bd3786\"],[0.5555555555555556,\"#d8576b\"],[0.6666666666666666,\"#ed7953\"],[0.7777777777777778,\"#fb9f3a\"],[0.8888888888888888,\"#fdca26\"],[1.0,\"#f0f921\"]],\"type\":\"heatmapgl\"}],\"histogram\":[{\"marker\":{\"pattern\":{\"fillmode\":\"overlay\",\"size\":10,\"solidity\":0.2}},\"type\":\"histogram\"}],\"histogram2d\":[{\"colorbar\":{\"outlinewidth\":0,\"ticks\":\"\"},\"colorscale\":[[0.0,\"#0d0887\"],[0.1111111111111111,\"#46039f\"],[0.2222222222222222,\"#7201a8\"],[0.3333333333333333,\"#9c179e\"],[0.4444444444444444,\"#bd3786\"],[0.5555555555555556,\"#d8576b\"],[0.6666666666666666,\"#ed7953\"],[0.7777777777777778,\"#fb9f3a\"],[0.8888888888888888,\"#fdca26\"],[1.0,\"#f0f921\"]],\"type\":\"histogram2d\"}],\"histogram2dcontour\":[{\"colorbar\":{\"outlinewidth\":0,\"ticks\":\"\"},\"colorscale\":[[0.0,\"#0d0887\"],[0.1111111111111111,\"#46039f\"],[0.2222222222222222,\"#7201a8\"],[0.3333333333333333,\"#9c179e\"],[0.4444444444444444,\"#bd3786\"],[0.5555555555555556,\"#d8576b\"],[0.6666666666666666,\"#ed7953\"],[0.7777777777777778,\"#fb9f3a\"],[0.8888888888888888,\"#fdca26\"],[1.0,\"#f0f921\"]],\"type\":\"histogram2dcontour\"}],\"mesh3d\":[{\"colorbar\":{\"outlinewidth\":0,\"ticks\":\"\"},\"type\":\"mesh3d\"}],\"parcoords\":[{\"line\":{\"colorbar\":{\"outlinewidth\":0,\"ticks\":\"\"}},\"type\":\"parcoords\"}],\"pie\":[{\"automargin\":true,\"type\":\"pie\"}],\"scatter\":[{\"marker\":{\"colorbar\":{\"outlinewidth\":0,\"ticks\":\"\"}},\"type\":\"scatter\"}],\"scatter3d\":[{\"line\":{\"colorbar\":{\"outlinewidth\":0,\"ticks\":\"\"}},\"marker\":{\"colorbar\":{\"outlinewidth\":0,\"ticks\":\"\"}},\"type\":\"scatter3d\"}],\"scattercarpet\":[{\"marker\":{\"colorbar\":{\"outlinewidth\":0,\"ticks\":\"\"}},\"type\":\"scattercarpet\"}],\"scattergeo\":[{\"marker\":{\"colorbar\":{\"outlinewidth\":0,\"ticks\":\"\"}},\"type\":\"scattergeo\"}],\"scattergl\":[{\"marker\":{\"colorbar\":{\"outlinewidth\":0,\"ticks\":\"\"}},\"type\":\"scattergl\"}],\"scattermapbox\":[{\"marker\":{\"colorbar\":{\"outlinewidth\":0,\"ticks\":\"\"}},\"type\":\"scattermapbox\"}],\"scatterpolar\":[{\"marker\":{\"colorbar\":{\"outlinewidth\":0,\"ticks\":\"\"}},\"type\":\"scatterpolar\"}],\"scatterpolargl\":[{\"marker\":{\"colorbar\":{\"outlinewidth\":0,\"ticks\":\"\"}},\"type\":\"scatterpolargl\"}],\"scatterternary\":[{\"marker\":{\"colorbar\":{\"outlinewidth\":0,\"ticks\":\"\"}},\"type\":\"scatterternary\"}],\"surface\":[{\"colorbar\":{\"outlinewidth\":0,\"ticks\":\"\"},\"colorscale\":[[0.0,\"#0d0887\"],[0.1111111111111111,\"#46039f\"],[0.2222222222222222,\"#7201a8\"],[0.3333333333333333,\"#9c179e\"],[0.4444444444444444,\"#bd3786\"],[0.5555555555555556,\"#d8576b\"],[0.6666666666666666,\"#ed7953\"],[0.7777777777777778,\"#fb9f3a\"],[0.8888888888888888,\"#fdca26\"],[1.0,\"#f0f921\"]],\"type\":\"surface\"}],\"table\":[{\"cells\":{\"fill\":{\"color\":\"#EBF0F8\"},\"line\":{\"color\":\"white\"}},\"header\":{\"fill\":{\"color\":\"#C8D4E3\"},\"line\":{\"color\":\"white\"}},\"type\":\"table\"}]},\"layout\":{\"annotationdefaults\":{\"arrowcolor\":\"#2a3f5f\",\"arrowhead\":0,\"arrowwidth\":1},\"autotypenumbers\":\"strict\",\"coloraxis\":{\"colorbar\":{\"outlinewidth\":0,\"ticks\":\"\"}},\"colorscale\":{\"diverging\":[[0,\"#8e0152\"],[0.1,\"#c51b7d\"],[0.2,\"#de77ae\"],[0.3,\"#f1b6da\"],[0.4,\"#fde0ef\"],[0.5,\"#f7f7f7\"],[0.6,\"#e6f5d0\"],[0.7,\"#b8e186\"],[0.8,\"#7fbc41\"],[0.9,\"#4d9221\"],[1,\"#276419\"]],\"sequential\":[[0.0,\"#0d0887\"],[0.1111111111111111,\"#46039f\"],[0.2222222222222222,\"#7201a8\"],[0.3333333333333333,\"#9c179e\"],[0.4444444444444444,\"#bd3786\"],[0.5555555555555556,\"#d8576b\"],[0.6666666666666666,\"#ed7953\"],[0.7777777777777778,\"#fb9f3a\"],[0.8888888888888888,\"#fdca26\"],[1.0,\"#f0f921\"]],\"sequentialminus\":[[0.0,\"#0d0887\"],[0.1111111111111111,\"#46039f\"],[0.2222222222222222,\"#7201a8\"],[0.3333333333333333,\"#9c179e\"],[0.4444444444444444,\"#bd3786\"],[0.5555555555555556,\"#d8576b\"],[0.6666666666666666,\"#ed7953\"],[0.7777777777777778,\"#fb9f3a\"],[0.8888888888888888,\"#fdca26\"],[1.0,\"#f0f921\"]]},\"colorway\":[\"#636efa\",\"#EF553B\",\"#00cc96\",\"#ab63fa\",\"#FFA15A\",\"#19d3f3\",\"#FF6692\",\"#B6E880\",\"#FF97FF\",\"#FECB52\"],\"font\":{\"color\":\"#2a3f5f\"},\"geo\":{\"bgcolor\":\"white\",\"lakecolor\":\"white\",\"landcolor\":\"#E5ECF6\",\"showlakes\":true,\"showland\":true,\"subunitcolor\":\"white\"},\"hoverlabel\":{\"align\":\"left\"},\"hovermode\":\"closest\",\"mapbox\":{\"style\":\"light\"},\"paper_bgcolor\":\"white\",\"plot_bgcolor\":\"#E5ECF6\",\"polar\":{\"angularaxis\":{\"gridcolor\":\"white\",\"linecolor\":\"white\",\"ticks\":\"\"},\"bgcolor\":\"#E5ECF6\",\"radialaxis\":{\"gridcolor\":\"white\",\"linecolor\":\"white\",\"ticks\":\"\"}},\"scene\":{\"xaxis\":{\"backgroundcolor\":\"#E5ECF6\",\"gridcolor\":\"white\",\"gridwidth\":2,\"linecolor\":\"white\",\"showbackground\":true,\"ticks\":\"\",\"zerolinecolor\":\"white\"},\"yaxis\":{\"backgroundcolor\":\"#E5ECF6\",\"gridcolor\":\"white\",\"gridwidth\":2,\"linecolor\":\"white\",\"showbackground\":true,\"ticks\":\"\",\"zerolinecolor\":\"white\"},\"zaxis\":{\"backgroundcolor\":\"#E5ECF6\",\"gridcolor\":\"white\",\"gridwidth\":2,\"linecolor\":\"white\",\"showbackground\":true,\"ticks\":\"\",\"zerolinecolor\":\"white\"}},\"shapedefaults\":{\"line\":{\"color\":\"#2a3f5f\"}},\"ternary\":{\"aaxis\":{\"gridcolor\":\"white\",\"linecolor\":\"white\",\"ticks\":\"\"},\"baxis\":{\"gridcolor\":\"white\",\"linecolor\":\"white\",\"ticks\":\"\"},\"bgcolor\":\"#E5ECF6\",\"caxis\":{\"gridcolor\":\"white\",\"linecolor\":\"white\",\"ticks\":\"\"}},\"title\":{\"x\":0.05},\"xaxis\":{\"automargin\":true,\"gridcolor\":\"white\",\"linecolor\":\"white\",\"ticks\":\"\",\"title\":{\"standoff\":15},\"zerolinecolor\":\"white\",\"zerolinewidth\":2},\"yaxis\":{\"automargin\":true,\"gridcolor\":\"white\",\"linecolor\":\"white\",\"ticks\":\"\",\"title\":{\"standoff\":15},\"zerolinecolor\":\"white\",\"zerolinewidth\":2}}},\"title\":{\"font\":{\"family\":\"Times New Roman\",\"size\":24},\"text\":\"Fear Ratings by Subject: Spiders\",\"x\":0.5,\"y\":0.95},\"width\":500,\"xaxis\":{\"anchor\":\"y\",\"domain\":[0.0,1.0],\"linecolor\":\"black\",\"linewidth\":2,\"nticks\":24,\"range\":[0.5,12.5],\"showgrid\":false,\"showline\":true,\"tickfont\":{\"size\":18},\"title\":{\"font\":{\"size\":22},\"text\":\"Videos\"},\"zeroline\":false},\"yaxis\":{\"anchor\":\"x\",\"domain\":[0.0,1.0],\"linecolor\":\"black\",\"linewidth\":2,\"range\":[-0.1,1.1],\"showgrid\":true,\"showline\":true,\"tickfont\":{\"size\":18},\"title\":{\"font\":{\"size\":22},\"text\":\"Fear ratings\"},\"zeroline\":false}},                        {\"responsive\": true}                    ).then(function(){\n",
       "                            \n",
       "var gd = document.getElementById('f0814eb3-0504-401a-bfaa-797b48641fe6');\n",
       "var x = new MutationObserver(function (mutations, observer) {{\n",
       "        var display = window.getComputedStyle(gd).display;\n",
       "        if (!display || display === 'none') {{\n",
       "            console.log([gd, 'removed!']);\n",
       "            Plotly.purge(gd);\n",
       "            observer.disconnect();\n",
       "        }}\n",
       "}});\n",
       "\n",
       "// Listen for the removal of the full notebook cells\n",
       "var notebookContainer = gd.closest('#notebook-container');\n",
       "if (notebookContainer) {{\n",
       "    x.observe(notebookContainer, {childList: true});\n",
       "}}\n",
       "\n",
       "// Listen for the clearing of the current output cell\n",
       "var outputEl = gd.closest('.output');\n",
       "if (outputEl) {{\n",
       "    x.observe(outputEl, {childList: true});\n",
       "}}\n",
       "\n",
       "                        })                };                });            </script>        </div>"
      ]
     },
     "metadata": {},
     "output_type": "display_data"
    }
   ],
   "source": [
    "# sort everyone's rating\n",
    "# then make line plot per person\n",
    "\n",
    "sorted_ratings = all_sub_df.sort_values(by =['sub_id','video_category','fear'])\n",
    "\n",
    "import plotly.express as px\n",
    "for category in np.unique(sorted_ratings['category']):\n",
    "    plot_df = sorted_ratings[sorted_ratings.category==category]\n",
    "    plot_df['video_order']=np.tile(range(1,13), len(subjects_list))\n",
    "    \n",
    "    fig = px.line(plot_df, x='video_order', y='fear', color='sub_id', markers=False,width=500, height=400)\n",
    "    fig.update_layout(xaxis_title=\"Videos\", \n",
    "                      yaxis_title=\"Fear ratings\",\n",
    "                        title=dict(text=f\"Fear Ratings by Subject: {category}\", x=0.5, y=0.95,\n",
    "                                   font=dict(size=24)))\n",
    "    fig.update_xaxes(showline=True, linewidth=2, linecolor='black',showgrid=False, zeroline=False, range=[0.5, 12.5],title_font=dict(size=22),tickfont=dict(size=18),nticks=24)\n",
    "    fig.update_yaxes(showline=True, linewidth=2, linecolor='black',showgrid=True, zeroline=False, range=[-0.1,1.1],title_font=dict(size=22),tickfont=dict(size=18))\n",
    "    \n",
    "\n",
    "    fig.update_layout(\n",
    "        title_font_family=\"Times New Roman\",showlegend=False\n",
    "    )\n",
    "    fig.show()\n",
    "    \n",
    "    "
   ]
  },
  {
   "cell_type": "code",
   "execution_count": 91,
   "metadata": {},
   "outputs": [
    {
     "data": {
      "image/png": "[encoded data removed]",
      "text/plain": [
       "<Figure size 1008x288 with 3 Axes>"
      ]
     },
     "metadata": {
      "needs_background": "light"
     },
     "output_type": "display_data"
    }
   ],
   "source": [
    "my_colors = ['#42AC65', '#F39C12', '#9C6CC7']\n",
    "import plotly.express as px\n",
    "import seaborn as sns\n",
    "import matplotlib.pyplot as plt\n",
    "fig, axes= plt.subplots(1, 3, figsize=(14,4))\n",
    "for n, category in enumerate(['Heights','Social','Spiders']):\n",
    "    plot_df = sorted_ratings[sorted_ratings.category==category]\n",
    "    plot_df['video_order']=np.tile(range(1,13), len(subjects_list))\n",
    "    c = my_colors[n]\n",
    "    sns.boxplot(data=plot_df, x='video_order', y='fear', color = c,ax=axes[n],linewidth=2, fliersize=8)\n",
    "    axes[n].set_title(category,fontsize =18)\n",
    "    #axes[n].set_xticks()\n",
    "    #axes[n].set_xticklabels(all_df[n]['video_num'].apply(int).apply(str),fontsize =14)\n",
    "\n",
    "    axes[n].set_ylim(-0.05,1.05)\n",
    "    plt.tight_layout()\n",
    "    plt.show   \n",
    "\n",
    "    \n",
    "for ax in axes.flat:\n",
    "    ax.set_xlabel('Video', fontsize=18)\n",
    "    ax.set_ylabel('Fear Ratings', fontsize=18) \n",
    "    \n",
    "for ax in axes.flat:\n",
    "       ax.label_outer()\n",
    "plt.subplots_adjust(wspace=0.1, hspace=0)"
   ]
  },
  {
   "cell_type": "code",
   "execution_count": null,
   "metadata": {},
   "outputs": [],
   "source": []
  },
  {
   "cell_type": "code",
   "execution_count": null,
   "metadata": {},
   "outputs": [],
   "source": []
  }
 ],
 "metadata": {
  "kernelspec": {
   "display_name": "Python 3",
   "language": "python",
   "name": "python3"
  },
  "language_info": {
   "codemirror_mode": {
    "name": "ipython",
    "version": 3
   },
   "file_extension": ".py",
   "mimetype": "text/x-python",
   "name": "python",
   "nbconvert_exporter": "python",
   "pygments_lexer": "ipython3",
   "version": "3.7.4"
  }
 },
 "nbformat": 4,
 "nbformat_minor": 4
}
